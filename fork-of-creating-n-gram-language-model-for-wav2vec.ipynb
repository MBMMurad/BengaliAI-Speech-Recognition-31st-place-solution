{
 "cells": [
  {
   "cell_type": "markdown",
   "id": "0537b2ba",
   "metadata": {
    "papermill": {
     "duration": 0.016844,
     "end_time": "2023-09-03T20:38:19.550546",
     "exception": false,
     "start_time": "2023-09-03T20:38:19.533702",
     "status": "completed"
    },
    "tags": []
   },
   "source": [
    "```\n",
    "N-gram language model can boost the performance of Wav2Vec2 model by a significant amount. In this notebook, we'll see how we can create an n-gram language model, combine it with a wav2vec2 model and the difference it makes in the performance of the wav2vec2 model.\n",
    "```"
   ]
  },
  {
   "cell_type": "markdown",
   "id": "c2b89b6e",
   "metadata": {
    "papermill": {
     "duration": 0.017115,
     "end_time": "2023-09-03T20:38:19.584028",
     "exception": false,
     "start_time": "2023-09-03T20:38:19.566913",
     "status": "completed"
    },
    "tags": []
   },
   "source": [
    "# What is n-gram Language Model?\n",
    "\n",
    "```\n",
    "N-gram language models are a type of probabilistic language model where \"n\" represents the number of consecutive items (usually words or characters) in a sequence. For instance, a unigram is a single word, a bigram is a pair of consecutive words, a trigram is a sequence of three consecutive words, and so on. These models compute the likelihood of a word or character given the previous \"n-1\" words or characters. N-gram models estimate the probability distribution of sequences of words or characters based on the frequency of their occurrences in the training data.\n",
    "```\n",
    "\n",
    "\n",
    "**Suppose we have a sentence: \"The quick brown fox jumps over the lazy dog.\"**\n",
    "\n",
    "**Unigram (1-gram):**\n",
    "\n",
    "> \"The\", \"quick\", \"brown\", \"fox\", \"jumps\", \"over\", \"the\", \"lazy\", \"dog.\"\n",
    "\n",
    "**Bigram (2-gram):**\n",
    "\n",
    "> \"The quick\", \"quick brown\", \"brown fox\", \"fox jumps\", \"jumps over\", \"over the\", \"the lazy\", \"lazy dog.\"\n",
    "\n",
    "**Trigram (3-gram):**\n",
    "\n",
    "> \"The quick brown\", \"quick brown fox\", \"brown fox jumps\", \"fox jumps over\", \"jumps over the\", \"over the lazy\", \"the lazy dog.\"\n",
    "\n",
    "**4-gram (Quadgram):**\n",
    "\n",
    "> \"The quick brown fox\", \"quick brown fox jumps\", \"brown fox jumps over\", \"fox jumps over the\", \"jumps over the lazy\", \"over the lazy dog.\"\n",
    "\n",
    "Here, each word is predicted based on the three preceding words.\n",
    "\n",
    "**N-gram language models are trained on large text corpora to estimate the probabilities of these sequences**. This information is then used to predict the most likely word or character given the context. "
   ]
  },
  {
   "cell_type": "markdown",
   "id": "12096bb8",
   "metadata": {
    "papermill": {
     "duration": 0.01565,
     "end_time": "2023-09-03T20:38:19.615660",
     "exception": false,
     "start_time": "2023-09-03T20:38:19.600010",
     "status": "completed"
    },
    "tags": []
   },
   "source": [
    "# Why do we need Language Model here?"
   ]
  },
  {
   "cell_type": "markdown",
   "id": "1ec79ad7",
   "metadata": {
    "papermill": {
     "duration": 0.015668,
     "end_time": "2023-09-03T20:38:19.647695",
     "exception": false,
     "start_time": "2023-09-03T20:38:19.632027",
     "status": "completed"
    },
    "tags": []
   },
   "source": [
    "```\n",
    "Wav2vec2 is an acoustic model, that means it can map the speech audios with characters/phonemes. However, it might struggle with punctuations,spellings etc since these are not directly mapped with the audios/ different spellings might have the same or close pronunciation. In some cases, a character might be silence while pronunciation. \n",
    "```\n",
    "\n",
    "> For example, **'Knight' and 'Night'** have the same pronunciation, so the correct spelling will depend on the context.\n",
    "> **Homophones** : weak/week , too/two etc\n",
    "\n",
    "N-gram models can boost the performance of the acoustic models by leveraging it's linguistic charactersitics, by understanding the context and thus modify the words that seems to have the best probabilty to be in that place.\n"
   ]
  },
  {
   "cell_type": "markdown",
   "id": "290b743d",
   "metadata": {
    "papermill": {
     "duration": 0.015553,
     "end_time": "2023-09-03T20:38:19.679233",
     "exception": false,
     "start_time": "2023-09-03T20:38:19.663680",
     "status": "completed"
    },
    "tags": []
   },
   "source": [
    "[Reference tutorial to understand N-gram models and implementation](https://huggingface.co/blog/wav2vec2-with-ngram)"
   ]
  },
  {
   "cell_type": "markdown",
   "id": "d124ff0f",
   "metadata": {
    "papermill": {
     "duration": 0.015679,
     "end_time": "2023-09-03T20:38:19.710704",
     "exception": false,
     "start_time": "2023-09-03T20:38:19.695025",
     "status": "completed"
    },
    "tags": []
   },
   "source": [
    "# Installations"
   ]
  },
  {
   "cell_type": "code",
   "execution_count": 1,
   "id": "c461c7f5",
   "metadata": {
    "execution": {
     "iopub.execute_input": "2023-09-03T20:38:19.744745Z",
     "iopub.status.busy": "2023-09-03T20:38:19.744367Z",
     "iopub.status.idle": "2023-09-03T20:38:19.756097Z",
     "shell.execute_reply": "2023-09-03T20:38:19.755296Z"
    },
    "papermill": {
     "duration": 0.031368,
     "end_time": "2023-09-03T20:38:19.758372",
     "exception": false,
     "start_time": "2023-09-03T20:38:19.727004",
     "status": "completed"
    },
    "tags": []
   },
   "outputs": [],
   "source": [
    "import resource\n",
    "import os\n",
    "import pandas as pd"
   ]
  },
  {
   "cell_type": "code",
   "execution_count": 2,
   "id": "7fc5b598",
   "metadata": {
    "execution": {
     "iopub.execute_input": "2023-09-03T20:38:19.793109Z",
     "iopub.status.busy": "2023-09-03T20:38:19.792491Z",
     "iopub.status.idle": "2023-09-03T20:42:16.009972Z",
     "shell.execute_reply": "2023-09-03T20:42:16.008230Z"
    },
    "papermill": {
     "duration": 236.238896,
     "end_time": "2023-09-03T20:42:16.013478",
     "exception": false,
     "start_time": "2023-09-03T20:38:19.774582",
     "status": "completed"
    },
    "tags": []
   },
   "outputs": [],
   "source": [
    "%%capture ts\n",
    "!pip install jiwer\n",
    "!pip install bnunicodenormalizer\n",
    "!pip -q install https://github.com/kpu/kenlm/archive/master.zip pyctcdecode\n",
    "! sudo apt -y install build-essential cmake libboost-system-dev libboost-thread-dev libboost-program-options-dev libboost-test-dev libeigen3-dev zlib1g-dev libbz2-dev liblzma-dev\n",
    "! wget -O - https://kheafield.com/code/kenlm.tar.gz | tar xz\n",
    "! mkdir kenlm/build && cd kenlm/build && cmake .. && make -j2\n",
    "! ls kenlm/build/bin"
   ]
  },
  {
   "cell_type": "code",
   "execution_count": 3,
   "id": "d6f908d7",
   "metadata": {
    "execution": {
     "iopub.execute_input": "2023-09-03T20:42:16.049175Z",
     "iopub.status.busy": "2023-09-03T20:42:16.048701Z",
     "iopub.status.idle": "2023-09-03T20:42:16.065505Z",
     "shell.execute_reply": "2023-09-03T20:42:16.064392Z"
    },
    "papermill": {
     "duration": 0.038011,
     "end_time": "2023-09-03T20:42:16.068534",
     "exception": false,
     "start_time": "2023-09-03T20:42:16.030523",
     "status": "completed"
    },
    "tags": []
   },
   "outputs": [],
   "source": [
    "from bnunicodenormalizer import Normalizer \n",
    "bnorm = Normalizer()\n",
    "def normalize(sen):\n",
    "    _words = [bnorm(word)['normalized']  for word in sen.split()]\n",
    "    return \" \".join([word for word in _words if word is not None])"
   ]
  },
  {
   "cell_type": "markdown",
   "id": "519e3081",
   "metadata": {
    "papermill": {
     "duration": 0.016528,
     "end_time": "2023-09-03T20:42:16.101563",
     "exception": false,
     "start_time": "2023-09-03T20:42:16.085035",
     "status": "completed"
    },
    "tags": []
   },
   "source": [
    "# Load the Data"
   ]
  },
  {
   "cell_type": "markdown",
   "id": "17540015",
   "metadata": {
    "papermill": {
     "duration": 0.016261,
     "end_time": "2023-09-03T20:42:16.134417",
     "exception": false,
     "start_time": "2023-09-03T20:42:16.118156",
     "status": "completed"
    },
    "tags": []
   },
   "source": [
    "We'll be using all of our training sentences to build our 5-gram langauge model"
   ]
  },
  {
   "cell_type": "code",
   "execution_count": 4,
   "id": "b2284841",
   "metadata": {
    "execution": {
     "iopub.execute_input": "2023-09-03T20:42:16.168927Z",
     "iopub.status.busy": "2023-09-03T20:42:16.168536Z",
     "iopub.status.idle": "2023-09-03T20:42:22.315691Z",
     "shell.execute_reply": "2023-09-03T20:42:22.314867Z"
    },
    "papermill": {
     "duration": 6.168316,
     "end_time": "2023-09-03T20:42:22.319401",
     "exception": false,
     "start_time": "2023-09-03T20:42:16.151085",
     "status": "completed"
    },
    "tags": []
   },
   "outputs": [
    {
     "data": {
      "text/html": [
       "<div>\n",
       "<style scoped>\n",
       "    .dataframe tbody tr th:only-of-type {\n",
       "        vertical-align: middle;\n",
       "    }\n",
       "\n",
       "    .dataframe tbody tr th {\n",
       "        vertical-align: top;\n",
       "    }\n",
       "\n",
       "    .dataframe thead th {\n",
       "        text-align: right;\n",
       "    }\n",
       "</style>\n",
       "<table border=\"1\" class=\"dataframe\">\n",
       "  <thead>\n",
       "    <tr style=\"text-align: right;\">\n",
       "      <th></th>\n",
       "      <th>id</th>\n",
       "      <th>sentence</th>\n",
       "      <th>split</th>\n",
       "    </tr>\n",
       "  </thead>\n",
       "  <tbody>\n",
       "    <tr>\n",
       "      <th>0</th>\n",
       "      <td>000005f3362c</td>\n",
       "      <td>ও বলেছে আপনার ঠিকানা!</td>\n",
       "      <td>train</td>\n",
       "    </tr>\n",
       "    <tr>\n",
       "      <th>1</th>\n",
       "      <td>00001dddd002</td>\n",
       "      <td>কোন মহান রাষ্ট্রের নাগরিক হতে চাও?</td>\n",
       "      <td>train</td>\n",
       "    </tr>\n",
       "    <tr>\n",
       "      <th>2</th>\n",
       "      <td>00001e0bc131</td>\n",
       "      <td>আমি তোমার কষ্টটা বুঝছি, কিন্তু এটা সঠিক পথ না।</td>\n",
       "      <td>train</td>\n",
       "    </tr>\n",
       "    <tr>\n",
       "      <th>3</th>\n",
       "      <td>000024b3d810</td>\n",
       "      <td>নাচ শেষ হওয়ার পর সকলে শরীর ধুয়ে একসঙ্গে ভোজন...</td>\n",
       "      <td>train</td>\n",
       "    </tr>\n",
       "    <tr>\n",
       "      <th>4</th>\n",
       "      <td>000028220ab3</td>\n",
       "      <td>হুমম, ওহ হেই, দেখো।</td>\n",
       "      <td>train</td>\n",
       "    </tr>\n",
       "  </tbody>\n",
       "</table>\n",
       "</div>"
      ],
      "text/plain": [
       "             id                                           sentence  split\n",
       "0  000005f3362c                              ও বলেছে আপনার ঠিকানা!  train\n",
       "1  00001dddd002                 কোন মহান রাষ্ট্রের নাগরিক হতে চাও?  train\n",
       "2  00001e0bc131     আমি তোমার কষ্টটা বুঝছি, কিন্তু এটা সঠিক পথ না।  train\n",
       "3  000024b3d810  নাচ শেষ হওয়ার পর সকলে শরীর ধুয়ে একসঙ্গে ভোজন...  train\n",
       "4  000028220ab3                                হুমম, ওহ হেই, দেখো।  train"
      ]
     },
     "execution_count": 4,
     "metadata": {},
     "output_type": "execute_result"
    }
   ],
   "source": [
    "df = pd.read_csv(\"/kaggle/input/bengaliai-speech/train.csv\")\n",
    "train_df = df[df.split==\"train\"]\n",
    "train_df.head()"
   ]
  },
  {
   "cell_type": "markdown",
   "id": "fae73aea",
   "metadata": {
    "papermill": {
     "duration": 0.016008,
     "end_time": "2023-09-03T20:42:22.356171",
     "exception": false,
     "start_time": "2023-09-03T20:42:22.340163",
     "status": "completed"
    },
    "tags": []
   },
   "source": [
    "Dump the sentences in a text file"
   ]
  },
  {
   "cell_type": "code",
   "execution_count": 5,
   "id": "ff8096ef",
   "metadata": {
    "execution": {
     "iopub.execute_input": "2023-09-03T20:42:22.391245Z",
     "iopub.status.busy": "2023-09-03T20:42:22.390024Z",
     "iopub.status.idle": "2023-09-03T20:42:22.796970Z",
     "shell.execute_reply": "2023-09-03T20:42:22.795195Z"
    },
    "papermill": {
     "duration": 0.427205,
     "end_time": "2023-09-03T20:42:22.799589",
     "exception": false,
     "start_time": "2023-09-03T20:42:22.372384",
     "status": "completed"
    },
    "tags": []
   },
   "outputs": [
    {
     "data": {
      "text/plain": [
       "461532"
      ]
     },
     "execution_count": 5,
     "metadata": {},
     "output_type": "execute_result"
    }
   ],
   "source": [
    "all_sentences = list(set(train_df['sentence'].tolist()))\n",
    "len(all_sentences)"
   ]
  },
  {
   "cell_type": "code",
   "execution_count": 6,
   "id": "52ce35b2",
   "metadata": {
    "execution": {
     "iopub.execute_input": "2023-09-03T20:42:22.835558Z",
     "iopub.status.busy": "2023-09-03T20:42:22.835091Z",
     "iopub.status.idle": "2023-09-04T02:15:23.063908Z",
     "shell.execute_reply": "2023-09-04T02:15:23.062532Z"
    },
    "papermill": {
     "duration": 19980.249561,
     "end_time": "2023-09-04T02:15:23.066366",
     "exception": false,
     "start_time": "2023-09-03T20:42:22.816805",
     "status": "completed"
    },
    "tags": []
   },
   "outputs": [
    {
     "name": "stderr",
     "output_type": "stream",
     "text": [
      "100%|██████████| 461532/461532 [38:59<00:00, 197.24it/s]\n",
      "100%|██████████| 2753069/2753069 [4:53:53<00:00, 156.13it/s]\n"
     ]
    }
   ],
   "source": [
    "import re\n",
    "from tqdm import tqdm\n",
    "chars_to_ignore_regex = '[\\,\\?\\.\\!\\-\\;\\:\\\"\\“\\%\\‘\\”\\�\\']'\n",
    "\n",
    "with open('text.txt', 'w') as f:\n",
    "    for sentence in tqdm(all_sentences):\n",
    "        f.write(normalize(sentence))\n",
    "        f.write('\\n')\n",
    "    with open(\"/kaggle/input/dataset-for-lm/hasan-etal-2020-low/2.75M/original_corpus.bn\",'r') as f2:\n",
    "        lines = f2.readlines()\n",
    "        \n",
    "        for line in tqdm(lines):\n",
    "            f.write(normalize(line))\n",
    "            f.write('\\n')"
   ]
  },
  {
   "cell_type": "markdown",
   "id": "2964c85b",
   "metadata": {
    "papermill": {
     "duration": 16.242668,
     "end_time": "2023-09-04T02:15:55.593026",
     "exception": false,
     "start_time": "2023-09-04T02:15:39.350358",
     "status": "completed"
    },
    "tags": []
   },
   "source": [
    "**Now build 5-gram arpa model using kenlm. As it's relatively common in speech recognition, we build a 5-gram by passing the -o 5 parameter.**"
   ]
  },
  {
   "cell_type": "code",
   "execution_count": 7,
   "id": "86ed7490",
   "metadata": {
    "execution": {
     "iopub.execute_input": "2023-09-04T02:16:28.310842Z",
     "iopub.status.busy": "2023-09-04T02:16:28.310105Z",
     "iopub.status.idle": "2023-09-04T02:16:28.318135Z",
     "shell.execute_reply": "2023-09-04T02:16:28.317075Z"
    },
    "papermill": {
     "duration": 16.622017,
     "end_time": "2023-09-04T02:16:28.320459",
     "exception": false,
     "start_time": "2023-09-04T02:16:11.698442",
     "status": "completed"
    },
    "tags": []
   },
   "outputs": [
    {
     "data": {
      "text/plain": [
       "'/kaggle/working'"
      ]
     },
     "execution_count": 7,
     "metadata": {},
     "output_type": "execute_result"
    }
   ],
   "source": [
    "pwd"
   ]
  },
  {
   "cell_type": "code",
   "execution_count": 8,
   "id": "400c8524",
   "metadata": {
    "execution": {
     "iopub.execute_input": "2023-09-04T02:17:01.034999Z",
     "iopub.status.busy": "2023-09-04T02:17:01.034580Z",
     "iopub.status.idle": "2023-09-04T02:19:09.098865Z",
     "shell.execute_reply": "2023-09-04T02:19:09.096873Z"
    },
    "papermill": {
     "duration": 161.291789,
     "end_time": "2023-09-04T02:19:25.972168",
     "exception": false,
     "start_time": "2023-09-04T02:16:44.680379",
     "status": "completed"
    },
    "tags": []
   },
   "outputs": [
    {
     "name": "stdout",
     "output_type": "stream",
     "text": [
      "=== 1/5 Counting and sorting n-grams ===\r\n",
      "Reading /kaggle/working/text.txt\r\n",
      "----5---10---15---20---25---30---35---40---45---50---55---60---65---70---75---80---85---90---95--100\r\n",
      "****************************************************************************************************\r\n",
      "Unigram tokens 33068042 types 1221383\r\n",
      "=== 2/5 Calculating and sorting adjusted counts ===\r\n",
      "Chain sizes: 1:14656596 2:2626467072 3:4924625920 4:7879400960 5:11490793472\r\n",
      "Statistics:\r\n",
      "1 1221383 D1=0.726508 D2=1.04896 D3+=1.33469\r\n",
      "2 10504766 D1=0.804746 D2=1.11287 D3+=1.32831\r\n",
      "3 20572612 D1=0.889338 D2=1.24474 D3+=1.35282\r\n",
      "4 23528079 D1=0.942228 D2=1.43865 D3+=1.39094\r\n",
      "5 22898089 D1=0.81758 D2=1.76743 D3+=1.46412\r\n",
      "Memory estimate for binary LM:\r\n",
      "type      MB\r\n",
      "probing 1673 assuming -p 1.5\r\n",
      "probing 1990 assuming -r models -p 1.5\r\n",
      "trie     879 without quantization\r\n",
      "trie     510 assuming -q 8 -b 8 quantization \r\n",
      "trie     763 assuming -a 22 array pointer compression\r\n",
      "trie     394 assuming -a 22 -q 8 -b 8 array pointer compression and quantization\r\n",
      "=== 3/5 Calculating and sorting initial probabilities ===\r\n",
      "Chain sizes: 1:14656596 2:168076256 3:411452240 4:564673896 5:641146492\r\n",
      "----5---10---15---20---25---30---35---40---45---50---55---60---65---70---75---80---85---90---95--100\r\n",
      "####################################################################################################\r\n",
      "=== 4/5 Calculating and writing order-interpolated probabilities ===\r\n",
      "Chain sizes: 1:14656596 2:168076256 3:411452240 4:564673896 5:641146492\r\n",
      "----5---10---15---20---25---30---35---40---45---50---55---60---65---70---75---80---85---90---95--100\r\n",
      "####################################################################################################\r\n",
      "=== 5/5 Writing ARPA model ===\r\n",
      "----5---10---15---20---25---30---35---40---45---50---55---60---65---70---75---80---85---90---95--100\r\n",
      "****************************************************************************************************\r\n",
      "Name:lmplz\tVmPeak:26476584 kB\tVmRSS:36864 kB\tRSSMax:5391988 kB\tuser:129.176\tsys:55.0707\tCPU:184.247\treal:126.812\r\n"
     ]
    }
   ],
   "source": [
    "!kenlm/build/bin/lmplz -o 5 < \"text.txt\" > \"5gram.arpa\""
   ]
  },
  {
   "cell_type": "markdown",
   "id": "a3a860ec",
   "metadata": {
    "papermill": {
     "duration": 16.364408,
     "end_time": "2023-09-04T02:19:58.629540",
     "exception": false,
     "start_time": "2023-09-04T02:19:42.265132",
     "status": "completed"
    },
    "tags": []
   },
   "source": [
    "Let's look at what is inside 5gram.arpa"
   ]
  },
  {
   "cell_type": "code",
   "execution_count": 9,
   "id": "db8c6262",
   "metadata": {
    "execution": {
     "iopub.execute_input": "2023-09-04T02:20:31.136489Z",
     "iopub.status.busy": "2023-09-04T02:20:31.135951Z",
     "iopub.status.idle": "2023-09-04T02:20:32.267876Z",
     "shell.execute_reply": "2023-09-04T02:20:32.266381Z"
    },
    "papermill": {
     "duration": 17.70948,
     "end_time": "2023-09-04T02:20:32.271040",
     "exception": false,
     "start_time": "2023-09-04T02:20:14.561560",
     "status": "completed"
    },
    "tags": []
   },
   "outputs": [
    {
     "name": "stdout",
     "output_type": "stream",
     "text": [
      "\\data\\\r\n",
      "ngram 1=1221383\r\n",
      "ngram 2=10504766\r\n",
      "ngram 3=20572612\r\n",
      "ngram 4=23528079\r\n",
      "ngram 5=22898089\r\n",
      "\r\n",
      "\\1-grams:\r\n",
      "-7.066635\t<unk>\t0\r\n",
      "0\t<s>\t-1.0176687\r\n",
      "-1.5402384\t</s>\t0\r\n",
      "-2.5750425\tএই\t-0.62876683\r\n",
      "-3.3284895\tসময়\t-0.46045333\r\n",
      "-3.3767936\tএখানে\t-0.4176563\r\n",
      "-3.60266\tথাকা\t-0.43585598\r\n",
      "-3.3397322\tঠিক\t-0.67782724\r\n",
      "-3.3999436\tনা।\t-0.7081418\r\n",
      "-3.8354008\tঅন্যদের\t-0.59316385\r\n",
      "-4.706327\tকষ্টের\t-0.4007752\r\n",
      "-3.1346946\tকথা\t-0.77826494\r\n"
     ]
    }
   ],
   "source": [
    "!head -20 5gram.arpa"
   ]
  },
  {
   "cell_type": "markdown",
   "id": "0d44a4aa",
   "metadata": {
    "papermill": {
     "duration": 16.243565,
     "end_time": "2023-09-04T02:21:04.826169",
     "exception": false,
     "start_time": "2023-09-04T02:20:48.582604",
     "status": "completed"
    },
    "tags": []
   },
   "source": [
    "Voila. Now we're done with our language model. But now we have a problem here. \n",
    "```\n",
    "There is a small problem that 🤗 Transformers will not be happy about later on. The 5-gram correctly includes a \"Unknown\" or <unk>, as well as a begin-of-sentence, <s> token, but no end-of-sentence, </s> token. This sadly has to be corrected currently after the build.\n",
    "\n",
    "We can simply add the end-of-sentence token by adding the line 0 </s> -0.11831701 below the begin-of-sentence token and increasing the ngram 1 count by 1\n",
    "```\n",
    "\n",
    "> [Reference](https://huggingface.co/blog/wav2vec2-with-ngram)"
   ]
  },
  {
   "cell_type": "markdown",
   "id": "51b02789",
   "metadata": {
    "papermill": {
     "duration": 16.196285,
     "end_time": "2023-09-04T02:21:37.348975",
     "exception": false,
     "start_time": "2023-09-04T02:21:21.152690",
     "status": "completed"
    },
    "tags": []
   },
   "source": [
    "Let's fix it"
   ]
  },
  {
   "cell_type": "code",
   "execution_count": 10,
   "id": "0e9a99c1",
   "metadata": {
    "execution": {
     "iopub.execute_input": "2023-09-04T02:22:10.200406Z",
     "iopub.status.busy": "2023-09-04T02:22:10.199820Z",
     "iopub.status.idle": "2023-09-04T02:23:33.456728Z",
     "shell.execute_reply": "2023-09-04T02:23:33.455378Z"
    },
    "papermill": {
     "duration": 99.81494,
     "end_time": "2023-09-04T02:23:33.461072",
     "exception": false,
     "start_time": "2023-09-04T02:21:53.646132",
     "status": "completed"
    },
    "tags": []
   },
   "outputs": [],
   "source": [
    "with open(\"5gram.arpa\", \"r\") as read_file, open(\"5gram_correct.arpa\", \"w\") as write_file:\n",
    "    has_added_eos = False\n",
    "    for line in read_file:\n",
    "        if not has_added_eos and \"ngram 1=\" in line:\n",
    "            count=line.strip().split(\"=\")[-1]\n",
    "            write_file.write(line.replace(f\"{count}\", f\"{int(count)+1}\"))\n",
    "        elif not has_added_eos and \"<s>\" in line:\n",
    "            write_file.write(line)\n",
    "            write_file.write(line.replace(\"<s>\", \"</s>\"))\n",
    "            has_added_eos = True\n",
    "        else:\n",
    "            write_file.write(line)"
   ]
  },
  {
   "cell_type": "code",
   "execution_count": 11,
   "id": "b5fbfea2",
   "metadata": {
    "execution": {
     "iopub.execute_input": "2023-09-04T02:24:06.523522Z",
     "iopub.status.busy": "2023-09-04T02:24:06.523039Z",
     "iopub.status.idle": "2023-09-04T02:24:08.589100Z",
     "shell.execute_reply": "2023-09-04T02:24:08.587931Z"
    },
    "papermill": {
     "duration": 18.437828,
     "end_time": "2023-09-04T02:24:08.591707",
     "exception": false,
     "start_time": "2023-09-04T02:23:50.153879",
     "status": "completed"
    },
    "tags": []
   },
   "outputs": [],
   "source": [
    "!rm 5gram.arpa"
   ]
  },
  {
   "cell_type": "markdown",
   "id": "4b41edd2",
   "metadata": {
    "papermill": {
     "duration": 16.05039,
     "end_time": "2023-09-04T02:24:40.945472",
     "exception": false,
     "start_time": "2023-09-04T02:24:24.895082",
     "status": "completed"
    },
    "tags": []
   },
   "source": [
    "Okay now our LM is done! But wait, what do we do with this LM? It's of no use seperately, we need to integrate it with our wav2vec2 model"
   ]
  },
  {
   "cell_type": "markdown",
   "id": "7df92945",
   "metadata": {
    "papermill": {
     "duration": 16.256682,
     "end_time": "2023-09-04T02:25:13.722969",
     "exception": false,
     "start_time": "2023-09-04T02:24:57.466287",
     "status": "completed"
    },
    "tags": []
   },
   "source": [
    "# Combine LM with wav2vec2"
   ]
  },
  {
   "cell_type": "markdown",
   "id": "f7b07c47",
   "metadata": {
    "papermill": {
     "duration": 16.270038,
     "end_time": "2023-09-04T02:25:46.315065",
     "exception": false,
     "start_time": "2023-09-04T02:25:30.045027",
     "status": "completed"
    },
    "tags": []
   },
   "source": [
    "We'll use the [yellowking model](https://www.kaggle.com/code/sameen53/yellowking-dlsprint-inference) as our demo wav2vec2 model. It already came with a LM, we'll remove it and use our LM here. "
   ]
  },
  {
   "cell_type": "code",
   "execution_count": 12,
   "id": "5aced098",
   "metadata": {
    "execution": {
     "iopub.execute_input": "2023-09-04T02:26:19.055550Z",
     "iopub.status.busy": "2023-09-04T02:26:19.055003Z",
     "iopub.status.idle": "2023-09-04T02:26:51.568118Z",
     "shell.execute_reply": "2023-09-04T02:26:51.566956Z"
    },
    "papermill": {
     "duration": 48.995861,
     "end_time": "2023-09-04T02:26:51.571364",
     "exception": false,
     "start_time": "2023-09-04T02:26:02.575503",
     "status": "completed"
    },
    "tags": []
   },
   "outputs": [
    {
     "name": "stdout",
     "output_type": "stream",
     "text": [
      "'/kaggle/input/yellowking-dlsprint-model/YellowKing_processor' -> './YellowKing_processor'\r\n",
      "'/kaggle/input/yellowking-dlsprint-model/YellowKing_processor/added_tokens.json' -> './YellowKing_processor/added_tokens.json'\r\n",
      "'/kaggle/input/yellowking-dlsprint-model/YellowKing_processor/preprocessor_config.json' -> './YellowKing_processor/preprocessor_config.json'\r\n",
      "'/kaggle/input/yellowking-dlsprint-model/YellowKing_processor/tokenizer_config.json' -> './YellowKing_processor/tokenizer_config.json'\r\n",
      "'/kaggle/input/yellowking-dlsprint-model/YellowKing_processor/special_tokens_map.json' -> './YellowKing_processor/special_tokens_map.json'\r\n",
      "'/kaggle/input/yellowking-dlsprint-model/YellowKing_processor/vocab.json' -> './YellowKing_processor/vocab.json'\r\n",
      "'/kaggle/input/yellowking-dlsprint-model/YellowKing_processor/language_model' -> './YellowKing_processor/language_model'\r\n",
      "'/kaggle/input/yellowking-dlsprint-model/YellowKing_processor/language_model/5gram.bin' -> './YellowKing_processor/language_model/5gram.bin'\r\n",
      "'/kaggle/input/yellowking-dlsprint-model/YellowKing_processor/language_model/attrs.json' -> './YellowKing_processor/language_model/attrs.json'\r\n",
      "'/kaggle/input/yellowking-dlsprint-model/YellowKing_processor/language_model/unigrams.txt' -> './YellowKing_processor/language_model/unigrams.txt'\r\n",
      "'/kaggle/input/yellowking-dlsprint-model/YellowKing_processor/alphabet.json' -> './YellowKing_processor/alphabet.json'\r\n"
     ]
    }
   ],
   "source": [
    "!cp -av /kaggle/input/yellowking-dlsprint-model/YellowKing_processor ."
   ]
  },
  {
   "cell_type": "code",
   "execution_count": 13,
   "id": "d7d3a9b2",
   "metadata": {
    "execution": {
     "iopub.execute_input": "2023-09-04T02:27:24.394015Z",
     "iopub.status.busy": "2023-09-04T02:27:24.393553Z",
     "iopub.status.idle": "2023-09-04T02:27:26.125024Z",
     "shell.execute_reply": "2023-09-04T02:27:26.123631Z"
    },
    "papermill": {
     "duration": 17.781774,
     "end_time": "2023-09-04T02:27:26.128080",
     "exception": false,
     "start_time": "2023-09-04T02:27:08.346306",
     "status": "completed"
    },
    "tags": []
   },
   "outputs": [],
   "source": [
    "!rm -rf YellowKing_processor/language_model"
   ]
  },
  {
   "cell_type": "markdown",
   "id": "9627a75b",
   "metadata": {
    "papermill": {
     "duration": 16.322254,
     "end_time": "2023-09-04T02:27:59.023071",
     "exception": false,
     "start_time": "2023-09-04T02:27:42.700817",
     "status": "completed"
    },
    "tags": []
   },
   "source": [
    "Let's load the processor without LM"
   ]
  },
  {
   "cell_type": "code",
   "execution_count": 14,
   "id": "ae997477",
   "metadata": {
    "execution": {
     "iopub.execute_input": "2023-09-04T02:28:49.378001Z",
     "iopub.status.busy": "2023-09-04T02:28:49.377475Z",
     "iopub.status.idle": "2023-09-04T02:28:52.838514Z",
     "shell.execute_reply": "2023-09-04T02:28:52.837368Z"
    },
    "papermill": {
     "duration": 19.971743,
     "end_time": "2023-09-04T02:28:52.841350",
     "exception": false,
     "start_time": "2023-09-04T02:28:32.869607",
     "status": "completed"
    },
    "tags": []
   },
   "outputs": [],
   "source": [
    "from transformers import Wav2Vec2ProcessorWithLM,Wav2Vec2Processor\n",
    "\n",
    "processor = Wav2Vec2Processor.from_pretrained(\"/kaggle/working/YellowKing_processor\")\n",
    "vocab_dict = processor.tokenizer.get_vocab()\n",
    "sorted_vocab_dict = {k.lower(): v for k, v in sorted(vocab_dict.items(), key=lambda item: item[1])}"
   ]
  },
  {
   "cell_type": "markdown",
   "id": "b8e8cafa",
   "metadata": {
    "papermill": {
     "duration": 16.025758,
     "end_time": "2023-09-04T02:29:25.379857",
     "exception": false,
     "start_time": "2023-09-04T02:29:09.354099",
     "status": "completed"
    },
    "tags": []
   },
   "source": [
    "``` \n",
    "The \"labels\" and the previously built 5gram_correct.arpa file is all that's needed to build the decoder.\n",
    "```"
   ]
  },
  {
   "cell_type": "code",
   "execution_count": 15,
   "id": "3cf9a0e9",
   "metadata": {
    "execution": {
     "iopub.execute_input": "2023-09-04T02:29:58.274573Z",
     "iopub.status.busy": "2023-09-04T02:29:58.273742Z",
     "iopub.status.idle": "2023-09-04T02:32:18.295395Z",
     "shell.execute_reply": "2023-09-04T02:32:18.294379Z"
    },
    "papermill": {
     "duration": 156.344241,
     "end_time": "2023-09-04T02:32:18.298156",
     "exception": false,
     "start_time": "2023-09-04T02:29:41.953915",
     "status": "completed"
    },
    "tags": []
   },
   "outputs": [
    {
     "name": "stderr",
     "output_type": "stream",
     "text": [
      "Loading the LM will be faster if you build a binary file.\n",
      "Reading /kaggle/working/5gram_correct.arpa\n",
      "----5---10---15---20---25---30---35---40---45---50---55---60---65---70---75---80---85---90---95--100\n",
      "****************************************************************************************************\n"
     ]
    }
   ],
   "source": [
    "from pyctcdecode import build_ctcdecoder\n",
    "\n",
    "decoder = build_ctcdecoder(\n",
    "    labels=list(sorted_vocab_dict.keys()),\n",
    "    kenlm_model_path=\"5gram_correct.arpa\",\n",
    ")"
   ]
  },
  {
   "cell_type": "markdown",
   "id": "a64fcb96",
   "metadata": {
    "papermill": {
     "duration": 16.444476,
     "end_time": "2023-09-04T02:32:51.251070",
     "exception": false,
     "start_time": "2023-09-04T02:32:34.806594",
     "status": "completed"
    },
    "tags": []
   },
   "source": [
    "Now let's wrap the just created decoder, together with the processor's tokenizer and feature_extractor into a Wav2Vec2ProcessorWithLM class."
   ]
  },
  {
   "cell_type": "code",
   "execution_count": 16,
   "id": "b1743036",
   "metadata": {
    "execution": {
     "iopub.execute_input": "2023-09-04T02:33:23.881831Z",
     "iopub.status.busy": "2023-09-04T02:33:23.881389Z",
     "iopub.status.idle": "2023-09-04T02:33:23.887626Z",
     "shell.execute_reply": "2023-09-04T02:33:23.886492Z"
    },
    "papermill": {
     "duration": 16.34892,
     "end_time": "2023-09-04T02:33:23.890092",
     "exception": false,
     "start_time": "2023-09-04T02:33:07.541172",
     "status": "completed"
    },
    "tags": []
   },
   "outputs": [],
   "source": [
    "processor_with_lm = Wav2Vec2ProcessorWithLM(\n",
    "    feature_extractor=processor.feature_extractor,\n",
    "    tokenizer=processor.tokenizer,\n",
    "    decoder=decoder\n",
    ")"
   ]
  },
  {
   "cell_type": "markdown",
   "id": "0795615f",
   "metadata": {
    "papermill": {
     "duration": 16.500856,
     "end_time": "2023-09-04T02:33:56.363151",
     "exception": false,
     "start_time": "2023-09-04T02:33:39.862295",
     "status": "completed"
    },
    "tags": []
   },
   "source": [
    "yaay! We're done. Let's save the processor."
   ]
  },
  {
   "cell_type": "code",
   "execution_count": 17,
   "id": "4638322c",
   "metadata": {
    "execution": {
     "iopub.execute_input": "2023-09-04T02:34:28.820216Z",
     "iopub.status.busy": "2023-09-04T02:34:28.819783Z",
     "iopub.status.idle": "2023-09-04T02:34:48.679451Z",
     "shell.execute_reply": "2023-09-04T02:34:48.676232Z"
    },
    "papermill": {
     "duration": 36.104727,
     "end_time": "2023-09-04T02:34:48.684140",
     "exception": false,
     "start_time": "2023-09-04T02:34:12.579413",
     "status": "completed"
    },
    "tags": []
   },
   "outputs": [],
   "source": [
    "processor_with_lm.save_pretrained(\"Yellowking_Processor_New_LM\")"
   ]
  },
  {
   "cell_type": "code",
   "execution_count": 18,
   "id": "e8d20616",
   "metadata": {
    "execution": {
     "iopub.execute_input": "2023-09-04T02:35:22.001115Z",
     "iopub.status.busy": "2023-09-04T02:35:22.000657Z",
     "iopub.status.idle": "2023-09-04T02:35:23.264066Z",
     "shell.execute_reply": "2023-09-04T02:35:23.262233Z"
    },
    "papermill": {
     "duration": 17.770743,
     "end_time": "2023-09-04T02:35:23.267401",
     "exception": false,
     "start_time": "2023-09-04T02:35:05.496658",
     "status": "completed"
    },
    "tags": []
   },
   "outputs": [],
   "source": [
    "!rm -rf /kaggle/working/kenlm"
   ]
  },
  {
   "cell_type": "markdown",
   "id": "3f8840ce",
   "metadata": {
    "papermill": {
     "duration": 16.057045,
     "end_time": "2023-09-04T02:35:55.720644",
     "exception": false,
     "start_time": "2023-09-04T02:35:39.663599",
     "status": "completed"
    },
    "tags": []
   },
   "source": [
    "# Inference"
   ]
  },
  {
   "cell_type": "code",
   "execution_count": 19,
   "id": "6e43d566",
   "metadata": {
    "execution": {
     "iopub.execute_input": "2023-09-04T02:36:28.552568Z",
     "iopub.status.busy": "2023-09-04T02:36:28.551889Z",
     "iopub.status.idle": "2023-09-04T02:39:21.653836Z",
     "shell.execute_reply": "2023-09-04T02:39:21.652725Z"
    },
    "papermill": {
     "duration": 189.451507,
     "end_time": "2023-09-04T02:39:21.656851",
     "exception": false,
     "start_time": "2023-09-04T02:36:12.205344",
     "status": "completed"
    },
    "tags": []
   },
   "outputs": [
    {
     "name": "stderr",
     "output_type": "stream",
     "text": [
      "/opt/conda/lib/python3.10/site-packages/scipy/__init__.py:146: UserWarning: A NumPy version >=1.16.5 and <1.23.0 is required for this version of SciPy (detected version 1.23.5\n",
      "  warnings.warn(f\"A NumPy version >={np_minversion} and <{np_maxversion}\"\n",
      "/opt/conda/lib/python3.10/site-packages/tensorflow_io/python/ops/__init__.py:98: UserWarning: unable to load libtensorflow_io_plugins.so: unable to open file: libtensorflow_io_plugins.so, from paths: ['/opt/conda/lib/python3.10/site-packages/tensorflow_io/python/ops/libtensorflow_io_plugins.so']\n",
      "caused by: ['/opt/conda/lib/python3.10/site-packages/tensorflow_io/python/ops/libtensorflow_io_plugins.so: undefined symbol: _ZN3tsl6StatusC1EN10tensorflow5error4CodeESt17basic_string_viewIcSt11char_traitsIcEENS_14SourceLocationE']\n",
      "  warnings.warn(f\"unable to load libtensorflow_io_plugins.so: {e}\")\n",
      "/opt/conda/lib/python3.10/site-packages/tensorflow_io/python/ops/__init__.py:104: UserWarning: file system plugins are not loaded: unable to open file: libtensorflow_io.so, from paths: ['/opt/conda/lib/python3.10/site-packages/tensorflow_io/python/ops/libtensorflow_io.so']\n",
      "caused by: ['/opt/conda/lib/python3.10/site-packages/tensorflow_io/python/ops/libtensorflow_io.so: undefined symbol: _ZTVN10tensorflow13GcsFileSystemE']\n",
      "  warnings.warn(f\"file system plugins are not loaded: {e}\")\n",
      "Loading the LM will be faster if you build a binary file.\n",
      "Reading /kaggle/working/Yellowking_Processor_New_LM/language_model/5gram_correct.arpa\n",
      "----5---10---15---20---25---30---35---40---45---50---55---60---65---70---75---80---85---90---95--100\n",
      "****************************************************************************************************\n"
     ]
    }
   ],
   "source": [
    "class CFG:\n",
    "    my_model_name = '../input/yellowking-dlsprint-model/YellowKing_model'\n",
    "    processor_name = '/kaggle/working/Yellowking_Processor_New_LM'\n",
    "    processor_without_LM = '/kaggle/working/YellowKing_processor'\n",
    "    \n",
    "from transformers import Wav2Vec2ProcessorWithLM,pipeline\n",
    "\n",
    "processor = Wav2Vec2ProcessorWithLM.from_pretrained(CFG.processor_name)\n",
    "asr_w_LM = pipeline(\"automatic-speech-recognition\", model=CFG.my_model_name ,feature_extractor =processor.feature_extractor, tokenizer= processor.tokenizer,decoder=processor.decoder)"
   ]
  },
  {
   "cell_type": "code",
   "execution_count": 20,
   "id": "aaf91852",
   "metadata": {
    "execution": {
     "iopub.execute_input": "2023-09-04T02:39:54.862758Z",
     "iopub.status.busy": "2023-09-04T02:39:54.862342Z",
     "iopub.status.idle": "2023-09-04T02:39:54.878707Z",
     "shell.execute_reply": "2023-09-04T02:39:54.877667Z"
    },
    "papermill": {
     "duration": 16.567764,
     "end_time": "2023-09-04T02:39:54.881214",
     "exception": false,
     "start_time": "2023-09-04T02:39:38.313450",
     "status": "completed"
    },
    "tags": []
   },
   "outputs": [],
   "source": [
    "import librosa\n",
    "def infer(audio_path):\n",
    "    speech, sr = librosa.load(audio_path, sr=processor.feature_extractor.sampling_rate)\n",
    "    my_LM_prediction = asr_w_LM(\n",
    "                speech\n",
    "            )\n",
    "\n",
    "    return normalize(my_LM_prediction['text'])"
   ]
  },
  {
   "cell_type": "code",
   "execution_count": 21,
   "id": "fa2d86f6",
   "metadata": {
    "execution": {
     "iopub.execute_input": "2023-09-04T02:40:27.308409Z",
     "iopub.status.busy": "2023-09-04T02:40:27.307957Z",
     "iopub.status.idle": "2023-09-04T02:40:56.699957Z",
     "shell.execute_reply": "2023-09-04T02:40:56.698828Z"
    },
    "papermill": {
     "duration": 45.39224,
     "end_time": "2023-09-04T02:40:56.702444",
     "exception": false,
     "start_time": "2023-09-04T02:40:11.310204",
     "status": "completed"
    },
    "tags": []
   },
   "outputs": [
    {
     "data": {
      "text/plain": [
       "'আমি তোমার কষ্টটা বুঝি কিন্তু এটা সঠিক পথ না।'"
      ]
     },
     "execution_count": 21,
     "metadata": {},
     "output_type": "execute_result"
    }
   ],
   "source": [
    "infer(\"/kaggle/input/bengaliai-speech/train_mp3s/00001e0bc131.mp3\")"
   ]
  },
  {
   "cell_type": "markdown",
   "id": "12d07738",
   "metadata": {
    "papermill": {
     "duration": 16.313993,
     "end_time": "2023-09-04T02:41:29.763801",
     "exception": false,
     "start_time": "2023-09-04T02:41:13.449808",
     "status": "completed"
    },
    "tags": []
   },
   "source": [
    "# Performance comparison :  with LM and without LM"
   ]
  },
  {
   "cell_type": "code",
   "execution_count": 22,
   "id": "9714e617",
   "metadata": {
    "execution": {
     "iopub.execute_input": "2023-09-04T02:42:02.442294Z",
     "iopub.status.busy": "2023-09-04T02:42:02.441260Z",
     "iopub.status.idle": "2023-09-04T02:42:08.121522Z",
     "shell.execute_reply": "2023-09-04T02:42:08.120517Z"
    },
    "papermill": {
     "duration": 21.997665,
     "end_time": "2023-09-04T02:42:08.124249",
     "exception": false,
     "start_time": "2023-09-04T02:41:46.126584",
     "status": "completed"
    },
    "tags": []
   },
   "outputs": [],
   "source": [
    "processor_without_LM = Wav2Vec2Processor.from_pretrained(CFG.processor_without_LM)\n",
    "asr_wo_LM = pipeline(\"automatic-speech-recognition\", model=CFG.my_model_name ,feature_extractor =processor_without_LM.feature_extractor, tokenizer= processor_without_LM.tokenizer)\n",
    "\n",
    "def infer_wo_LM(audio_path):\n",
    "    speech, sr = librosa.load(audio_path, sr=processor.feature_extractor.sampling_rate)\n",
    "    my_LM_prediction = asr_wo_LM(\n",
    "                speech\n",
    "            )\n",
    "\n",
    "    return normalize(my_LM_prediction['text'])"
   ]
  },
  {
   "cell_type": "code",
   "execution_count": 23,
   "id": "c926ba68",
   "metadata": {
    "execution": {
     "iopub.execute_input": "2023-09-04T02:42:40.880922Z",
     "iopub.status.busy": "2023-09-04T02:42:40.880497Z",
     "iopub.status.idle": "2023-09-04T02:42:49.133710Z",
     "shell.execute_reply": "2023-09-04T02:42:49.124971Z"
    },
    "papermill": {
     "duration": 24.476017,
     "end_time": "2023-09-04T02:42:49.146591",
     "exception": false,
     "start_time": "2023-09-04T02:42:24.670574",
     "status": "completed"
    },
    "tags": []
   },
   "outputs": [
    {
     "data": {
      "text/html": [
       "<div>\n",
       "<style scoped>\n",
       "    .dataframe tbody tr th:only-of-type {\n",
       "        vertical-align: middle;\n",
       "    }\n",
       "\n",
       "    .dataframe tbody tr th {\n",
       "        vertical-align: top;\n",
       "    }\n",
       "\n",
       "    .dataframe thead th {\n",
       "        text-align: right;\n",
       "    }\n",
       "</style>\n",
       "<table border=\"1\" class=\"dataframe\">\n",
       "  <thead>\n",
       "    <tr style=\"text-align: right;\">\n",
       "      <th></th>\n",
       "      <th>id</th>\n",
       "      <th>sentence</th>\n",
       "      <th>split</th>\n",
       "    </tr>\n",
       "  </thead>\n",
       "  <tbody>\n",
       "    <tr>\n",
       "      <th>20</th>\n",
       "      <td>0000e711c2b1</td>\n",
       "      <td>তিনি এবং তাঁর মা তাদের পৈতৃক বাড়িতে থেকে প্রত...</td>\n",
       "      <td>valid</td>\n",
       "    </tr>\n",
       "    <tr>\n",
       "      <th>59</th>\n",
       "      <td>00036c2a2d9d</td>\n",
       "      <td>কৃত্তিবাস রামায়ণ-বহির্ভূত অনেক গল্প এই অনুবাদ...</td>\n",
       "      <td>valid</td>\n",
       "    </tr>\n",
       "    <tr>\n",
       "      <th>100</th>\n",
       "      <td>00065e317123</td>\n",
       "      <td>তিনি তার সুশৃঙ্খল সামরিক বাহিনী এবং সুগঠিত শাস...</td>\n",
       "      <td>valid</td>\n",
       "    </tr>\n",
       "    <tr>\n",
       "      <th>101</th>\n",
       "      <td>00065f40df52</td>\n",
       "      <td>তিনি বিজয়নগর সাম্রাজ্যের বিরুদ্ধে এবং বিজাপুর...</td>\n",
       "      <td>valid</td>\n",
       "    </tr>\n",
       "    <tr>\n",
       "      <th>146</th>\n",
       "      <td>0009b022c8ea</td>\n",
       "      <td>এটি মূলত একটি মরুময় অঞ্চল।</td>\n",
       "      <td>valid</td>\n",
       "    </tr>\n",
       "  </tbody>\n",
       "</table>\n",
       "</div>"
      ],
      "text/plain": [
       "               id                                           sentence  split\n",
       "20   0000e711c2b1  তিনি এবং তাঁর মা তাদের পৈতৃক বাড়িতে থেকে প্রত...  valid\n",
       "59   00036c2a2d9d  কৃত্তিবাস রামায়ণ-বহির্ভূত অনেক গল্প এই অনুবাদ...  valid\n",
       "100  00065e317123  তিনি তার সুশৃঙ্খল সামরিক বাহিনী এবং সুগঠিত শাস...  valid\n",
       "101  00065f40df52  তিনি বিজয়নগর সাম্রাজ্যের বিরুদ্ধে এবং বিজাপুর...  valid\n",
       "146  0009b022c8ea                        এটি মূলত একটি মরুময় অঞ্চল।  valid"
      ]
     },
     "execution_count": 23,
     "metadata": {},
     "output_type": "execute_result"
    }
   ],
   "source": [
    "df = pd.read_csv(\"/kaggle/input/bengaliai-speech/train.csv\")\n",
    "val = df[df.split==\"valid\"]\n",
    "val.head()"
   ]
  },
  {
   "cell_type": "code",
   "execution_count": 24,
   "id": "4aa78175",
   "metadata": {
    "execution": {
     "iopub.execute_input": "2023-09-04T02:43:23.453375Z",
     "iopub.status.busy": "2023-09-04T02:43:23.452934Z",
     "iopub.status.idle": "2023-09-04T02:43:23.545553Z",
     "shell.execute_reply": "2023-09-04T02:43:23.544496Z"
    },
    "papermill": {
     "duration": 16.646142,
     "end_time": "2023-09-04T02:43:23.548113",
     "exception": false,
     "start_time": "2023-09-04T02:43:06.901971",
     "status": "completed"
    },
    "tags": []
   },
   "outputs": [],
   "source": [
    "from jiwer import wer"
   ]
  },
  {
   "cell_type": "code",
   "execution_count": 25,
   "id": "3a285068",
   "metadata": {
    "execution": {
     "iopub.execute_input": "2023-09-04T02:43:56.157480Z",
     "iopub.status.busy": "2023-09-04T02:43:56.156660Z",
     "iopub.status.idle": "2023-09-04T02:43:56.164064Z",
     "shell.execute_reply": "2023-09-04T02:43:56.163012Z"
    },
    "papermill": {
     "duration": 16.398122,
     "end_time": "2023-09-04T02:43:56.166202",
     "exception": false,
     "start_time": "2023-09-04T02:43:39.768080",
     "status": "completed"
    },
    "tags": []
   },
   "outputs": [],
   "source": [
    "import IPython.display as ipd\n",
    "\n",
    "def example(idx):\n",
    "    path = val['id'].iloc[idx]\n",
    "    full_path = \"/kaggle/input/bengaliai-speech/train_mp3s/\"+path+\".mp3\"\n",
    "    display(ipd.Audio(full_path))\n",
    "    \n",
    "    sentence = normalize(val.sentence.iloc[idx])\n",
    "    print(\"Grounf Truth : \",normalize(sentence))\n",
    "    print(\"Prediction With LM : \",infer(full_path))\n",
    "    print(\"Prediction Without LM : \",infer_wo_LM(full_path))\n",
    "    print(\"Word Error Rate with LM : \",wer(sentence,infer(full_path)))\n",
    "    print(\"Word Error Rate without LM : \",wer(sentence,infer_wo_LM(full_path)))\n",
    "    "
   ]
  },
  {
   "cell_type": "code",
   "execution_count": 26,
   "id": "6cb0692c",
   "metadata": {
    "execution": {
     "iopub.execute_input": "2023-09-04T02:44:28.800691Z",
     "iopub.status.busy": "2023-09-04T02:44:28.800310Z",
     "iopub.status.idle": "2023-09-04T02:44:43.507299Z",
     "shell.execute_reply": "2023-09-04T02:44:43.506398Z"
    },
    "papermill": {
     "duration": 31.049594,
     "end_time": "2023-09-04T02:44:43.509721",
     "exception": false,
     "start_time": "2023-09-04T02:44:12.460127",
     "status": "completed"
    },
    "tags": []
   },
   "outputs": [
    {
     "data": {
      "text/html": [
       "\n",
       "                <audio  controls=\"controls\" >\n",
       "                    <source src=\"data:audio/mpeg;base64,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\" type=\"audio/mpeg\" />\n",
       "                    Your browser does not support the audio element.\n",
       "                </audio>\n",
       "              "
      ],
      "text/plain": [
       "<IPython.lib.display.Audio object>"
      ]
     },
     "metadata": {},
     "output_type": "display_data"
    },
    {
     "name": "stdout",
     "output_type": "stream",
     "text": [
      "Grounf Truth :  তিনি এবং তাঁর মা তাদের পৈতৃক বাড়িতে থেকে প্রতিবেশীদের দ্বারা অনেক তিরস্কার সহ্য করেন।\n",
      "Prediction With LM :  তিনি এবং তাঁর মা তাদের পৈতৃক বাড়িতে থেকে প্রতিবেশীদের দ্বারা অনেক তিরস্কার সহ্য করেন।\n",
      "Prediction Without LM :  তিনি এবং তার মা তাদের পৈতৃক বাড়িতে থেকে প্রতিবেশীদের দ্বারা অনেক তুরস্কার সহ্য করেন।\n",
      "Word Error Rate with LM :  0.0\n",
      "Word Error Rate without LM :  0.14285714285714285\n"
     ]
    }
   ],
   "source": [
    "idx = 0\n",
    "example(idx)"
   ]
  },
  {
   "cell_type": "code",
   "execution_count": 27,
   "id": "328f1af6",
   "metadata": {
    "execution": {
     "iopub.execute_input": "2023-09-04T02:45:16.354722Z",
     "iopub.status.busy": "2023-09-04T02:45:16.354260Z",
     "iopub.status.idle": "2023-09-04T02:45:29.773741Z",
     "shell.execute_reply": "2023-09-04T02:45:29.772530Z"
    },
    "papermill": {
     "duration": 29.999581,
     "end_time": "2023-09-04T02:45:29.776463",
     "exception": false,
     "start_time": "2023-09-04T02:44:59.776882",
     "status": "completed"
    },
    "tags": []
   },
   "outputs": [
    {
     "data": {
      "text/html": [
       "\n",
       "                <audio  controls=\"controls\" >\n",
       "                    <source src=\"data:audio/mpeg;base64,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\" type=\"audio/mpeg\" />\n",
       "                    Your browser does not support the audio element.\n",
       "                </audio>\n",
       "              "
      ],
      "text/plain": [
       "<IPython.lib.display.Audio object>"
      ]
     },
     "metadata": {},
     "output_type": "display_data"
    },
    {
     "name": "stdout",
     "output_type": "stream",
     "text": [
      "Grounf Truth :  সড়কটি বিহার-পশ্চিমবঙ্গ সীমান্ত অতিক্রম করে পশ্চিমবঙ্গ রাজ্যে প্রবেশ করে উত্তর দিনাজপুর জেলা হয়ে।\n",
      "Prediction With LM :  সড়কটি বিহার পশ্চিমবঙ্গ সীমান্ত অতিক্রম করে পশ্চিমবঙ্গ রাজ্যে প্রবেশ করে উত্তর দিনাজপুর জেলা হয়ে।\n",
      "Prediction Without LM :  সড়কটি বিহার পশ্চিমবঙ্গ সীমান্ত অতিক্রম গরে পশ্চিমবঙ্গ রাজ্যে প্রবেশ করে উত্তর দিনাজপুর জেলা হয়ে।\n",
      "Word Error Rate with LM :  0.15384615384615385\n",
      "Word Error Rate without LM :  0.23076923076923078\n"
     ]
    }
   ],
   "source": [
    "idx = 5\n",
    "example(idx)"
   ]
  },
  {
   "cell_type": "code",
   "execution_count": 28,
   "id": "ac796d4d",
   "metadata": {
    "execution": {
     "iopub.execute_input": "2023-09-04T02:46:02.518662Z",
     "iopub.status.busy": "2023-09-04T02:46:02.518249Z",
     "iopub.status.idle": "2023-09-04T02:46:08.478116Z",
     "shell.execute_reply": "2023-09-04T02:46:08.476913Z"
    },
    "papermill": {
     "duration": 22.386852,
     "end_time": "2023-09-04T02:46:08.480601",
     "exception": false,
     "start_time": "2023-09-04T02:45:46.093749",
     "status": "completed"
    },
    "tags": []
   },
   "outputs": [
    {
     "data": {
      "text/html": [
       "\n",
       "                <audio  controls=\"controls\" >\n",
       "                    <source src=\"data:audio/mpeg;base64,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\" type=\"audio/mpeg\" />\n",
       "                    Your browser does not support the audio element.\n",
       "                </audio>\n",
       "              "
      ],
      "text/plain": [
       "<IPython.lib.display.Audio object>"
      ]
     },
     "metadata": {},
     "output_type": "display_data"
    },
    {
     "name": "stdout",
     "output_type": "stream",
     "text": [
      "Grounf Truth :  যথারীতি সেখানেও সাফল্যের স্বাক্ষর রাখলেন সিদ্দিক।\n",
      "Prediction With LM :  যথারীতি সেখানেও সাফল্যের স্বাক্ষর রাখলেন সিদ্দিক।\n",
      "Prediction Without LM :  যথারীচি সেখানেও সাফল্যের স্বাক্ষর রাখলেন সিদ্দিক।\n",
      "Word Error Rate with LM :  0.0\n",
      "Word Error Rate without LM :  0.16666666666666666\n"
     ]
    }
   ],
   "source": [
    "idx = 9\n",
    "example(idx)"
   ]
  },
  {
   "cell_type": "code",
   "execution_count": 29,
   "id": "342180eb",
   "metadata": {
    "execution": {
     "iopub.execute_input": "2023-09-04T02:46:40.977647Z",
     "iopub.status.busy": "2023-09-04T02:46:40.977233Z",
     "iopub.status.idle": "2023-09-04T02:46:56.506753Z",
     "shell.execute_reply": "2023-09-04T02:46:56.505536Z"
    },
    "papermill": {
     "duration": 31.623518,
     "end_time": "2023-09-04T02:46:56.509294",
     "exception": false,
     "start_time": "2023-09-04T02:46:24.885776",
     "status": "completed"
    },
    "tags": []
   },
   "outputs": [
    {
     "data": {
      "text/html": [
       "\n",
       "                <audio  controls=\"controls\" >\n",
       "                    <source src=\"data:audio/mpeg;base64,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\" type=\"audio/mpeg\" />\n",
       "                    Your browser does not support the audio element.\n",
       "                </audio>\n",
       "              "
      ],
      "text/plain": [
       "<IPython.lib.display.Audio object>"
      ]
     },
     "metadata": {},
     "output_type": "display_data"
    },
    {
     "name": "stdout",
     "output_type": "stream",
     "text": [
      "Grounf Truth :  টাইমস ব্যাংক প্রতিষ্ঠা করেছিলেন ভারতের দ্য টাইমস গ্রুপ হিসেবে পরিচিত বেনেট, কোলম্যান এবং কোং লিমিটেড।\n",
      "Prediction With LM :  টাইমস ব্যাংক প্রতিষ্ঠা করেছিলেন ভারতের দ্য টাইমস গ্রুপ হিসেবে পরিচিত বেনেট কোম্যান এবং কম লিমিটেড।\n",
      "Prediction Without LM :  টাইমস ব্যাংক প্রতিষ্ঠা করেছিলেন ভারতের দ্যা টাইমস গ্রুপ হিসেবে পরিচিতব বেনে পরোম্যান এবং কোম লিমেটেড।\n",
      "Word Error Rate with LM :  0.2\n",
      "Word Error Rate without LM :  0.4\n"
     ]
    }
   ],
   "source": [
    "idx = 12\n",
    "example(idx)"
   ]
  },
  {
   "cell_type": "code",
   "execution_count": 30,
   "id": "17c1454a",
   "metadata": {
    "execution": {
     "iopub.execute_input": "2023-09-04T02:47:29.541366Z",
     "iopub.status.busy": "2023-09-04T02:47:29.540889Z",
     "iopub.status.idle": "2023-09-04T02:47:42.227734Z",
     "shell.execute_reply": "2023-09-04T02:47:42.226439Z"
    },
    "papermill": {
     "duration": 29.099373,
     "end_time": "2023-09-04T02:47:42.230461",
     "exception": false,
     "start_time": "2023-09-04T02:47:13.131088",
     "status": "completed"
    },
    "tags": []
   },
   "outputs": [
    {
     "data": {
      "text/html": [
       "\n",
       "                <audio  controls=\"controls\" >\n",
       "                    <source src=\"data:audio/mpeg;base64,SUQzBAAAAAAAI1RTU0UAAAAPAAADTGF2ZjU3LjU2LjEwMQAAAAAAAAAAAAAA//s4xAADwAABpAAAACAAADSAAAAETEFNRTMuOTkuNVVVVVVVVVVVVVVVVVVVVVVVVVVVVVVVVVVVVVVVVVVVVVVVVVVVVVVVVVVVVVVVVVVVVVVVVVVVVVVVVVVVVVVMQU1FMy45OS41VVVVVVVVVVVVVVVVVVVVVVVVVVVVVVVVVVVVVVVVVVVVVVVVVVVVVVVVVVVVVVVVVVVVVVVVVVVVVVVVVVVVVVVVVVVVVVVVVVVVVVVVVVVVVVVVVVVVVVVVVVVVVVVVVVVVVVVVVVVVVVVVVVVV//s4xGGDwAABpAAAACAAADSAAAAEVVVVVVVVVVVVVVVVVVVVVVVVVVVVVVVVVVVVVVVVVVVVVVVVVVVVVVVVVVVVVVVVVVVVVVVVVVVVVVVVVVVVVVVVVVVVVVVVVVVMQU1FMy45OS41VVVVVVVVVVVVVVVVVVVVVVVVVVVVVVVVVVVVVVVVVVVVVVVVVVVVVVVVVVVVVVVVVVVVVVVVVVVVVVVVVVVVVVVVVVVVVVVVVVVVVVVVVVVVVVVVVVVVVVVVVVVVVVVVVVVVVVVVVVVVVVVVVVVV//s4xJ4DwAABpAAAACAAADSAAAAEVVVVVVVVVVVVVVVVVVVVVVVVVVVVVVVVVVVVVVVVVVVVVVVVVVVVVVVVVVVVVVVVVVVVVVVVVVVVVVVVVVVVVVVVVVVVVVVVVVVMQU1FMy45OS41VVVVVVVVVVVVVVVVVVVVVVVVVVVVVVVVVVVVVVVVVVVVVVVVVVVVVVVVVVVVVVVVVVVVVVVVVVVVVVVVVVVVVVVVVVVVVVVVVVVVVVVVVVVVVVVVVVVVVVVVVVVVVVVVVVVVVVVVVVVVVVVVVVVV//s4xJ4DwAABpAAAACAAADSAAAAEVVVVVVVVVVVVVVVVVVVVVVVVVVVVVVVVVVVVVVVVVVVVVVVVVVVVVVVVVVVVVVVVVVVVVVVVVVVVVVVVVVVVVVVVVVVVVVVVVVVMQU1FMy45OS41VVVVVVVVVVVVVVVVVVVVVVVVVVVVVVVVVVVVVVVVVVVVVVVVVVVVVVVVVVVVVVVVVVVVVVVVVVVVVVVVVVVVVVVVVVVVVVVVVVVVVVVVVVVVVVVVVVVVVVVVVVVVVVVVVVVVVVVVVVVVVVVVVVVV//s4xJ4DwAABpAAAACAAADSAAAAEVVVVVVVVVVVVVVVVVVVVVVVVVVVVVVVVVVVVVVVVVVVVVVVVVVVVVVVVVVVVVVVVVVVVVVVVVVVVVVVVVVVVVVVVVVVVVVVVVVVMQU1FMy45OS41VVVVVVVVVVVVVVVVVVVVVVVVVVVVVVVVVVVVVVVVVVVVVVVVVVVVVVVVVVVVVVVVVVVVVVVVVVVVVVVVVVVVVVVVVVVVVVVVVVVVVVVVVVVVVVVVVVVVVVVVVVVVVVVVVVVVVVVVVVVVVVVVVVVV//s4xJ4DwAABpAAAACAAADSAAAAEVVVVVVVVVVVVVVVVVVVVVVVVVVVVVVVVVVVVVVVVVVVVVVVVVVVVVVVVVVVVVVVVVVVVVVVVVVVVVVVVVVVVVVVVVVVVVVVVVVVMQU1FMy45OS41VVVVVVVVVVVVVVVVVVVVVVVVVVVVVVVVVVVVVVVVVVVVVVVVVVVVVVVVVVVVVVVVVVVVVVVVVVVVVVVVVVVVVVVVVVVVVVVVVVVVVVVVVVVVVVVVVVVVVVVVVVVVVVVVVVVVVVVVVVVVVVVVVVVV//s4xJ4DwAABpAAAACAAADSAAAAEVVVVVVVVVVVVVVVVVVVVVVVVVVVVVVVVVVVVVVVVVVVVVVVVVVVVVVVVVVVVVVVVVVVVVVVVVVVVVVVVVVVVVVVVVVVVVVVVVVVMQU1FMy45OS41VVVVVVVVVVVVVVVVVVVVVVVVVVVVVVVVVVVVVVVVVVVVVVVVVVVVVVVVVVVVVVVVVVVVVVVVVVVVVVVVVVVVVVVVVVVVVVVVVVVVVVVVVVVVVVVVVVVVVVVVVVVVVVVVVVVVVVVVVVVVVVVVVVVV//s4xJ4DwAABpAAAACAAADSAAAAEVVVVVVVVVVVVVVVVVVVVVVVVVVVVVVVVVVVVVVVVVVVVVVVVVVVVVVVVVVVVVVVVVVVVVVVVVVVVVVVVVVVVVVVVVVVVVVVVVVVMQU1FMy45OS41VVVVVVVVVVVVVVVVVVVVVVVVVVVVVVVVVVVVVVVVVVVVVVVVVVVVVVVVVVVVVVVVVVVVVVVVVVVVVVVVVVVVVVVVVVVVVVVVVVVVVVVVVVVVVVVVVVVVVVVVVVVVVVVVVVVVVVVVVVVVVVVVVVVV//s4xJ4DwAABpAAAACAAADSAAAAEVVVVVVVVVVVVVVVVVVVVVVVVVVVVVVVVVVVVVVVVVVVVVVVVVVVVVVVVVVVVVVVVVVVVVVVVVVVVVVVVVVVVVVVVVVVVVVVVVVVMQU1FMy45OS41VVVVVVVVVVVVVVVVVVVVVVVVVVVVVVVVVVVVVVVVVVVVVVVVVVVVVVVVVVVVVVVVVVVVVVVVVVVVVVVVVVVVVVVVVVVVVVVVVVVVVVVVVVVVVVVVVVVVVVVVVVVVVVVVVVVVVVVVVVVVVVVVVVVV//s4xJ4DwAABpAAAACAAADSAAAAEVVVVVVVVVVVVVVVVVVVVVVVVVVVVVVVVVVVVVVVVVVVVVVVVVVVVVVVVVVVVVVVVVVVVVVVVVVVVVVVVVVVVVVVVVVVVVVVVVVVMQU1FMy45OS41VVVVVVVVVVVVVVVVVVVVVVVVVVVVVVVVVVVVVVVVVVVVVVVVVVVVVVVVVVVVVVVVVVVVVVVVVVVVVVVVVVVVVVVVVVVVVVVVVVVVVVVVVVVVVVVVVVVVVVVVVVVVVVVVVVVVVVVVVVVVVVVVVVVV//s4xJ4DwAABpAAAACAAADSAAAAEVVVVVVVVVVVVVVVVVVVVVVVVVVVVVVVVVVVVVVVVVVVVVVVVVVVVVVVVVVVVVVVVVVVVVVVVVVVVVVVVVVVVVVVVVVVVVVVVVVVMQU1FMy45OS41VVVVVVVVVVVVVVVVVVVVVVVVVVVVVVVVVVVVVVVVVVVVVVVVVVVVVVVVVVVVVVVVVVVVVVVVVVVVVVVVVVVVVVVVVVVVVVVVVVVVVVVVVVVVVVVVVVVVVVVVVVVVVVVVVVVVVVVVVVVVVVVVVVVV//s4xJ4DwAABpAAAACAAADSAAAAEVVVVVVVVVVVVVVVVVVVVVVVVVVVVVVVVVVVVVVVVVVVVVVVVVVVVVVVVVVVVVVVVVVVVVVVVVVVVVVVVVVVVVVVVVVVVVVVVVVVMQU1FMy45OS41VVVVVVVVVVVVVVVVVVVVVVVVVVVVVVVVVVVVVVVVVVVVVVVVVVVVVVVVVVVVVVVVVVVVVVVVVVVVVVVVVVVVVVVVVVVVVVVVVVVVVVVVVVVVVVVVVVVVVVVVVVVVVVVVVVVVVVVVVVVVVVVVVVVV//s4xJ4DwAABpAAAACAAADSAAAAEVVVVVVVVVVVVVVVVVVVVVVVVVVVVVVVVVVVVVVVVVVVVVVVVVVVVVVVVVVVVVVVVVVVVVVVVVVVVVVVVVVVVVVVVVVVVVVVVVVVMQU1FMy45OS41VVVVVVVVVVVVVVVVVVVVVVVVVVVVVVVVVVVVVVVVVVVVVVVVVVVVVVVVVVVVVVVVVVVVVVVVVVVVVVVVVVVVVVVVVVVVVVVVVVVVVVVVVVVVVVVVVVVVVVVVVVVVVVVVVVVVVVVVVVVVVVVVVVVV//s4xJ4DwAABpAAAACAAADSAAAAEVVVVVVVVVVVVVVVVVVVVVVVVVVVVVVVVVVVVVVVVVVVVVVVVVVVVVVVVVVVVVVVVVVVVVVVVVVVVVVVVVVVVVVVVVVVVVVVVVVVMQU1FMy45OS41VVVVVVVVVVVVVVVVVVVVVVVVVVVVVVVVVVVVVVVVVVVVVVVVVVVVVVVVVVVVVVVVVVVVVVVVVVVVVVVVVVVVVVVVVVVVVVVVVVVVVVVVVVVVVVVVVVVVVVVVVVVVVVVVVVVVVVVVVVVVVVVVVVVV//s4xJ4DwAABpAAAACAAADSAAAAEVVVVVVVVVVVVVVVVVVVVVVVVVVVVVVVVVVVVVVVVVVVVVVVVVVVVVVVVVVVVVVVVVVVVVVVVVVVVVVVVVVVVVVVVVVVVVVVVVVVMQU1FMy45OS41VVVVVVVVVVVVVVVVVVVVVVVVVVVVVVVVVVVVVVVVVVVVVVVVVVVVVVVVVVVVVVVVVVVVVVVVVVVVVVVVVVVVVVVVVVVVVVVVVVVVVVVVVVVVVVVVVVVVVVVVVVVVVVVVVVVVVVVVVVVVVVVVVVVV//s4xJ4DwAABpAAAACAAADSAAAAEVVVVVVVVVVVVVVVVVVVVVVVVVVVVVVVVVVVVVVVVVVVVVVVVVVVVVVVVVVVVVVVVVVVVVVVVVVVVVVVVVVVVVVVVVVVVVVVVVVVMQU1FMy45OS41VVVVVVVVVVVVVVVVVVVVVVVVVVVVVVVVVVVVVVVVVVVVVVVVVVVVVVVVVVVVVVVVVVVVVVVVVVVVVVVVVVVVVVVVVVVVVVVVVVVVVVVVVVVVVVVVVVVVVVVVVVVVVVVVVVVVVVVVVVVVVVVVVVVV//s4xJ4DwAABpAAAACAAADSAAAAEVVVVVVVVVVVVVVVVVVVVVVVVVVVVVVVVVVVVVVVVVVVVVVVVVVVVVVVVVVVVVVVVVVVVVVVVVVVVVVVVVVVVVVVVVVVVVVVVVVVMQU1FMy45OS41VVVVVVVVVVVVVVVVVVVVVVVVVVVVVVVVVVVVVVVVVVVVVVVVVVVVVVVVVVVVVVVVVVVVVVVVVVVVVVVVVVVVVVVVVVVVVVVVVVVVVVVVVVVVVVVVVVVVVVVVVVVVVVVVVVVVVVVVVVVVVVVVVVVV//s4xJ4DwAABpAAAACAAADSAAAAEVVVVVVVVVVVVVVVVVVVVVVVVVVVVVVVVVVVVVVVVVVVVVVVVVVVVVVVVVVVVVVVVVVVVVVVVVVVVVVVVVVVVVVVVVVVVVVVVVVVMQU1FMy45OS41VVVVVVVVVVVVVVVVVVVVVVVVVVVVVVVVVVVVVVVVVVVVVVVVVVVVVVVVVVVVVVVVVVVVVVVVVVVVVVVVVVVVVVVVVVVVVVVVVVVVVVVVVVVVVVVVVVVVVVVVVVVVVVVVVVVVVVVVVVVVVVVVVVVV//s4xJ4DwAABpAAAACAAADSAAAAEVVVVVVVVVVVVVVVVVVVVVVVVVVVVVVVVVVVVVVVVVVVVVVVVVVVVVVVVVVVVVVVVVVVVVVVVVVVVVVVVVVVVVVVVVVVVVVVVVVVMQU1FMy45OS41VVVVVVVVVVVVVVVVVVVVVVVVVVVVVVVVVVVVVVVVVVVVVVVVVVVVVVVVVVVVVVVVVVVVVVVVVVVVVVVVVVVVVVVVVVVVVVVVVVVVVVVVVVVVVVVVVVVVVVVVVVVVVVVVVVVVVVVVVVVVVVVVVVVV//s4xJ4DwAABpAAAACAAADSAAAAEVVVVVVVVVVVVVVVVVVVVVVVVVVVVVVVVVVVVVVVVVVVVVVVVVVVVVVVVVVVVVVVVVVVVVVVVVVVVVVVVVVVVVVVVVVVVVVVVVVVMQU1FMy45OS41VVVVVVVVVVVVVVVVVVVVVVVVVVVVVVVVVVVVVVVVVVVVVVVVVVVVVVVVVVVVVVVVVVVVVVVVVVVVVVVVVVVVVVVVVVVVVVVVVVVVVVVVVVVVVVVVVVVVVVVVVVVVVVVVVVVVVVVVVVVVVVVVVVVV//s4xJ4DwAABpAAAACAAADSAAAAEVVVVVVVVVVVVVVVVVVVVVVVVVVVVVVVVVVVVVVVVVVVVVVVVVVVVVVVVVVVVVVVVVVVVVVVVVVVVVVVVVVVVVVVVVVVVVVVVVVVMQU1FMy45OS41VVVVVVVVVVVVVVVVVVVVVVVVVVVVVVVVVVVVVVVVVVVVVVVVVVVVVVVVVVVVVVVVVVVVVVVVVVVVVVVVVVVVVVVVVVVVVVVVVVVVVVVVVVVVVVVVVVVVVVVVVVVVVVVVVVVVVVVVVVVVVVVVVVVV//s4xJ4DwAABpAAAACAAADSAAAAEVVVVVVVVVVVVVVVVVVVVVVVVVVVVVVVVVVVVVVVVVVVVVVVVVVVVVVVVVVVVVVVVVVVVVVVVVVVVVVVVVVVVVVVVVVVVVVVVVVVMQU1FMy45OS41VVVVVVVVVVVVVVVVVVVVVVVVVVVVVVVVVVVVVVVVVVVVVVVVVVVVVVVVVVVVVVVVVVVVVVVVVVVVVVVVVVVVVVVVVVVVVVVVVVVVVVVVVVVVVVVVVVVVVVVVVVVVVVVVVVVVVVVVVVVVVVVVVVVV//s4xJ4DwAABpAAAACAAADSAAAAEVVVVVVVVVVVVVVVVVVVVVVVVVVVVVVVVVVVVVVVVVVVVVVVVVVVVVVVVVVVVVVVVVVVVVVVVVVVVVVVVVVVVVVVVVVVVVVVVVVVMQU1FMy45OS41VVVVVVVVVVVVVVVVVVVVVVVVVVVVVVVVVVVVVVVVVVVVVVVVVVVVVVVVVVVVVVVVVVVVVVVVVVVVVVVVVVVVVVVVVVVVVVVVVVVVVVVVVVVVVVVVVVVVVVVVVVVVVVVVVVVVVVVVVVVVVVVVVVVV//s4xJ4DwAABpAAAACAAADSAAAAEVVVVVVVVVVVVVVVVVVVVVVVVVVVVVVVVVVVVVVVVVVVVVVVVVVVVVVVVVVVVVVVVVVVVVVVVVVVVVVVVVVVVVVVVVVVVVVVVVVVMQU1FMy45OS41VVVVVVVVVVVVVVVVVVVVVVVVVVVVVVVVVVVVVVVVVVVVVVVVVVVVVVVVVVVVVVVVVVVVVVVVVVVVVVVVVVVVVVVVVVVVVVVVVVVVVVVVVVVVVVVVVVVVVVVVVVVVVVVVVVVVVVVVVVVVVVVVVVVV//s4xJ4DwAABpAAAACAAADSAAAAEVVVVVVVVVVVVVVVVVVVVVVVVVVVVVVVVVVVVVVVVVVVVVVVVVVVVVVVVVVVVVVVVVVVVVVVVVVVVVVVVVVVVVVVVVVVVVVVVVVVMQU1FMy45OS41VVVVVVVVVVVVVVVVVVVVVVVVVVVVVVVVVVVVVVVVVVVVVVVVVVVVVVVVVVVVVVVVVVVVVVVVVVVVVVVVVVVVVVVVVVVVVVVVVVVVVVVVVVVVVVVVVVVVVVVVVVVVVVVVVVVVVVVVVVVVVVVVVVVV//s4xJ4DwAABpAAAACAAADSAAAAEVVVVVVVVVVVVVVVVVVVVVVVVVVVVVVVVVVVVVVVVVVVVVVVVVVVVVVVVVVVVVVVVVVVVVVVVVVVVVVVVVVVVVVVVVVVVVVVVVVVMQU1FMy45OS41VVVVVVVVVVVVVVVVVVVVVVVVVVVVVVVVVVVVVVVVVVVVVVVVVVVVVVVVVVVVVVVVVVVVVVVVVVVVVVVVVVVVVVVVVVVVVVVVVVVVVVVVVVVVVVVVVVVVVVVVVVVVVVVVVVVVVVVVVVVVVVVVVVVV//s4xJ4DwAABpAAAACAAADSAAAAEVVVVVVVVVVVVVVVVVVVVVVVVVVVVVVVVVVVVVVVVVVVVVVVVVVVVVVVVVVVVVVVVVVVVVVVVVVVVVVVVVVVVVVVVVVVVVVVVVVVMQU1FMy45OS41VVVVVVVVVVVVVVVVVVVVVVVVVVVVVVVVVVVVVVVVVVVVVVVVVVVVVVVVVVVVVVVVVVVVVVVVVVVVVVVVVVVVVVVVVVVVVVVVVVVVVVVVVVVVVVVVVVVVVVVVVVVVVVVVVVVVVVVVVVVVVVVVVVVV//s4xJ4DwAABpAAAACAAADSAAAAEVVVVVVVVVVVVVVVVVVVVVVVVVVVVVVVVVVVVVVVVVVVVVVVVVVVVVVVVVVVVVVVVVVVVVVVVVVVVVVVVVVVVVVVVVVVVVVVVVVVMQU1FMy45OS41VVVVVVVVVVVVVVVVVVVVVVVVVVVVVVVVVVVVVVVVVVVVVVVVVVVVVVVVVVVVVVVVVVVVVVVVVVVVVVVVVVVVVVVVVVVVVVVVVVVVVVVVVVVVVVVVVVVVVVVVVVVVVVVVVVVVVVVVVVVVVVVVVVVV//s4xJ4DwAABpAAAACAAADSAAAAEVVVVVVVVVVVVVVVVVVVVVVVVVVVVVVVVVVVVVVVVVVVVVVVVVVVVVVVVVVVVVVVVVVVVVVVVVVVVVVVVVVVVVVVVVVVVVVVVVVVMQU1FMy45OS41VVVVVVVVVVVVVVVVVVVVVVVVVVVVVVVVVVVVVVVVVVVVVVVVVVVVVVVVVVVVVVVVVVVVVVVVVVVVVVVVVVVVVVVVVVVVVVVVVVVVVVVVVVVVVVVVVVVVVVVVVVVVVVVVVVVVVVVVVVVVVVVVVVVV//s4xJ4DwAABpAAAACAAADSAAAAEVVVVVVVVVVVVVVVVVVVVVVVVVVVVVVVVVVVVVVVVVVVVVVVVVVVVVVVVVVVVVVVVVVVVVVVVVVVVVVVVVVVVVVVVVVVVVVVVVVUAA0///////mescrVmmqzT6uUvVUSSSPqDxck05Y3AsHkgWhK8JTyP0gO6/NU+Aq0hQAg6Y8waIKbYCPczYAjPhQMgDi48gGmQ1JAWUS5BGg1YczQox4kwwYtGkALDSI+hol+3aBZUxtI4IFDxQMDqaPmzVWpAwu2s//s4xJ4DwAABpAAAACAAADSAAAAEPDHaIw8mmYAwvYh7vc6eG2HpDl3y8bUy9hraayoD4s7DkRTDCnp6e33CphnGJZSQw1hdjEJCpmAAAICABdEgibluXD9jDDn////6wwwwwwtzDWFAEJCARIiEpfmQgCIhpAkrf9/5fqVy+3qkpKSxzWGGGGHP/DCpSUlJY5TxiMWPzzz/Wef/rCksfhuVv/D9qMP47kX1dl/cMKli3nUhh/JZY/UNuW79uvT5Qw5DX6N9GcRSvG7dSH7f143L79SwIbps//s4xJ4DwAABpAAAACAAADSAAAAEt7tdlvfZq9UNgAAMchCAGmQzLyUkhyVm7EhpwsXpIACflhALDQgLHA0Dl8sBfcNXiEA2RwEETAyZMDgGAUAEOGmYoNgBCzcAgIG0ESNRkyeLhRHGRdOHoB7ghQDIFAMcAIiYuFAohKXS43zcsBcONM0LjJBlwAwEk/uTREB2GdP4XWAsQIoTgoAum/Olft//9NInCKGn/SKJmqQBcUAQoAEc0GREYmlhycRiRgleSA4IBjCwwzUJOsiBqUBwyZGCl+yo//s4xP+Dj12QYkADUcL7sZvCjYABAp1mAqP5isRAbE3jhNZPBhlsGDQlTsYYqzMQGQALAJprXkSZcvmN75LNUrlsraI0dvHtVvae6FFK8rGL8v26/c/y5nzDmv3+H6qymY3LKSPV5jDvP1ymt2rvKW9+H/hlhhnv///wu9rSGbjUagJrMONtDPlGByqgh4RDIlHKNAW0MkDCEBBJmYKJgoMP3Lh8BMPBTMGUmR2SGGAzQ05gEAwUuIWPxkCGUQ5wvNdQLhESciScJoEwCowkxLWat/OvJflq//s4xMQAE4kpZ7m6EhJ7oWnrt4ADyJHRrDyK2JGKUigZ91AIYsBo8Q2tkmetShf7hKHo1XatrDDmcxvXO/vHDKbjErbqpQwWU1oBiV/C/X/9qbD309tEkDJcWh8pEBA8VjtEUxaLQhOl2TAwvCAIMCU09gTAINJAAYZZDaIpGFHumyoepxBO0vUkaFPRuBqvzHkB4dHlViYqvAKghohLhwVKsGdSaXKP0MlgjNjCmbrCAKGTUKVkg5A4kVKBcrfZxo4BNAsiwcRcQJc0RL7ey7mSBsYAtBLD//s4xIeDkjUBRA3kU0pEoCiFzTWxnDCJOanUVf+pF0W/2arLpkoniaaKvsFjQEF4tiYEVJgYBpHGCCQCAGYLChlifGRQcuAyfBTEYLlYIGgKD6t5hYKQ0nKYWCgJCxhkXHHTiPJQwKEjD4DSjVjGhItpxwgqP8tZRi2u1SyQryQ3bC9NHQCoHYe4yXAIVFzgUv28AqB7GHM6YwFyF+3wlUt3Bl7Xf/X4V+c+tT9uNgTod1fbqWcsZ/+bfqVPT3ZqIxxIwHwEXphhSHh9dIhYxYGfshNhIfRO//s4xFeDk20BQg5gVspZIOkJvR34MnwgFYI8mHKpzoy/xILESp7nOSQjoJTApQYcyY9seBMIAJiCKpnoYG3jgodkB0KcqWzbosEya07kzStfZglUHFGkhw0eCIMytS9uzpPJSo6r1YaoC0K7NUvOXv7/7l3e9sU3IxKHXh5cKbr518u291ZdZ8oiU5ym/LuNxELhkH5IMX2OVxlQKzNrI7Cl7Fbx0mL2JtgVqMcIUChEZnJiTYyQSMgEsQ2111TBCDgnwqLKog/0WJqChziGm5vA3lUIGRWq//s4xCADkWkFSA3oT8mdoGrJl5aY412AXBlUNtHpJQCAToyUxKdA5IogAsenxAAvV4ffhnqaS4X/aPLqkSz3nh/67RZZ8v/NNIbg+E9SOlLuard916exiaWv+zKQgU+fdAppwsFC0bjkk5EpDAiCRIQSGVsRHucraX4ijclYdZz0eZmBio2IAzlKxZZD1nSTZz/T8S7L8LiXc28lMsM4dAz3qpMtvOZtXjlUxyiuuMB3NbWfXf/93nFxEEMYxzOrf/0XT//iJVIABgCAF+ALXkjErofC3UR0//s4xAgCDBkHV0wYtImTISnNlhaT/kknva6M5ZxB7cEeXscbGmtRexGFLZxmKeryvzOR2YCrCEZeNdq01jRpY0LAgVIKNBUd3uJGYf/+wigMoiOctXR9ZWbQncqPti49PsYzyiqUABOgCdzIMm5wIM4g/azCDzNSCFb2ARhsQ0HIpQ1LC+5FZPxAydJFjGMZY4MLgNdpsKxHHdPG7XeTR22x28tsouUStWKrJpMzAwBKv/DoWcPAYPGebSrf5nK0Bm76q7fW6wgIHnoABSgC3eJOBb8v4YH4//s4xAaDDFELTmyg9lF1IWjNph5S0KWqFXTJiZ2DGUaZDTJzSuggWNxe/NK3Jp2RUYAFtBoXphhmKwVNEYa7jTb+9qUw1VDkwAUPRzHQIP46A15j/ygTKe9a/+c/7ue+nVv6MjBUaCIcMpBAVgAzfQAzDMgJcVWDV1KguBKg1DZd48Bs1XN5M61K2oy6ChItWjIFEfLThStcMnZ13Oa/K9g5LXR2huc7GP3ACJzn/nKa6t//Go4yHbFDhqexxxjnL/amNThoMkoABwgBaUsMjmDLgEukZexi//s4xAgDDEjJMm3lZ8GQGOWJrMC4x2X3MiM+cCbcyLRJmlgZHGmgl5o0t9tGvQO3JqKayS9JGbD/XV5OU7OeVSa0qtNKqIjctg8+XOlzqLmfCo8EM9S4r/45a2Ov99X7uTrtjaOv5EQcAbycLDA0oAzoI5A0SiLCptiDWRsTHxIcwi22DxxORChiTLUV00gMA3pESkBRJvRO+6jccQjifzFGes7HTxoYKJFyPEdsgT6aTMo1WnWdLY4nZVWt6ld7+zOmnlwqEqyuHkIqAAAMjTkjCAG7aZA8//s4xAYCDCi5U6ywcyGGl2nFp54gAusLgg6MEAGEQbb51pjhBE5LsUf3eBCB5iqaMDAEA8LG373ed1eZ9QxXLj/cp1HKNrKv0WMkDl5Mpohq6HBML4BB0HsR49+dzp2Z+PE/gQAYAd//5R6M6cUVBjdyRnOq9YUYfGVFIGGWMlc6GW8IjUuIQCx5xrplA59PC+cugoZ2uF8wLJxy7BvTYy3lWKn+VzIwENhyq2Uv7FIwWlN8B4nAWDp23X90HDjFe4mNBcTYgv/+phQnwQIFlvAd7LJLZD5R//s4xAYADA0LaSedcLlPIS608YpO8Yoi9soZ5S4Ow4smnbLG4Qu0TUINK4P8m0lwqSnKAMGqQow1CJiYfDCF1TKnv+P/+IhQcSb2wgDYoBLPJ0zn/m4qcvrhmz/+E3PTNQPmhSYFawnHcQSLjjRSUYAgyB3RuuR1qBVDquDtDTVAhRNFeN2ZqHSsp8sE1k/wcuG6dLr5aLijhxKhxoQVMVQM5Bnq386HFDXhkgSlMnfsqMlBad/6hXGEqyR0KgAgB4GVwh86jCgFQj0igYZC18ZDiOMUN3VC//s4xA0ACqi5VMxpZwFUIKvk9KFewFqzD0ZpQwwrB1sDtWTvPtothVbbzTuUKSuidpk2pRjhyplJq6LU7a3//5Sd/6S5SxniAeCyH57gtSZQAAKlaAw9RyaP4GuWIKok2jdQA9tzQkqwaUbp+5zRob9jglNaR0rProofGlrXKKvXY2KdmVa//xlDSra6dZHGm1f9zXkiSRxZjrX/xL+XFyOeHGGK6gEACZCk4ApnpIL3/eYHoJjJVBAzNYLEYyWssKrMSLFQlNuQ5WLM0RhR298SM9F/RwCM//s4xBkACoEHTUy8qwleISt1lhV3pn7fDzKLiQfFDKIP9TKNMZ/lDzp/sUbczJ/ILmSxaK/GCAAEASZIQkgBhm0lScBCM4SEjowueA0lgTGBEDyIvlhOVyfAdTr4+IKPaPcvdrBlrTNEzYcgZiM3vpq7KjAPEZW/lRTE//7aiAwexhUv6KL9xfY5CCA4TnogAAAK+iQHfjiceDWyhl1ngt3JmEP3olCPfHH2qwfYzXtkwRUxdO2hAcbM1FTN+69+BZHgUrjkAM+e0m+rgGOoPEUm//seNzKf//s4xCSACqkJYYww8PlVmyyo8qsK//9//7sySJIqPED14AADjIcYA3tMCqwfIW3TAzHonBt7RbRHSMTCTW9N7ntqOOMu3Oz9KQxPFftWRvEtpznwb1H4wReIIxHphPPk/70F5QJ5g8HhhjGGN/12KkwQdo8ugO3AAa2QXWALSLxtzHyNTC8Nqw0kHpMlJhfTWDtK6xGTiuijyna3fXLRlufeE59OfETC96H2qJloGL/zuQHY5M8ghTRev//+XmBcFoR02JOoXBcoPHYEBSgC3m2JLLSySalN//s4xDCCCljfaUeJFpFFICwph52ZWKC0TciY/YiDpmXIx2K6mwiQIkzEPybLJ4PLaUJUHsIz4PDEIPFSIP1F1TVPKJM/mpREmqYcT//RI+PM/1/RWQmOBoKAi0CyBNwBfu1la3mayUFsPGq2owMmFnMNNxoQiOQtKBNnhJd1yV4t5DtmzhUc0G9pM0rm4xXsaZt+Ri8aUZclJRYMXl+VeUeOzf0qU/tHUGAA4HUAQSngAwHsAPnIdscugIltAmywtQyT2q1EPniB1UMA6dXQraGE6iat8nZm//s4xEAACqUHZawob8FPoSy084qYdi5jSmHmoEuKVQhdFKg8zn9frChwqGUtzFZH/61Ehmb9W8oIS6lKKGXAAoGArsAL25KmzGEtg8DK2OOxPS4IXcPvYpxSbkprYAeLqLZ7VM7fm4Z3s7tvFQkC55pVR6mw9lhgx0qio3wxxIUxboZ0Lv/2mNt81O9gId5eSiAAAgIBCAE/AFfssKFvaBYkfYeYxAN50Fw4Vopf2UKPzk8uAegFDQcyyQe39rPNzORy3FcUPujWa3EOnsfue1Q9CP/GYwgH//s4xE0AClz/YUwwS8lRH2t9hgmx///35H9lm6EFhkKF0qpAVwkAXYAK00m4PDPCVfRYGEBUFe1KmMq3U3IZdJvheGj6UhsCWd+H0Un6K2rlvpRrahq4rdIjq2z/6OR0DwtL8TY4SIf/+luxVS6dH1byB0ghFWJAJACcgAoaw5El1HDaPEkmmluZuVMRb3eRuYl0a57NiGNQcDWm5A0vUfKnF8mVWtJAHmFJ1o2kpr/rij8A6dB87ee/xxRAUZP///t/dyL4QDwuEhY+DVUFBAUjAHahC4sx//s4xFqACo0FW0ysr1lXIGpdlZW7ToQdBgzcDGaeZ525GVB1oH1P2+cmhDSEel+3FRBJMzfl5q5caIhCWEDSQWt2P+uJwPEs4KlT0Maf5iiogMEkb6q//p/9FJ9xWMmIQwkgDNgBf4msRAs9I1y3qhxmntDfpOEyFg4cRW8OY5ShJJOqkCc+zezX7qaq+UTp0xak7Vrc6Jo+g0iLVPqPAgcf///GCkUf9QkKBAUIQaHBYImEbgACRQKwLDYSR6RAVDzvVQgcCgByQDN1QRRCMCSdZttW3dZM//s4xGaACoz9VOyk69FWn6pplZV4Utqxh5LghkX6PcpQ8GgADJDw1mh0hehVUXKML5TKYQr/6v+hQ+PYNnbhEYLB1qiIUJtkFgRAXGFkQyBAVtTQ8QraadGUCsrq2527ucluMdDzXASHOIyG1ZxwAwdIHzcf/yqjCosQCh9wU3fdbNgu+I+6VFJNi49p/i4//gopyRo68kEp5gmVAAIEoilACtN1U5hgyZTmGcUUAgcxg5OFxlbuyurTFkTRxCks/imtmZFUr/4nlWhWEgsPHjG1Woaf13CM//s4xHMCCqz7Sy0kqQlPm+glvCCgcMG7ebtwzf6681N//zI05qj/+Kao7LapEAI/SvCqYCmnw4TAGDWArCiSFyKzhLctbUOzRhQAoIDRsCAHrjxQwabXvVfNyMhyBLEvX/xX3Q7EQGxYf2IiL4vpv9zv8Jx/x89WOczv+YX6yRw1FAhDp8iAAAABAAAp5Z4oayrcOGoy9NC2Ji8u3r6fXMtchuku0F7LGb2syAKmsc71WN27ral70z7H0+fcNzcuYnB/FIPup0ioWkdT9X7sxYWIyyWdydFU//s4xH+CCmj5NU0xCUlSHyVKsoABaT5HJZj7xOXOgvkdIDrtFlhcSE27GHef4QUxNbHlAMP3+YaQAGKifDrqYGQ1dMB7Yn////////9Sxzn/3///+WOtLZVS9lFJwRJ//WtpBwAfHqygYGQEQIB4mKmqrHq5+mFiyBQOgf1xEHTN8PPJHYcueqed7t286qdY5Wu//tCvi3RxKNft1Ta62/L3qmA6kzUBybGBOKVG02qtJSB2AmGpOGxqx84fRJPz6gcWJ0iESgAAmUoj+AgDFnl8J7M+yg5Z//s4xI0AE/ExOVmMAAGLoKy3lrACk9t0qiCDMhoy1A1aCglY0U+lE2kOUmM6tgq44I79ZgwsIaGUHY1pHvJNRSf6jjoJpa4e//WmxDKEpYom9IMRNDswA4H4wNRMMXMOkgkKygqx6BogY9MJwnAJ0iUWHp3aIY4fniARv62x6336kr62mvBX/usByMlhY9SBxRfHNr/8WNFzKreO2XZFyKFiCRuKrZUEBGeEgQIQQP59NUStttkp44tHJzN4YKnVVAoQOJjBwguccIVscodBLclBDPCdXIkz//s4xG0ASoT/UcYJFMFRIGn4tBo4Q9HEeR5ZKmBMGAWMeG7boQXLy1DRKKrGRDkBRpnqoVUDK4Cqef02+z5pMdkyQjIKEgEQwEoiRMQdMOo4cLpWSKvbet2KDCwDMH5HIg1Zv/kLA+GvwCzRSyBg31Pqr7hDyzDkGcNhRAc/x5HLh+OjgKt0j++1pUNUzCic6YIzF0tzEQYQAI04pgk+mrQQUCILHI2nfzTBzIDyYMMZpo6EqAMABdrpKCgwUNfRcAQfUJuPxTx3nysw76rdaLL/lQ2NNiCz//s4xHoASgD/T8S8Tgl3oKltkw4R51UK0mMJBZgUI3PbDle2OsQSjd+NdZS+O7SN+RPS/tbNQbqQ7fyNwAIBdGoCTVCRTKG5n5hLAeGMuUKD4ZbxBOMiA5+AoFpknkmYPkSgcjkrKsoudz3ksyKH4orqcqF/pHnvIg8LTnrxWJCaOdbIBBW/wcYKrf+/UwqV//oqpc3lQPCgfBmK1wAgBZB0YAl/B1Nd5JEkDg+Sjjgh0tDqDKTVpsicc06RMCWmVoPYShWi9UGcy+2NUOjMkAQMOoCCpCvb//s4xISADbD3Tc4scWmBoCkltJZYXuVG0685e3gIt4mHT/lD49nX/phM4qw//TkcVkdaqphIgqVM1AEAzNqBD1CWDX+qIMCZUkbmRHOJZuWFIzYgMt0Wv6STK3qNXagOlwQRxTA7Y2If56OVW6X/W7tETuo67VDhKtK4aq+hGQ/tU5s6qziv/88hWTU7CRnMLB4ygAEcRcsljADfHPV3gZBt3KNyXiiK4JFBofrQupqM01E914BQRYhwBC2VsyqXNpY7Tb7Q8BhZC+kXIupRgurecqpZLWS7//s4xH8AC/UDS02ssslkIOsll5U+5kDzCR3/QlnQehQDD9ZVOpI8wJXdAFu2CC5NSUAMvsXgqiaQfJmk9ikkDRVL40bPDtevTiTR7gjn0XMQm9B1xJZbKbmJ9JgipbsomZW86n/0X1NPHnWMGJ9flSBw8NwlGzLRTRHUslUkIQtFOORMAU2XwLKKPsSp/BQEea5bYuEej2JB+x5zVZtNqxCpAgkBjp+x4KOPL6Ysbipx5/rCnFI/1MoDhxm9Gt+rVL0dIvQyt/V/KepClaMhqKEiRKIIjiTs//s4xIQACu0FaaewqfFTIGkNp50ocrYArYTgptB3o+zsp0wnHCGTUVbsPxz6K1Uvjp8Us2E/ckJchJLPBO5eqKqM9jcXtxaBNf3PLJlD6gMKE+Uv//LK6+jIhnH/tqpfNbdtDZhBgoB/AY4FU5UWJLSi1ikuH3vhBzzyKcj7p8ioLOcFw45YCmrvTlU5XtghJrVb8ZGg6kf0oFA7jBynfI4kzaof2iZzAICjzKd7em/6P2OViPUqeYgq4JskAHNFUpzpeSQpZyp4QddIxU1z6RsFS+2XWa86//s4xI8ACsUDYaeUePFWn+z0/BaOuDa5XIauA1EeAJZWgADKftTN0PxAXcWVsu2RSSh8AYDgeHBEq5vsv6f+mpnKPJJV/eOc0f/yYMIAFyADPAsEtycvaRLuhd6iLIBbDNrrl8jj+WLDuU1Vk2Nmy+1Ww+0D3ETs4vnp+VlS7Tz7NTh0ei8ERc5V///+vKboWSGBLTN1p2V/6mOk5//6BMPAMQZggwzC+BGkSSUwURxJ11GbhSsJFVQU825Y4PZ6OYQ74e5rXv1JbiVtO5Nu4+pg4edNd/////s4xJqACo0BVsy8qbFVFqsNkr5S3LDz+RVAsQQNGQ8/Me8Euo0y0/6eL/1aOSELvLsbTFAyAAAORLAnpkCzQNfQUi4y908XOdx6pa6roy9cr7UsZZNgT1QtUFpani5x4+sW4n6SqqqAMgISAD+xhxLrSY4p///w/dEBR+HOnp8VgAABPrP9YSHQBgAwJiHzp1x0OxqYnG/7NH6R6gaEz0NQYzKNwaptAmTwsUWvEZgGEn1UV3OCk/4tAxxI26VITkSTf7lG1//3D8klHD3FEHLKjDX+JdWa//s4xKcACuUBWmwss1lSoW0k9CY/io1dZsmMDtWIAGACw9QhqmlUCY5Ini4L8YwGqOL1jJkj21Hl0qwN6ulcRdK/Y6+C1dOOa+V7UWjFhNNhyHgmCML1bxfz//O1Wuw0MhakZr3NbiM08q1NfgEmcNkFAAAaQgCgCkdMx4V6P0pddd2BoHZUquuB46DMaD5wqqVFiyp7a0RV3P1Imzzh2cnobPGrHmsOg6B8SZc1v90erTSo+XFxqHOtb1NRHOf/6aISoj1VAwAuwAPABzHHOAIYiIyBEwSZ//s4xLKACmzXVSwwcEFXG6nZgqJQwZTown155FaPg17OMwr7JvUPAxD3RzJiIcYQRpj309CqKjQiGDSkVv//RIRFve7KExrKIs4m450msfxxt4EtZQAogkqAGslgCMZ4C2CIohCKd0C9zTaAkIRKLS0QVCkBLQEKM3QQs44zBRIMlIUHaFF//9sygcVQTGAjChQaEtRbQDbQ6OAIGNpDpEO/AaFwEVUOFKgwQm32yHikOB5icnlADQ7iMDyus78Kfxi9M+L/1ktqHw9YO4XzM/DbUccOwKeh//s4xL8ACnTVTmy9BYFTn+n1lh1hzMONaRsRNTLNf44dOLwnVQZZKX5jA6n/Hv+VBjwsFiRsrdyyQDU01Zb/AaulUmH0tDGAOgMvgtBS9QN52sRGH5kAnoHqxDInS67U5c3JhL3BT7uJn+mb0ydiVsiCbxP/j/w4tQBkItTv9EEENVEwJE5c+LNFTf/sUkBHbZa3bZABe63GFcTSAxog2RBbWjBRM1ToMCEzEiM1cjEgoywoBR2reZtZngq3HQM9qCMaLgB6GLUhbR+nYYZIbTB+1J68npQQ//s4xMwCCkjfRU08o8lFEieptg0Qyyu1zvf7cclp7+ll0N5pNNb4gAJqCoAYzhWJJIxE6S3EZJap95/hvd/Ddv8qSKV7DFAMG3cFBwPcqFUjJYwhXf/+eZHnQBAcQA5bQBjDQIJExZpIhqv+0NMyH0bDhC1qXRp3OEI65oQAlRdYdCYmnJOvo8/WyUW3fsYPph2B83wk26s5z//9VXYvkgFWy23Rv4ARSYpDBMbpZZLJ+SuxjANzeHd///27coZg/yCjrGqfxyOpyna5a+3/+s5kJcWUdUOD//s4xNuACqjJLi4wcMFRlKtxl4nmRKBVoAzrJSaySEIjPowOdjya8/MqfkYqRWlIDyzymGB9cgN1EEtlPldbLSBHXlu//GsorQ7lHQBRgotT2//SguJg4FAMNwKYchkyEG6mujSfqYokHlHBxB7z8tBRcJgMj4O5KaIMKCYnkaU7oA9yoikaVOUms5xvx9WXPtH3mbUv+Py2EPmT18xNY56HrudQsw9Tf1i65xjMAUgwsKxrl/8BUSKQzdf+fnBAJODgJq8VIEAAAAID/AFuqkeiLD5UqjbK//s4xOgAElULY63kr/ngIanNp4uBYbytgIJYKwCVjAzkgVoNi9MkkI2l8our2ne70g7LKmK4mHE6WOedrd2MwlkUf6o7Kie0rGT0b5zg6jiJ/lgEIig8AAhwAoAvcAUEpHaXJa0ZhicUveKQyiFPdDrmw71xlErsE8OHowXAwTyfyOlDobiA+sfVOu2YYdSc7pZBr5Ex1rdqCHYuVGP/9f2KYKHKUHJ6fUyjoDqVIAIBOBAWgRYAIjcCkVvywDScJ4XMvX4cwmoRGoBdncza0RKi48IOYT29//s4xMQAS60NY0wsrxFToW0o8Q8LipgTijMkm5lGO8QYt5n+fasuUcXb2EIEDIIOnsLnLFHI0csIycuCDArR6xqkJMTrPc54jHLmQAtf6i6SdwBLgwkclxFVawrLWoESMnAgjvKB0+grPBKp7ccGjGwyezmw3ObPnO8QJT3owu0hNAAZPQy/LOGMXQZw99i9P0nMIAf1+aSVfPluDAQyAWBRMYKFQpx42baVCmirgIQBYC6wdeDU52TTacygqxnEVULoKYgZ6jhrSRHNCgUBSx22FoLypLWA//s4xMwACnjhW6wsS8FaISq1lAnxHAeO3QwO8DOH/jdqp/3afoeqiDbnkjZRUwGYsGsFsafisj67ayNYb7N8MXF+L8R0hmrme5gjxZmdMz1f65Tbo5ab/B/KjgtDgHEfikYg8O5kINu2ZU4c+wqC5t5X4ijGWegkqrEhWuO1DcPy++/kFuwmSw1xCwxLx6Hdd51bG4tel9O5y8Ox5osbaO1hLAQiMqX+XwmY/7ywPNOJBdNbv/l9y/nLb7bb7aREAgD2UymVQSovE5SboTWKJiuN26WoM1qa//s4xNgADAkBV+wNMUJ3pCt09OF500XaifkCA5n8R/cOyisTXoic/cgsd08++0Mb4z8qo/TsENMEih85vQu9axYhOtw3XzMvf1MiJsetDXrr3eue0AGAP1QeXVHdCdz6MusKoON6gWgeh0fua3YmPkoSBkkyX/6lDWYXKAGBqZ1ffT6rzZlEBwk7iJBoAgEEUOUlHIsOjRXLR0/Q15lDpwc3jSqss5MIABAPOD2cPioPCWFi1wEwo6TpNRfHbgDH+0d3RE6Pz//8j5I7BSEMv+1yzM0WpLfu//s4xLoAEmUjaaezD5FbG2709Jj7iOSMFlhqHM4sIgjjSJXgVNm6vrXmfZ1hmO5GWcpj7E2unc/Lx2SADwAUua4ZDhZz02lAIBg2MxKcQiAxJ8HkDahTAgoEt+IUEcKMvQ9dX0CHYwg4d6UjHOGGor+1fX32UhiL4IURDf6P5t1/q1KHEqFRsSr+mZGZml2RVJAgCGyGfNDJHACyQPaycRtajQkXSiWZQv0sDGIPQoYnIHdkUXZUpVBMccUoJiJwwoWQhm7W9e8YiyjEob44YRy7W9CNUk4k//s4xKaACoz9c+SgtklVn+x4wyD5cxcoYtfiyjAAAShmQAAKgB7OJi9XAVxClUX5G6CjXRHEpeUf8cq/sy5H7zc/aiST84BJGqFisESt9qnKjlS4TGsQXKgkpr7Sh4BSspH+j5WY7N9SSCzvUsdX+IABiro8MiDgbbA1TS4BcDFNKPFeM7LAYhSQS62NKq6morWKQq7OJBFUlOAR3//aGD25FWfKWhHEQUmAeD1NeGFi4ZVXmqpDhU63r3Ha/8t3/TsPl3VKBydJmphkIAuAP1cflAWQNROT//s4xLMACqkDa+5oRolQm+45vJTeIQhrkjqH8jB6Hn1MwNFKZN97P0qZeE5eEQkPw4FgUDhe6yDJG+H3pykUKMlOIoigZoRd9ohU/1b//PFLnQ1ADshkgIIvMzMMSkXgB/RuvVw2TME2UjtzvStMJ8NW5RLTkGCqGanjHzKHxParbxsHkPgqPiEJIRhAXNkC74KKRWTyamRGEJ6bc1fMgGyELAxHolSADAYIAmRivOjC0J3UE7jBx/Dn7JT98KBkRfHv1Qtpj+65lAgOAD2DMyB4LCgBZbuY//s4xL+ACoT3VeeYqclVoGk48aGx34xdywoXxi+Wk2JbuCBcSaZRFu43UZC2vAwafjUj5t4/j0Hkbc1+tlOSJ6CyqUPU70FmiMsxRrPiO90PhwhZHISYcpi5QkAAaAPoetruTg2HwzEltZZIEoJu2MB+t/2Yf+3RWbAglFYEBlHJE2jZtSDKYWQhmDZmiH6JFAy/4cGECnEAwjKMRLPliqC3tkwTD6FNBRWcxAiaZzARMwAYYoGYiMfrYCuBl1afWtwFUSs1yrFGBFABCpEB1dGDydHRBIoG//s4xMwACo0BUeega8mxH+r89I4xZDm0q48PlCaB2OFG1OZfZnOn6oQajktmmfvsZybf5fbMgcvahMnvUnNYiE04AEHRIJmbugaZJqrwaV1vUkGs2nG5rjg0tQoCulWEFgsW8+QEC/uP3PgXH1198xoSIBIRxNTP8FI+rBzKjfZJGkV7f///9CKhRUSi23TKAAAS0IAC1AGdwho53S3CopSzPOIJEqM2HXeSw4mOKqmWfQ4EvpnznpIKM/BAZWhikuI+pstwPgsdNKotrfXpi79Bebbziw4R//s4xM0ACpDZZ+HhByFPF2t8xIoYVSMLP29L0NPf1kRDgx4sVEJp5UMIAAIwBJrgVhALQFwBlXwkga+Xofws8Zk0qlCQVOwkfGaxz41/MxV3RhJ6WFWM6vN16hTfAiKYmS2+x2pFIe0P31H8XUka7LFAmXYKO4CRgQLNKGMYpCCv+Zj8pTftQEVmEuFbfwtgtQAAMAAMoAhVgEkhuLTiEqTPYcHSDvbLutWpZqjmYz142NX8NY2Zd+oOv121ubk9ym3vtjit0/G2+zgNY0bFYmfiGPz+cWpb//s4xNoACoT/Y+08pQFRH+21xAnrcamq5s8uNu9ItS1KF/9fv/1LQ1LM0iyOGMsBBSAATIAJdSgl8Jhe8d1Bw8cGQ2/4nsAOfQvHoyjKoe9ZPa/ZvQLe06jJEL9XV5LAzxpRoWwiHGMrpIc6ZndU8sqiCoIiwwpyq4mX//VHOXW9kpLQzWarmcQCIkHGUYUAMiJ1IFzYAarko5bHkTExmJwROrQY65KYfa8e7HlFX466x1nMmWo9mhmrOSAqWLJXvY5XcqNY7Fgz5e/MzLDaNuZP/JBLjL59//s4xOcCC4jxW6wwsQmcnyldp4l5RR7MLYFoNYXhI7//326uyLdVvT2KTzSFkoBAEmsAA3gDOXK9ancAV1iKoN5kmM9tp1clxaJSUUxZHKDUfcGzXT9zzpsYKGnsqKoSMoWAIeoUau31JSyvVdqbn3v6k1IIJo3///1tZ0R+GBDiBTBFCYGomZLj3OzQaA4B8IgwJmPczNzA8H5RQCIxWqAKtAGWwd0BfOhpZ0DYctCeiHHqXY5rP229ir6LyKj1M0dzFN6uQ/lUnRIHqn2Yw8PxY2jOgijj//s4xOaADCELR00kWEF+IOlplhV7mS1ImxnRv//0q10ZDhIFHijpuzoplGVAAAImsAAOADVVGezSDwKFjzFZKBnSd6YPuLL1530DKy+j+XeI2MZ/8G8+pV03GgtQXcSJDipBbT4sp73OlvfUlZmePr4kesU94kSHflglVj5P///ucIYQxyoINOazB1gp2kACLHWAAZQBdnmcYQEvWypTH2Yh1JwDMnBbgbzcdy6gZi3Zsat879//9Zi7lXCkWlReBAkg0YWOCULalXN3G0+gumfHyw1Kqac7//s4xOeADD0HX6wxUVG3oms1hLW6oUcskxz//Vl9ujoptFFwlBWErmLuTNGClKUAAGnW6APol7PLaQvn4bU/SGNddrLF6rG6tZktM/M5E7z6udzXfm/lzKuaXB1i9+hm+0vsJJ+lD44Kqr0OWDTfmexk0/KXrYqRogOM63//T/1UXHiAKLqzAS8w7akVQAl8AAOADcfET4U3EGCoU0CZUFmB0HvW0q2SFyynoGptRtYcLy/MKBmFtMfs2bDz02uVUxHYUdGWFUrByqlfMWCvuXTcanzuvXcs//s4xOEACm0JY6ekrZGGIGr1h4m6s9samEKMMlf//+uyMUczBGEgMVU6LceQqYAYSUwACmAFO0pHSNQAPFlgwwuEFhM/wFJ5cChR1mvVpHJePEw8Ol4rsbFMcy7zlkxzZhQ0pscIPBYfPGK3bfLzdpqoehkdKd0LNMSagYpLMT3//pv7IHB7kwYcRshGArF1kTXUmXEUDZaKZ0vEKogEHLqgVJwBFbw5y8pLbxBFblm6tUNTmhZtreawNtVTKmkClAsUpDYVywcgIehmYCO9UyaPZgSORNuq//s4xOgAjHkDXaw869F5Hus1hhYqOIkAZUL////UkcMIoKV6u5GIxhBpSCygAACIyAABgA0pF8+NNg0iBAQFSHSiwZSaBsVg9+ZlhWawsPvm2cW/nzq1sevjyzHMj2sW3uJzOSkhsMGr45mldQI3vF22tryG3tR9uTM+eM1YjSigz9W////lQEJ0AhWSnqmhSlUAAABKAxVnERXCHSQwnsAKtdTsR/iydrDVL+v8/mr/ii7cp/j//NqQXqdVABswKKrcRKeN3dOiJdKRXjqGy/bDEzFiGRig//s4xOiADHj1U0w8Tdm6Iqt1hjV7HR83xm59Gratz9nfqY0FzdluwCRNiCAZvqaDQXFFt13mfIPNEo1iknKvg5lcGC9dWYXDPxWWsOrCjc4bn6MfSIVBA9OKp2oyCnitH6PB5NGeq7Kyj15hsXwbQ+CXHNGY1TEoFYFYL4vTmnaNmN/1TqbkZDBVppkszcLtJWhyRn1IygJU1q1+Mcgaihwbw4m1bDdWz871ui5mYo0XdJ6sM7dLlrXBUmoax+HuQWCVJcEzD26rmsj5fPpjjA5QvhHiTME7//s4xOCAClEVZ6eMsxGSnuf1h4m5DswFpATHv/85yh47Hi//5pg6RiaopBJbkEtGUcRKOzUEi4PxiARC+z+fn//4SasDGAqsb/WGTBQYkRD3f5Ys1/5URPliz//rOiIed8tV4l508VUPiQj0gPkBhHMJkTo0iDMg3hxR5I2NqUKfNk4lsnWbOVVUxJ5mfMuaRx5BkjSWkZnCSTGkVU+HJVLVVUGFLSDAQqqVjUT7eGFQMa1VDGFAQFAJm/2AhTMq/AzbRqFASZjpbGFErF8o2oCZdVY3V9Yz//s4xOYCisSrM2w9i4GQneRBp6m5Gwr6vGgo+lqAjSBAhGPZMmEEEM/97vPv///vDn6qQw5DuTlJVdtd6p13tfd+X0lSkpKSkpMPwpJRGIxLLE25axF2NchyxhhhSRunuPowxUjLGFmM560erHBQCQpZLX/bIBBHOZzeZwo/uvbqNIQkGMIGGimxN35f2YawmOoOy+L3IxSULlqkVIuxnDkP5GIxGH/jdvv4f/555/////////////+GGGFvPPP/wwwp7Ye//gAAAZAEeHoAUIQkwjCAAAD3//s4xOoCDFjxGAy87cD3EqPcwI1yp2r580JwDftstd/65+//+6hj8rn//zgKENxWuIwJccOGPJ///+nQnImonwre26vRgIIA5zDhhgI0//n8ys7sNvOS+VwRAghEjxoKmB4aWUkjeGRJhCRWqkRTZPlL8///MQGMyNRWlj/s7i7/xuLjpAwNQ4BRgqzgMQT7UyUpb7//v/////9juF/ff////aDBjrwBVtcbcq63L5iQAeAC+cLMfGgOXl2MGQyNhLiN3kgMYgYMAAQMPQvEIFAoKE62pOi7//s4xPsDD0GM1ieYb4q6q13CjYABed9e32D4PMY4BP2dnbkretVfDEJCqtKLqKT0QgqRPDBbj1OqcvJa1zq4/a/Z887uv1UrWaKmWVLKiN20UzM3SLmVtbfOzd1o+im7Nm0ZZZgXQ13LeLVABp/WgAF0ASLSUi3cSxJds6w6GIpIzaKpIGAGz0ntRUXv26LMZWt/M501tSxridzC4p2EZ0XFPk6DMCm8UutAEzTERgmseUx1N1XsWZ3Kzm1OtB1jGDxnUoTOYjGHhrrLfxRgBSa5kAJ4AUmC//s4xMgAE+ktNzi9AAIMoKs/usABfl2nKjBp9l2obgCFw9Q+60xLbG7Hk9EzXJt8fLaeTfPaBS2RxShPyslLjwB5JAcLqmx7L+/u28sTczaeNyMTrh01H/MM3/3/zX+YFhBko/xoUkhsNml0zo+69IKdb4Jr1UlVMAAmuKhSAFeAN9LAWMnGJh6qiaNS2m6LpWO4bPfeNRYbleeHv/Ems5s89nlILFRsL4s0PjbIhMOUtZITfTVN4U88B7bUkjxQ7+tfwoAAIZP/3/pbwyBAZjEkVHOQjs13//s4xJgADGEFX6wwq9mxI6w1haY7GSZMkABzWIAAqADuBCM6MuIfh6qSMypGkpdJ4U1GlYydTS5woYnbwxTbI3G9XfVpdcksoRfClM+ItCUHy60G0trPc6uqdH06t5dBFmWn0DhQRSf8yf/Vq+ilZDWocqmQx2QMKvedFSAAM7QAAXwBWlaUQcVH0uWPGkDyZwG2q4YLh2piermrVr1nrT81xi+ZO1ov6dCwkyt9iHmr3WVbiWNWehPa7TbNoFWnOnHYDEg2/6O//zel2NMUZ0aYqoOFKp0m//s4xJGADGUPXey8TcGOois1lgnzAAApciAFuAKaDQYzEiN8zEpV63XidyCYzIM87Lvx5TVadVqfFR7b6H1uyZ9c1MsH6oGx56w9/Wr1VsunT58tsh2tGbHcC9cPR/k1KzhE3b6MOF1Q192iR7XqxQ9EjMPZxK7eC/WlAEHOzAAC3AG8kQZfiaXOEi3AXyJ0KneEYGIyNl5qsOpfn5/+6oxt1Z4DcUBatOz57O+OVqndpk7stF8xEpy7fOZyEs+omqv/qwDhxQUo1SwumpJABkjbgHwO1X3X//s4xI+AC30JTawwTcmWn2i1phW5Oqe4ioyyErCHJwcRacxZiE5Xt1LH7/DmFPblb9w/SI3gEJpSGUierclp+yuXxCKd+n2ViBwMW71Wq/dnls/Ii3Iy7FMGZbqHMVFhWyPr+VV0HGxY3pMnul9F3bTd5xuAMAAmp3UoQnOAKGmaar5hIGaW4g0fxj5GSuTMlyn3CAGjKIUEMQO/Mu5nlGGIS3PdWy2RJVLsLECCMmjRZZYvG9haVqCGAg5fLaRJ3U7fm/wFVrkk3mDPy1t/uRQYs///qv/z//s4xJAAClz1Q6wYrcGoIirxgS8Xku6oI3U7k/tEAANwgAEuADtxZVhRsvzBLEx4seW5t+rEQTRiuNG3Kxa/8G4f0ni+EAIlTjc43jVlCZELYgxzJboVAMZgThAYP76kFkIKf////4QjPWHAGQMDvlpgABP4gNL8AW0Vcce5uLskqNU5JeZqrMueiB1z6xlA5+0HSNIDARGMtaRnMQLkKfYikt1sjKpN3RDrd//6Kws0f6JX9/08CiXdxx4hFtOX8ll1UUftW8gETYAYXEXXIWSqFYm9iubD//s4xJMADWz5V+ywVolMoCu1hIobvZd1+qEi/Sj0EELQrju2cOfdevxODQsT8z871Jmb/u4JCg/E4UgzFYM1wSCIUI6Qr7Nd6VBc2g4D8TKz/Hb3Px4931+6xYsietNSEAFmeGIAUoA4kJcvLrXGmSXdHvdVBdULMVP+hWXUTaP+fvDoQC4hjv9VWx/v1aNBJiQ0Izgy0F1C9zqkWeWF5iJHEjSa/tgiFALii/129328ygds+26U07/4iAAeAhHZKhGZlG+1lqryGKSf77yN076RSVoUDyFi//s4xJUCCpj9XaexCMlwoKy0kTFw//mfOa0GCd3jlyTAF4Bv72VUU+TfjYo9uJklSkHz6f/OcNPm/d7x0zXNIQgXF36fi6oOns/OzHtIAoA/VShb1sg44WIhpRH/dqHr2FT3+SSkIMU6a4B0BL4//Y1aNx44gCAYISj8qgIwpw1nP6v4Oj5AwEOBgKKtvY6sjv8xnMvBARyBgkeAOTnYuL+rZEAAaAKz0mmOa6bUgYEcSCYMLC4J66m2KLXAYAYCEicHsQ3+kDFztHqQWCqLdPyMY5+Z65Q6//s4xJ4ACtkHaeMJKclNn610hiGSYAQLVrN7cq9bSoIiIrtfmlZF/Ky9CipZXVV5bYnLlBIBcoAsZmIAhpII4RjYSfI4oLmkJBbkWROSweoEYQCzrSlm7pp+WmbAqBMV1hD7//TKN9vT74aSzITLJpvEKYKiosdcpOn1CA2ScoOhYQAxCHsQACmwArINByqA8lzXIINNrgnKwIuB6kL4KMmZ7NLH/FjA+YFZSiALdXt8qWqGCNbrjq6tDrfrthVVub7pLYqgnOjo2QNZ/9AS/rsUqMzF4MUq//s4xKoACtD/b+ekS4FQny09lJWZrJZj0SrWAjkIAPit4fTkXUcSUXmZmSiboinKMVz7W8wm1qZr5PBWwQajWzJ9ct9QCoRgypJmq9M3QCo0c6k9ke0E5uJ7slf//UqsZaimdHKFBQQgRGQAE1QBldEb1qSgVuw9N8iRpwGzfHrUy+9FXZNO3fk4QBykAtfuiFqfsYg8YxiOtjacZGVk5A4CJhUEzLVbMgdLupTvdUdwT/5k+RzCnfEmi48i1cAHgQJboAnGfoAXJTmERk+0ErHc7kXNG5oY//s4xLYAClB/ae3lCIFWn+x89AopurCeptMzzTsrVx8ZC8vs2qw/ectaaT7312i2Nzb9ZlgOopEixD29UsObYz5Zv/jTN4kYpTMZwI1ZzDEnAAENiBAMlAEpbsZRIRQ4EmSuS1Dgx2XPyS4z0yISDIlhWotavkyphFSroepb/6iWJn1/dRu5XHxIRQowJGhgJn/UBZ9P/9AQEGODGdcsxl4YUGK+WRBAncACC3gB90RDCIShAK2NxFX6ptSKX2Qh087b2JBoOBodjQBkcgCAgAy23mjHdBr1//s4xMMACkD/bYeYVLlYnqt1hAojFWU6CZ0PxcDi48iFiAxfIQ5ijhY2hP/+ctSm9/yqKmOTQhUctRav8iAtFBarMjud0YQUtpl/1YkYds+YKKKklwYBlI1VV+O1nE/PMsNmk7+IG0Rix3D6gg2J3B9xibGgogVBKOpqAkAiD4+v3f/7zjT1FRC5wAAUoA1UCppwxhgaPaFZf8a7OWE3UzlrFqKsTORWMiTeUh08WdR6hvXZzkxJIQhAaY42fokHoQDQdZFY9q+baBrx+9IHguyfy5YPmTAD//s4xNAACsEDVUwwq9lTHyh1hIl4gaQP///16U4Qgb1XPFe3um920i4ZB4kfmWngL/ApYGgEVCWbOyPBhEBPaBXIMFjAAw1aQEiwvOEB0QUMDgSgfRXmP75co845RTbO4ciZb+KQ2/mFXKG17wBBKJkvRnDg8SAKcEwkAEFRYZYbuwdwmMd4v37jmXW44t81XPHCFHT/oZ+g1e13z0cfFAtB+OFqMgLBJIAf3EJoYqyoBMmMAfXXK3/syAwFnLxlaqBaFCwhG3riTMjkQoyJ/+Iuc0+a1XKr//s4xNwASmz5Qawwp8FDmmuwZ63fhFWz7cdw0BMbpkYAmUyW8lCcaR5oYx62/c7rCqVic4I91R9gYVCmp/9v0XX1QSYKaO/kVTukH3gFTcAZXQ7CmlCXj8CrFKsujyURurLwzVTyp735C8thJMKqxaLuArtT6eT21yTZK8vHLuWVRoDBQOsoixB3SyvKiNv/3Rve1EbujjiiYTDwylg8NXVEAAmMAAqQAT76BWi1JEYNNorLBl2iisrlMmvRGZgGIt7clU4j84+L1U2gdA03EVvfaeSOiNVC//s4xOsATUkLSUy9C1n1oOqlth8LjbRMHM8/nSiu2S+5WYr3mSpyulf/6u/96e7CiCaxJ6pEEFOMSgCxES3ZFCSnnZMWAwUGrDLWNU8IqXxHpZvn1qmYL/Gv421y5ZPi9XFNyoyy4XmUnpgTlGgnrbe1N5g22vo14d02W6tHHd8+2kiiN//qjf/1YHD18voQwkoACJQAA6AJh6RmG9LUj4OxYsvE3YhqLMAgLNoNu5p6rU5u138dQnT7UWPJzKU27TjXMGJSxzS10TQ4KETiRoKEsYDAIBQT//s4xNiAC/zxa6w8TblaIKzo9JXqD3R0JxkaXccDIsKxFiZUrT5uuTsOoaOjQHhA//81tNv8dKAGguPay3NQVE3F089/GyDN2AAbQA7sWAxqB8MHHJTCMVuW3QiEBS8yWaQNtb7pN5ItcclXXTNRZLAkbAlZCNEwhHHi6uTzMq/O0FjodzPla1BijSCrf/yFacjEuqNVSCQaMoz3qKAIO1JqhCTktoBScAEqmEeQ6GChLiGpMmZYdO7PXGD9xZ/izxGC4IF4+28dRzV0jM8Q1vErY6C5WbrG//s4xN6AiuD3V6wkUVFxoKr1h5W6jC5bJ2EJputNQwHJth4INvy//////SX//yiTsA4WUaeQNsmnzxYQFiAg8BgNaGjwAANY0AALQBqOuTGWRCnE+n1hr6arRdv02VvRytjgVgKy8SPKDk0aD0DC2hw4swQAvB4mdDhBWWfYZsO+FVmj9qmoGjqi6Pr//3b5t9cWP0vaZnWYciWROQNr47k4ZvnAkQwiGgit0vuHaNx9WrL5P+oJTa/WxdQH/ekr4Dyl6LWdt+69bWGfLWWt41ubjr7Yz1X///s4xOYADt0FS00w+FltoKqplJV6u3DTC1IOL3uqYIDLKZ+pjhOLGVry0zHGYkxRI7+ejfY//q6Eb1qNLEkl5nUaAjaBsACZJBmCJrjQAFJYp6oAf4hLoKVKwg/EsfyNyn8NhDt3GuKPRLfI5225Y7P8JkXk1EPPSvZTLSHWp/iQaPKQ6FswpeUP/ojq/7qp1nYMCMwoJBEQByh0WBhUTDHcY9UAMDmcADfw4LqM3tpIUudilV8JOBEOAEO2HPqKWXl01lBX6l33nc2aIg2r1+Y4imYT/1vi//s4xN4ADLEjYaeg1XnDJOk1hDH4AeMYweCLHYRv8zhESVi6iAmJRhIiVDHUFIZWQeqVFViAkCSxICwhADjtpvGQcRKGTKbJqa5YCN+c8ejKIMyIIMfITNyMzd7OdnzXR8xErASGBgRHtuj5RuA2DxSHOZYYXQ7aBCX9DqU7vKccgAQzH6J+34EYXmb+kq5+MeIGKYVMJUoACAANEB/cDHC+IjOlGY7n4RGzAAJMXlIxaWjIaXPtwEwMpTPxlNCM4DDIsJUziIxIqckEdui6o4+OIKLyJIkx//s4xNQAC1EjTYwJNUlWo2iw8xU4qNl140+ici3Eb1fwqGFTwE3VgTml51zu9A/Jikp67j08xbuSiQV864XAg4OXobW3zHLLL9bv55fV1oAuJtf/+n/3ojGbkFgh31oIAEk84wBnUTunLgMEc7TDY+6p0DVV8Ewt5TtqV5/G2zdt5bD76YSoXfaRYpSqNe0wCVsmbi06NLYF6yCJPfx0JNg4EohtY8tborBGZSnHSEKZGVWpmLQlb+RGSQHlj3nO3ZFYyQps6/pRLUyZEtbsvVTC1eNBAABl//s4xN0ACo0VQSeYrUmKlai1nYkoYAtFH+HnkPPANMxoIpgntDCNW5kH3tFaq4YYVV0nPqF8wo5uIdk366cEj3U7T1MgQWMeOr//9LbWa3u39b622XiYtH82A4cg3PlDosD5OxmkIsoJb/gCmg0lXAu1NSI7NpBdbI319/1W6fbV1YWzSVOXWoXmWQvUd7Xc8QF6Y602qb1WN2ONosHpM+6d6VR9F7O+2h69X5ysBdFQ2GYAxudOq7q2IVWiqoxEASACTrwBG5GCqpR6LrNqXuXLaReIh8jb//s4xOMAETUFOy5oT4HOoCvpnAm+2CTGaMQ7bVF23JVJghosquwe8qYR7lm2uhW+mZgZWDZtP/92QhGWgLatkO3oLAQqmKVgxvu4pZWFQIAAAEsAAzmiB1BkasoiiWlRSgY0Fwo4gMfOVrWzarGsKeTWnrfxE8COpcStx6g6e3deRQBU+EVq7kN8rlWHXEw2+gwPObf1pndSJVUM01NUfTCQMJPmaoEGQDU24Anpx85N1K6jjELrDppErwt2soR0VO3bgnfduqQERp2PhzoWyc/HV4efwhls//s4xMWACnzlZ0eVlvllHK31g7Kj1DKBHBmEgDiBqMdRf/7FqrhXKjmPyn+dsBblbqvIIDCCMDI5EOCoBq+zeJDHPk1C8IUtQSV0TKw5melaxI1HLw4sAlMeE10XSUGBoKIt5pTkC3jakopgm1YwYKgxfsj99xEwqRkYahju21ev7dXvdEmuWLGHuuoALagB215Gg5FxmFldaDC1A8DAJkgfNDX2TIEqgARZTyHvQkM3vyFTJHgWFJGJ1RKEqardcBQ9OhzYdluffCs6IVfM6pLThoaNf3hz//s4xNAACmj1Y6w8S1lcGyqpjJUyHP/9hC0rx7uXQz4wcpjK//dboywigLjwogBv0AENqsO61MYHMIBMgHWIWyfwEDQMtkkfgVkSQzNq1edaUy6/uWtKYMeskmo4giTQlAafZO1ZrTdOT3ty2bzYFr9ZcLd1XPxdxTXOxzWqzXvcSQiq9//89d/PMkm9pFUAkAGgAHgCOCEpEjWKoMBBVoxp1oGt2Ig+dZzL9UOJWv5GER5Vt6wwKVQIFrHEzq46oSpjMt/4T+72NaVCYsXZauM/woyA1+LI//s4xNwASs0BX0w8S1FHoCwo8pqquhngRUU3l9Jj1J6CFbX9hOrBGb7/W0hhQF4qTRtrnQwDBgmE5iGFhQB4EClUr7CQML2fSWvSxl1eyh11BiIBmYwTJTqUQRghBWV5U0kKb0IpN/DUale7guM2bCbKxUMpZ2Bhwjn0VjHVgbMZ/y/o4oPnvcIxkVFQ0ggMJQUMCB7Ne+xMmxnAQMGPgMGBgBCEISYC3ZTWfyNxaWMNbeFzWSumLRGKzucv0+g0BDsQbGWaI9wo4b+BkNQQhSI1+3xtWZ7X//s4xOkDDKUDQm0ktkGCHufNpiJRpUEqA0LIykpSp4vvCFE6zZwNfDs4doISTjVhLcgAEOxcMMTiYaZIbYFuOuXkOiwzhQXedFRQQhMEgHLhidhuneCBI7KmtSeOKUMVTHXfTz7IC06k2APZL68Xmnc3PyiWrnfozDkLGdtcfiV35XNM4ii80KEty179O5SWM+/+v5+OVd8wEFrdPt/G8YghBKK+37EAFwBDMhARY0ABLUphhLAY8N2MtGIOMI4LgMUCyxpkpnfDgYxJxnM4ixEEYRmKs2iD//s4xOeDC/zJJk68a4mHGOPB14oYFaFynk7N0dqLUE49kTRAiDdjJkGQyJIF5jULhsMWoMmExtAoo1xu5tFEwZorYfgnKrmWhJmQgFgYyIWS4TcMREwcKGII5rAUYIAmBEBMX2Wnt4stFNpl3PvP/8Pw/J/IEvtB/u/tYfQFYJcAKTkAF+lVOv3ZdcWPGRiKLtZaKTALrPbfHK9sF2btSarnvPn5f9zt165VfeWe4iLE5InhZfezOqByRow9PZ0iuECHniy/MXwfWuO1rJgV3zrR4Qc27HHc//s4xOgADBCvIC68VEH2HWn1kwuH9DhwKAYA6ATYy380k/92QwgC4BsAriooX5zKX0p3zyAwCDCAA9wBRvA6oXIDYTBDU3MWYTtC+O+y9BlUDCIaOjNHQoZNZRc8XnDwtm45E8iD8EXEehpku6Pspf1dOh44NzH//+dZ///xSJW7EqTnUYOUdQ8Wpkfx48btiLiTKyJIwIQlKgAXcAMp4viW0N87Al7x6Xc1EUX5ksgue69p8atqXNwR5mptDhoNpKSisWIFyMaPegujx9mMFqnshr+Qc0uO//s4xNqAEtCxQ65nbWHpn6v1p6tHn//+39ULiobhQfIiQXOmw/Y2pUECtAAMwAvAEecDnHc5wkpKEtHQeI8Xe2Do6wqz40Wj/+nnT9RtUJuCs+nsm4kMFBwN0ZWg1FU7ChrxoojJOlLTu/////h0CFD4QMqPUJCYw9TAABbjABdwALHhCRgBAtUKtnCQnHBNoPjTgvcLutw4W+7d/xe3ZM/d3M+R2UiDE4qP/ul3u5ZsI5ERyCPOYqPv/6J//aPBpnEliJqMco2HjiAAAX2AArgBlua4BpKK//s4xLOADD0LYaed79lSnmz08R5SOtZfrkTVQ0ywq2KzRqRm99Q31yLD27b/i0YoWFhanWVUkkHQBgXHMxTCwdCqrM+KircyuWpo6kbL/mnf/7KaAMJQUHo3oAAAuIACLzsz8VBQPYy8TQHgSAYpvydWtfWtTkVy4f5M4xObUSyeXFHXf1Z118fUODAmDgpJb//RwfCRLOX76Jhtqq7uapGv/+3//IpBACcOSuVEIAFxAAy4ATkPBQD8Zs9ZOnLF4yFnhH8lK3vcSwbUhEXxfuMu0ZvOJX9I//s4xLmACj0DYUekq9FAoGx0kx5iKPnVpF9Xsi5VDVGccqlbsQeISE/29CYT1TVYlOqDqZcL8aVSRHj7W66Ji7j4mPHh4uNRdf//3rYgEEBYOiIwbaKICmIADvAEXgQLoRhqiEFCDUxZ8GCKxZtIn5qNUjjMk/KitWvasz66hDxGdIAgRHCV0JoFltSawMtLETc4x3W8MIPayMf+aTY8956////4+SCATETxFQ8u245gBAJRAAycAaSZR6wcNT/fHyWri1LOERfKlx9dSR6Hpf9ljNOlI3BR//s4xMoASmTvW6eg8xFLnqr0xAtLq0UddaNmBLGxLA5uy26oeIqbeMGSnPMJq4sYPuRP///+geHCwgADlsqgAGoABPADTELg/PSk5dY7eDUZSE/4/T8aaLc9/Fs+ru9lqYmea3iCTTstMtuLxGRj2FNntx2Z+Ws5+eWkbGS5hYshpAqb///9GQcNLocXMCoPztYu1QAAATEAFgV+D1oEFCKcwSBTNs4IGDFCkA58mws8yomn7A9Ked+7MS6GIT4mF5bUa0wVxsUA5AgeJbrT2O3T00XqUEqD//s4xNiADVj1Waw9TdFsn2w1hJ5bHMbDI8xlb//+v7UFlBiEhgQARpmZwBIsJMHEdFgIHOsYYwY8VDtZeMAq+CrnCCod/eKyc9WqkCFt4x0kkuyl6OBWjeQ1MlYfTWLii0KZ56nkoszR6Pq0x9PWa8+lIzR4uFOYJv0f//0eqlRSlEnKgwVkTSoAQAcBSqoA90v8EnHvCooFOmRI2hAVnzDoGoiVLXmhPt1YYOo2TdHC47rhijYxmR2nUq5mSuzpExJkHUdw/maR9lle1rWvxvfxW1rQUkqs//s4xNcACijzaaekstFVnuxo9h1710YCAm7Zn//6o8yOaUoUCB2VAAJDcSJGU742SJU0Ug4a1H1lIKkQDba5KuTO8qu+eH+QtV4lJVMv9kfPK9uSWD1gRmyzUPUGzgp5U5GWR8VmfqSX21AklczPuN//788CGuo3SoCnf//veLN/6KYDAIdDx8VdhBAB1Y1o1A4D1itIUCc9hzRZ1yOh9IRLSyCg71crIfpOaqo75iOr9ZKmgO3SSYmCVbS9c5qs0zqhHeJtY8zG+xHNaTLcr/yu8v3N6HHj//s4xOUCimD1VYwwS8GQnuipp4m41c5BP7/z30amA143sWfvDktkCMOQQAzyOgUTa5Aj3QNLt8y5j3vfrAmLoLpSKIYtXfEVs1xmziqkrh8nHSsekySNCg2hVRzKpJsxq0m8VWfLkXWCM0lCwnThz//63f3t9VUAAAAEC2gA1GGIuwxWNB3CDJMOWQgChSqvsEpJJSSqDpy2yBc+NmIxundGXVYI3Wpr1Ldxrazynebx+7hl92vud7j2bz1+5ZPxOWU+XOXNwzXsZawlkri9LSOhEWJtuY5J//s4xOqCDBDxOM08TclxGKUdthk4V3am8bmHbHK+VJF7eXdfibYocEay9rELZRLKObh/DHPP9c7///5z36//////BoUWB3p2313JZzD4ZSTFgoSylA8QjcaVCJ6VNgANf/HgQogUlv5z/f7r9Z1LtXK9JIOamZ1x2BGauagCvH/n/+7L/1nUsSidduVSCxXl9JG2kP4BCkRUNHAXRDEhnkbDECYIYpKXfY5DsDww4DdVMUkkcHWIiGQmWSYqpWXBgWAMwhSxNCDsbVikjc1DiclmGI6kOtFm//s4xO2CDIjhGg5lgwlHl2UetIAE+f1H0WpATXZImqiElxHKKq7TmSZw2HqngfLdyHJ/dyhl9vlProeqb1v390pILAH9+AwFGpg3eHpSwRDmyaHMMJQ/kou3b9vX/lhI5ZL31a0DUBBMDJS7jsvxF6fyfpMMJtk9AvCr///WTQonWzv5ITFnz/6YnKE0ASjiX/wTkKY6v7KZjQFCIrlAQx/5sB5CZ6q/6roBiBRThgUKu4ACecvlYkzjFigOWKoxqCTMblNymFGIwIAkIBzh1vsMOdZpAgx///s4xPOAFT0xGnm9AAKBJCfnhZAB/qG/STlG3r/4hs9vdwUg/C+HOohtkZ0kJdXCOFvu+mZ5VCuAiSXU8RFnrTln6IRXucekBAhXgBxVHxEJUYhABTMB0FgsKrY0nmzEQEMfGIdCgAAIYb2ljIFJgXXaZDPXD/WqBcm1Hg+CQDSZTGvf25e5lARIUJF2I74KRgiJUxEj/8qm/768ggpG5lL//c3/cKHOLLwECPgxLVoAAUwAAAOgCVvEBHnzWgDD34CqxyhOSYaScKfRaB/ROzWeF/a4SO/8//s4xK+ATSEFZ6ykVpmEF2w9x4moMebkr2nI0atj3cyB99XbrQKbJEtRx00PyDt5Gy/1HOnALQ4kExA5CldjHQbAvB8One//t/6GURRwajrOqjio2MBL5QCbwAh6IsnvRKL0zRGhTCRuLYmKUgIEvapIpuIT3sF5ASHhc4PmVFtghmr3cz/rabGP38ue/olj+fPH5Wr5azc8knxeII2Nm27bX////SRZnZUFSgTjjAeG+wAQgQEpQBVl6CtxgCC1hoULuBisnWfmOAuW6co/+TBICo0sRRog//s4xKwADZUHXe4kUwGhn2p1l52xpBE3zBYx3VRMcp0sY9zVsLCdzjh8yqpK17SiLq6f///qcXHPWME0GogmHQmIo+YAAYQApeAL8wbZjTVHAWnkjRHmwqwX6a1Vh384cEX2+YKTGaHJkSOuz41QQMNo4WRMqgWEbzf+seJMHUQ13tmAZDiziR0////OKhg2vW08nmQvgAY+hAJfAGsTZTW1LYDX5ewKJRZjLX6SgcGWvbnKZbhn39WoqZJxQG2Tj07Vy4y1I5Z7AqGmVGgqKGvOHTiodJ6s//s4xKMAC5z/Y0wsUZlUoCuphBW7nURArWab///+rCwstJXHbas9xdJKAAAoKDATlAEibCb3MA0CMLDAcjTpd1dM87cVVC4Vk1N5RWtZfSUcMzc5URSp8Y+8zfSJEuhgkiPVv9SqxQMz90dENQU5qsMZ//W39pgZURCVbUmVBUAMAgV7D0FtaQBhcJGK8LDJz38eqVoB+fltqvti1CN1H5LqQgPRGFC/+TLu7XHTShzyG2jUtLot6bNdmDiqBmWO7JwyJdjLlP//pkov8zWoMLThFisAKRwA//s4xKuAClTnT0yYr0lXoWjppJXp01Ww6bPhokIhmPQCW3Eg4sSdLxxKboL01y7nixzOQ86ooyhPrBsSU/+vulYWasESSGIGEdrtmsZ+835INF58z8oHqm/5VRN/tH1Vede9bdZbtTADX6isgSiJnJ22cUXB5dKXWDoHhEcquXm73u1pcNFzUgYx+Xs4tc27+JaqPhOWuYcAgXnGdmMRiJM+WQfLMv0+jGW/k3PVDUmOhUmME0T1YmSI2KUAAKaW7PwG6AdJuW0E/DMtsvbyFe6OTCRtKoal//s4xLiCCqjhPa2kS8FSnCXJxg157c2mG/R1mcXr7n4cLIc6Yb/fzhEZgIAwUxHXtvwOHD7p6N+jEkJn0/p9V1EwUjxomj8QFB2GHoANbb6Ny2ABzo72UWTMoGJ+YgpZ9ayoeSOpHX7+XD7HkmEfmd0gwM5f0L6c6uU8jBD7J290+KhNT0yp1HuvzfsXFYKgFuzH//8+PuYOkbjU6wPGS84bsYOC89VgBKW6kBRIAMrh0fgJ8iaP7IecE4RRxKzoQb2tI6vRk+Ca7oJkaA1FsETPG1O5nkd5//s4xMUACtTfMs4k0IlPnylll50e8WkIx1lJOpvLOGCgDkeEm035////9sKnF0TKemMq//5hYI0YAAAarcAAJcAUr0AETiMzFnSsYGTDibf5hqElBQ5CUf+ue5BT4K1y0zMHTukB71jlxv+7cB7L4eKC5F6L0g2QKlthWb0a9yjN///yZQg6maysi5QdIAABVgACVAFLJRTbZiocoCusYoTLbrLLSGPvH2tnU/Op/ji7Fd6UmdW9fFAjRPR+VUjewCKWAdJZqdJziOUI6OFaemoOdl/x+vSx//s4xNEAClz7XYwwq/lpoC60157Wff////lKIxQSArIskVXVBrxbuHkyMMuUBBAAASJXgADAep1gqJeIUCXyZSpgmNCH6uxGK2jSjwqF57ZXjBz7f81qJtD+1HXJhoBHgVFyI+n2kg+XmwiDeUDsWVVyQZKcsJjOntfHbJebnG3H//ynoFDgAzxEMQIVQAMcuiCGBqGw7eq9+kh0Nh2pcq0UumiDkhd5/8JwADjmZgclfJcMA7Xe5f7w8modKimYvxth0MHkBSuu5Ah3Lq5nTo7DgISmYq89//s4xNuACoT/a6YJcPlTm2s9hh14yl8mc2/R/R6CaU2j7bVrRGZ7Vv+wfHXrogLXXUkEKgCllQoNm2AMFfpNwXweJLwmAgZrkpHgSaRzSerNuoNqqdcBP442YIACB8mEunEZ8DIFjQAxYQ3qaDy8Jw7oTgqaMwbxWX/qVDG/tzHRksUh9a4UgZ4VAoaqZACkmgADeAExKUWk1FFDyaXF9kSZU3W6xInS7zeFnMV2ysz17GlZIbVr6rBi2lmhJ6Pa1YCFMg/lFLp9PV7XV91lMZpWARyNLCkJ//s4xOiADID9VawxC9l5Gyk5gy2pv6S3yG9WFM62DGeaDAEHPZwMUBiioG8kAAA7ugACqALjYwMZgwucZyWCgIgEjSFRxAdqBqbsNVLSG5Rtjc+erXmanJiubUtE5HVctiPlRgvAaemJJJT8Ls22I6WPQPLtIaEexO1rM5XJ6t//KFUtXLrRyipnqrCV1QAACzIAHATb+PnJRGcNn4BUcxQNQFoTy3qbVppblIZlcury1+2VxC86R4dLgibPamJeODvysAEOwVDkW1TV893rKjHc0mlQGQgl//s4xOiADGUHX4eNi3F8Hqv1lIm7xFY5QrSi3Imt/+p1DzzwwKrm6AGm5kbiSdUcAC4xvczgBrLrUtPLt2fuZbvwXzLtnH+5fe1vt2h32VtdEgsszCZ0g2N6hHKKcApD/0IOeaFYrq1uy7iqR8yG2XHW4rpJiYzbGxiA5Exq6m/6vzR1p7JnfHjlAAIFon7JKSXpBMh1nJSlnmvxqMzusaWrXLgVDxqm9O/8Vs7WPlk6EptT44lmyGoXmOUwJSMcrazMznNXlcVSb0f0+zulQ4RAUY/31Vjl//s4xOiADF0HW6w8S9GBH6j1pgm4a3YjxJ/iv//+pG1+4PahUAB8FeOov4CyWAC8KUX1QKxbmfPrd63DtAcgEj6a7YmW6JqxVjqs1rSNnou0jyJJHaak2a3Oduc3dcHknba2pO9E2VO1rcVBUNZ0j/I6v//qHWnm4qdySQAIL8hmIAijK4ccZ7GUKZJkMErlAFmBlaJ+Xo7xCgxgNhQNzlsDEhoJZxZgjAvCeQFCQBhgCByg4BkyUFwORcQTIUOQHKDmCEo00FmiJuTZXJomiTL40BkyCSeS//s4xOgCjATTNY0w7cF5neRBp57QPJFwpEEL5IkXIwipqQQdJRJ0iiBWH4ZoQUE+BtA4XSLizE+aMX0zc2NSoUjAvE6cMSyeQMlFtAoy8t6+3yPPO7Kd/lwymmaNb+1e7tX/7f+1WzM00j4XchUBjs5bcdCIxkZNEdj0OKYBAAYOkGgURu1sat/GRImmEoBmoIXmYYHnGzcFYv8hGLBH8pjBMISgBNZ3qe3K7WW5RF8t2P7zfa2u77au/hT8pd9/FlbT4fqUsrmX3ToGAYDASYrLL8dcwQgO//s4xOoDC7DdHGywrcFeFWEKnrAAYEh6Yvhqpd+H/z+8/87FjOHMbdJSYQG1x+23mqiuHwnKvP///////99///////71CgAACdAgMu428WfKVCQagLJXs9BtMYBxgQBQMYOOG3wRoZ8Tj4cVGjYZuyKZA7l5n6WGEAKUDa64zOXqsS7F8cc+6zs9yu9q1N4/rV7//VTCxUoqepSWKWgdAwYWWzYhDs91AZb0CjBnZgmuDk0CiRdhhlJPP9ALNH8kT4Ufa28+z31YKYg0kvy77t54VNazmLG8//s4xPEAFjWU9DmqgBp3JCSDN9AAN5Y09vYX+TcB4Bgb7vPmManngQEKrvPA1OtFnwOZUZIquYEiBkeaRGY/NAciM7CbC09US/ZkEA4RWbXRG+uM+6eFJStlcrL4zRshcyjLOt4h7hnMHNdWtXHzf3a1Gjpo0C+cf/x6f4ZJnbJFZNaxHRYAAAB6AgKrp5HCbx8D8QgpoEkAnhZ8KGjpuUczEnzatzXnTEhQcPDhQcTNLNNSHAQEzZMyYkiBLafeWpdOLKkVmoskHdMRNw1wSyJfcdSG6AAx//s4xKqAEzD7LT29gAGgoCeZgr5YLpRoQxWKyG+Pw5FAnGd+hcKY/zmH4+VPiOF8VT8insnGyQkKiT8GHvNIFKfx4XVnPZEIfCUa63F9M/MX7tGXLTOhkYBlqVL8AWgBbYNAMC5KRpeAQmFsAKYL5IgCCpRIIANDAvAkM6MA0c1IAaDHTQhFl5xAZQVBqwCsTGiGmmDDDxh+AgY2kMQJXlD8SyJrrdy7ap5t32vslxhMM0t/MSWbfAxXjHeGtwueEcg4GmhEPVYCMSznvWt792RD3zFMumgc//s4xIsBUzT/O43p5YJXnui17T04Kstj6tb//e5n0KNW2fi2a19t43/PHHrX1tWgAKACNS0xI8jWsvMOxBxWJgEqmOoAZRE3sOGqNrgTeFAluBzJhEzm4GCCo0M3Bww8ioF4yvk0ciELQ0wgTppVNWxZ/1+1vznNpn99rvU5/sJPkUonHe6akif//uxREIBMFMArF/8zrZq72b31IODhSKhw/PDAFAADwJQuUEw5lASuoyYBTWEnE2Uayo4E1TMUyBzk41FFU4aRnQgpG3GTTZekuy2zI29n//s4xFSBDqkFTm08swmVlWmxvCy42WxVJ+SR9pQ7Lltt8SUg5OlI1G3bDwglSo4TDrt80v//8wePYNflvQDMRAEoVUEjwKoALTgCGnTMF7M6BawYVMhBYY80FmQCNPz1OSFUC1so/KrMMwxKlRxuBpmW3M/lnFE+y6NDf1/9Bt8Z0oJVzgAUCbMBN+dgoY6lKzL///VyAAytI+jFWYpg4Ck+kghdMAOQ/Rix2HmTuhdDFjRs7LVPQEAg1ktEne7kXlWUFO9IG4LvkjuusBoULKNzHY6Ji8Ii//s4xEiCC2kHTG0YVIlbnOids4pYBoPX/4jESoOY6a0M6G1YBd/KCZTLujoxz1//zBiIKp8N1QYaBf9gMZocCH72GgQNQ2SMInYsyYyRAmaqCToAnlrl1nqpqPmm+2WXtROIG1v6p0JGguOst1Q6ApFsUYotF+hou6GshVLt/+ZQoIU9EmdFnjgAADQUqAAZiVQIKK4TAyN5eZlTNTCIEQugkua9mkmbcFkQlHZpY+uZAaLRZPqxNKmrdlpa9KV6EofBBJ6/8iqWgMKj//IqqtG72mreFUv///s4xFCACjjlUSysS/FVm+dpxg2lNPDA8x/yqgAAGYdRAAd4kCjY/o+VCWOxNHFL0FBrJYBf2ZfRdUis37JlqcnLsTRPOXJIkXVbi89Et/xGiYY42Zl8/9c8k302DEreIo/2+qoqoCU2rgwEgr6TgauCiTHKAsSc7IEMxcYKlBkKswKCIZ5pNoXBJGA/OxhEpihVWXIrxfWldtPNWhKqN2jSrzyJYd9GSjA6Vjme71tdu7sc2yuOkXQCigHaRVbWY0WdR6Ki52JhVIMeL+uACQGANfXa6tfO//s4xF4CClDZMU2YT6lMmGOFlh1wznFhaBKsZgKgdJ5wjUccZxdWk37b21rr3W2Hc1G13w2211TZZfyyKl38fMPmovdLXtr0Rj7iXO5XWdEwOfLqfm86qQCCBVClJmMA8xiJTEx8OGLonBkQNeo8DC4cA3j/gLJktFRIFggOEvBf8hpBGbMy6YGcxRPe0xSWapHh+RNSusv6C26ZMFMTAVuLjG8TRIkFBMBgYYAwIhoF+B0gYOCF0mZNuLAgeiOxcwgAk0BYGlQToIPDGoCwYBMCjOlwj2////s4xGyACdjTEhWVgAJZpOLDOVAAWbugz/3ZyoGXf//1qi5G2Qp/MgfdbsioYQEODzRozWrSyxx6Z0YoOhqUMQZLF3qexYgRyw7bGMiXvvZX/+z7ZJufgkExA+aNe95ubwbm9xXLytann0jrjp8dhvMU90wfn//6cQJoJyTrt+/wA+n7hggAAB/wcDtpIxPOGzBfbGx0xIKBiRniNq3QiBgVnCPlKOghA0Jj8/SXJwfd23Mq/n4Dh5Kt4+1E4MSzZdTXvH26fotwnpH/+bxYo5ZBTP/+d4Pv//s4xFsADIDbXZ2lgDlIEmslkb5IAAAIAtsAVAG9IFVskKXHuoPtPT0BYNphDbviyGbMVI1YhKKevbzXjJx7DY3cQ/57PPljeUc7hay3MZLwhWHB7Ry6clGoC3HITYL1Z+L7v/8b5w2iMQhEJwBNwARqKBUhE2okcCEJHqaPojoPXEyA7CW0n0BAPmXkU2szHMyl6jl71RMHmpFZdyg66vFUcFclXahlFSmAJWMT+7MpFfqX////KpSp0MQPrIqgEAAAEg2QAQxVHQXVpBFC/DRxZhaRaIs9//s4xGGACniFY6y9jUFYH611h5VrCC0dgaiKuBsMzgqujoUcF14t5pcc3vuWmt1QYaLEZkCIrarOUVFaIilepW1FQ+KtQWVFMb///0Wm0xhNjpdABBhvgJp4wINJqVDMoHioKTaR2clxP9TO6GgvCYVCkL3i4VnFautQ4MGIcU+3nGodwkIGMVAIDWCIEItDL30Eg8CBUxqsn/7dv9TTtUVIIiqIlJONGWMAduBcJeILKjFUXptN427om0qxs7TIVq+rE2wqp9+NqxFk2qq+VgVsaHmMvPX0//s4xG4ACtj9Xaywq2lNH+ulhhVncnqQUjVNS+5muLEsgOBoVb2tqv1Da3v2bZ/mXrHhwNEyKhKACF2DI2AHbIJkLxmFVBTA1oLM1Pzve6jbqXGaVltD8RWmeyPp8OO6tNN7x84Gag8so/x7OLCzCY4SH5HdspxQYDkQVVqFe/odbf/8qQYNgSDQ5VUCCgUTY0AK1CM7a7cKAO0yhj1is/NJDN2rnva/+YnnV7nkYmXkZ5QT71JJ91FmIkVr+VHfcy7STE41/MSxc5LGWmkH6U+NPOmMWTEU//s4xHqACqD/YOeg8blNn6uo8qbn/29Mv4zhUokxBSWEIyjltgApouoCx7jUmCId0wIfZcjUFkF/EKqRYkN11LL2xPq0v7dPpggZGkaWbEAErJ6Vaa+562OccTRvzQAAJmSqLIchaKh8MDSYuyIe4GlhNQAS6QSSG4gBZmhgY30AhQGx90UR1RDqM7K8HghUKrfdR3b+AQbgz74Tvvk1lB1xFE+kxQL7U+//4rVJ7ytACM0s/cU3/+8tNfssyhT57LSgVNKNIAIWASADlAAzjwVYQJRYsUNw//s4xIeACoD9WUwscXFWEOz9hK4meQWJb0QtZoLoccHG/25rQv1mjQo4qlFMyEcxaQTA6vLZp2tw9qdSfuf469O4QpASHgIwbOKoqpgdj7729bkicrJpxbWqQgB5AByACisrTaDmFQuq2jrzyfpHnNRurpfV+ODAZdNwizEIpKQHd1dHQJRqQ2T5r/4rnohvBNCEGxgXL///UNg8Md/9Su+utf9eYhzHFrGp0MAHiCv4A1XTbjdZSAkYdC/11fY8Hr01sJ+irMq14tosfDJojTEcLg7mshQu//s4xJQACmzhXa0sT7FXEar1na0ahLarVISmdcko3Bw7nTc77TDmEQS7fbxk8/o9zJTnlBaBxYamEA8BoYGIOoAsgKUAVfQtEpMKPcn0EAwcFW8AHDK0jcXVpHhiiiokGgnuBYRsk1RWtaNASdVyrkm5/ZSlUaR0jQyod//8rIb/+VE+/XW5Bo4SFlKk6iwwIx/AABXYvQNvghtKHRNF3UafH7a0UzeqGTLJCIUJFJFJFvfEzKrXAoPedxXO4UVWVlVtV4YadAcBeYte+Nm+4alWuY55uqth//s4xKCACikBYUwg8vldIWxpg44yIUt97Xwy88ehJsf+usWVdRLACtAaDpkgoFCGduFvwgcnQ1ULgjBI1F2YISY1Yk7tyi7F3rrPTlJeVpbBKA8T/li//vO1/819McWUnbgxiWVbFmkP0nhOQfOxMAXRUFb//+VA5wCsADD5p2uwasVfsfht7VdockTC5jJIKZoaDCrTzNFuWRijwp0R17EqZ8yrd1Ob/RA8VXJ05TiYBnEe0LtnT/A7BvHh/45Iv4xP/UgeAAAAAAbaEgABRyVl8kmV8I+P//s4xK2AClEHUOwgsNlToSjlhKFmwiGerHYSGpeNia72ppzjQ25J6w4xARoo0wUdtfIUtV1nRvQ1f+l0Wxn5g6aI4eDkcNzzBMGBa1TUX///cwaE31yYRDaAAAksBbAFFfEmQ2sGMcmw3TEnAwJuEmRNEwZINcGmpJYy0ZEGsa0gkWFQqCrRI9uv3I3hlFLfm5fvKnm6v8rv2+jqQBDyEhZJniEPk9yxuWb7UjHKfbvsPk//uOK/sn///+ylhkNEnbqOSSSQAALKyXABKXoC0hbkpO8fd4kZ//s4xLsCCkiVJk0t8ME+lmYpgrJhGHCqCK3j4yWIuPzAxevBeSfcDuSPBsX2scOrQBwlVRHB1E5FkYFB3s2+K2brsBJ4kOjqd64NNMEpIKHLNTGvqpSXou5ap0OrTIdqO9gpxL//tdnXaQANEQ6wBLpxe7HNhgmIOGTGsL7Jm1IbsYyz+wrLORfVp7Swtv7fzEuWEWCQvWDQHwMISl7uO1N3bLuH/1hv+X+5XcyKEJ//QO6Wf99iSAeVkD2IlYABpQKlgA7H0OtXQGTXRnNJ6GKCthIbVsfU//s4xMuACnjvPawk8KGwn6l1vB17PeNdSQD+JqFeQsv1Hka7cwlyEqbxSKLCpF4k9/MxAwXFWdmoCmT/9ka1Df0sowTOi7kIww7qXgjCYRBVuoA5PJCdaUZ5P2kTM4PnLICf61uU2d36XuFaBnzfIDGokTXNPg2f8WRbvjOU+YlRcs9gqf0SNJfa2q2c/Z+hqKj27boxno0RT3QqFEvSEwQVLQB6I5zhiSo1nzHZGVgOOfDwpAmMKBkDMyzWkqORp/CYsUVjAvxqx3lVGozoUE17/MPed//0//s4xM0ADQSFU60zNBFQlCxph4rOiH+WBJnW+Vje+UEryJrO/uHCQs5y5sY3y9qc03O8kQBgTvgmHzlHEAZIAPkOT55M+9R2+fXD1MeWZnU6OswsrIepde0vOJUMqGc6BKrRo4/8UlQ6CUjpYEsRZEqY0UNR9q4tDb4SGKgrzoFeFgAto0iEuzOtxJoThjeP9b+rVigBan9bL7X7ADgB8AXkYNJEU3EBZacuw9T5kaOVomxOvKLE9yTKLcGsrcNaDH4+l//64Tl7yOqqn3hD4FBQyRcXgPzy//s4xNACCpDdYUw8p/E9niqNgwpiDIFx6PVO/CS//YgAKGTIcA0FNx+BnDm7u9IfkYEAE6aA798+sDzPVKh0r7z80exLf+wHYqyXau0OUiRb4+x13r2hpnx/87lH3+taFFMqGXESLlUXXixSZEmTFiM8MgyiEQFEQiE01R2ppp7lIn0rX2YtfEpapPzJcqdhBlQvlQ3LZrFCUAABMtnXxUef6/fIpEodoMWraor3aXUOgNVdZJKJDyu3ogNM6oEg6Kl+z/tvhJvMzhqJxKzujhJJUhmXk5OJ//s4xN+AC9zfVueN65Fun+rcwr27QdukYJJCVm5VP9NQMAoi0gEokxD/dlY4VY0LUFX6nVYug9CJQ8QCLAX4totX7YrCUIBvQ99M/Vk3p/mHvP9L40pBuBqzrvef0Visc9//5/32h+/grTMbSi6SzY36gcuI1VTYErEZyjitjDHYpNys3jcDVnEwn4YhByXud6f/33T3hq+94ESBoziii92I3PYJFAFI4EArHQ3M2UDHgEcFHHriDp0T7UEtbh+f6+FTtJd1hG3DnbjgO5emyIZty4AOTbek//s4xOOACsUNWaeZAomlIOr8xLI5xjDfRJtAoAHwuy78jLlv/6XSrDgnFMuujsKR9Iy0iRwzkzi2k/Srz98mZyk9PV/L/hPbPHM/YEs8Q7oiscSYJADNl8miZSZ7ChmNNHZiaHf8xkvzXLkM+BQ9VDoutDIbY3nmqSehzH6SvTR+VymVQ8+8uUdMF0v0IwjPDi8ho6iv59Sc8jCiAcEQN2Rjhwwxvoe/qznMjIqHXobttOueY7GuyMc3+eQpXhWxwxS5pGFIAPop2ZFhn50x2SwpWzW2IIi6//s4xOUASnzrQ6YU1IHnH6aQ/D+BSMZSHfikH7zWV7DpGjL07GrV+KGgm9YzLulL4pAg3iIRcwv5dib/cKiQhd2uXnD5QcI/UindNNWpVrtMRuezlg8FZETm9ZBhcADKphIFVkgKrG8DfmOZ/GGmZSODvSJdCyNv1QaVec6nHWAaRUyob/dxDUQRAg8Wb/8qP/kJT6tVJ6KHKSo6PX66+calf8RW0/liGFDcU8VMJPY54vIbYsv1YDUm/YO2BNALs0bCEHMBXAInA6EKaCpdk8Zkezptsfbs//s4xN+ADhUBT6yplonHH219zKk3wd/3k6v8apfR0XjCaBEaZJdXH7Pzt6xEibMwaNGOwqb//t/+g0oaRxWMERAeKCRcP9IABgSVEoQWXQBSTINLThlJowrpTVHrJdB2LLIZhwZH5bi2GLYLQZ2Zfrzv0ajxgkWXInyuXwsF5US0q6vfZpMfl/MpPogMhTCP////qFQADDHqAqb1AAADM4cwNcCefEQVs3hs3hFnF7AEDL36m2WF/QTRxevyk49D09reTmTBGsiNgPmsRgXkx0Rh9W4whPTk//s4xM+AC2D7b6w867l/IK209iHHzFIoq9lDDWyKYIAnK/////2QoQUJJmEEQQAAC1xTgJYEtpAQZKJ8kA0eQaUlKB2JDGJgYxunREbnlWaXCLV6IjKGzy5FZB4WBqEIBhAGiPDu8JmfxNrHxRY+CwEwaQHANA8oOw/h3Pfd7lH5eESpv+CLQqIW0y3yKjABNZy8dBR/ABooBqrCrR1mmustFAo9dM/7yfRUI1xihAri+cZDpkbw6TRFzxSK5zrh0zv8RTrT5pmmvMUyucVXRyL7GJCwhzib//s4xNOACl0BaYeYsTFTn2r9lgl5oWxE0JA5pxGC2JpXqd8lSRkQjQFs85VEN85yVnA1F/IWToMAc43OWxYOe+znHrQ8y2+0TONQKpyEkZ5mJYAHAq2FAaahCA1KN1/k/TMQH5ACm7SCXTO213SOwK3zRM5cWU02SFfyxWs7DIWpUQyt6rXKHTJoyCRGA31Q9z2nHKgsYhcdcxXcBLqh9Smor5WH44bfPGdmORsWXJj8AvhtSgdnqqqZiIgBgCZgR1aHJs3Mg9OTQUBFHZM7CGc3BCVv9Ko3//s4xOEACpT9U8ywS8F+H2q5gyEpm8C6BCP/00E5CjBZ+vKZ5FB1IpmhwoENFUAFjUnYX/Ip21UL//PTyQGLcDMcvNmeQCKiqu6p62QWAP85YGSz6Cq1hSo4cSrP94+VDxhhwJ5nrZ/tUFODgXFJMn/7iSnKQNALsyJnx/9I1VdHa/M5sToae1zMEpzNJt+zMc/gNmQljL1Yd5it/IhAAYA3lcD0LAn4J9XEsZhIWUT0HeFG43Jdl83zEdkRD3//bX9iMKmvMs1L8xzLKMCLFht/EHCuDVGB//s4xOgAEDkNY+SJ8MmfIOy4UL05qAqPJRZ12GB830tMrNE7d/0UwQzcKXYvM/Lx4AAoAMLRpD0a+jmIEprcecaZHx5IDZzAzwzYVFhdCWuxpzxXPK1vGvmFFvnL/eozU0PRYD/UCFv0arROcOFEA/Cj5K60WIooqOZIsairXGFM/+htWmUY35T4uRDBlvLVhCZJystSAC8ALzKCoaprxRIIr5VXkZ2PF/TQAmNpVSmDI3IH+aPnZsXnENjs4+SFl8qigGq3Mlyq8axBoFAqGKMNKzGdOZ1I//s4xNSACnkBeeYYcJlJHq/89A5bLMLkczou40hWKPG2//VRhaFkkapTUCCATowOwAA3oAAAaAJHOl84YYcbzK1mLoumkmBmkLMlcSVJpXfyXp3SEQmEJCi1n/upaRqMwsfUybtkjua5qVOcLULHDBa2uZWmFoKDkZf//81WNhprqLW0lVFYPHH6+g6XigAALYACABABLFzgyVJNjBEqy5EIDeDQdZ+HOh2fx6s04N/+rggCArIiI42obajWJWw0ooEVd9V/efrFi+rFqIVRCQDgoLgKAl8L//s4xOMACrj3Z+eZCMmRnqy9t5WhsWzoHOa3Fy/8qkQaHJwu+s7X/kmnLscuQ3gAADxbIIhBeAF6VGEg562TVpKD1knvKpYC8AEK8pY0xB981K+W7GH5/a/tJFWfv9SLwbSnWpjnb0rZLJRKfj4NKt6CWJuACKNpG6X6HWAFCvVtaMLE+7/5xhaBnYDXUZDlQDGn0RcSkAEFqIEqLAZA/hXQMnKQG1YZW8rtBZoleUxjDP/33U3zssuanpbH0t4Pr0fGvQm81iQPyXmaFDYCY0MUQRJoW/u3//s4xOcADFz5Ye0wsIl2H2o1hKEx2sYShk86IMF2U9RVL11vSMHlHfwEFXihEFAXNCUY0E/PtbBDcrIDUvAFiWmcY83aI9CxpaPWbvnfY3COPtPIo0dadHT2ZEezrKcx1tQZMsHoCTjITDmkdI1PqI9yG4gIKfvqdhroyL///++k6xXQ4FFTKVyVeHMVAAAHYAABfAG4NCjlnCUp5lIcaMIsPOUlLjUddrMtgOclbV/+cZfT6e3YF/EBWn0dS4hNjOuoUTAaljC9EBbS2qGymjafYpvwWh79//s4xOgADHT/RaylDYGEG6o9nAk42iYb0tv7/hQgg+X////6Aisd/QlDrNDCXjUAHpcAEPQ24iXqOBx7xiQBiSCly0XyniQmHQlIHWjl1NUhMz80MaKk3qTSrKgal2YyB4LB0saLE2XnzY1ajjaAaVreIgVUDpS//O1jP/pqMNIPD3mmo4GdUKHRUqoAEGABgCZkIUA54QoZtnKZAAmCihqYmtaH3eR6mnv6wo2Y9KxdvdybhvHRr1shDtSBWq1fMWyKmVp0xzD1eLfF4OrQ5oUEfiI4XDoM//s4xOcADTi1aafgq/FXIm01hpXrHjIvoIjA8hb5mf0VEQzek2kqB4qQwAClgpophYaYuHGPYhPDBU7OIMBJlYgraw2w7Uizo87WGfLe7naeYkde8+0XpZSuZYy6wENQEoXiLcGFSw2sB8mWrFKwwrWZrK1Wsy+ptt09tizM2/TGf0QVnhjs5C/qwJYvmHMNTzNFICMyYGtGKCvU3ag74XAJr4NhxnLBpaj+MBBykvGYW9LqGPR9JDetSWiySb152wd4OUiIdvqE4xJTcIcrYtK11/81fsFY//s4xOiAjJkTT608TcFxomjppJV7Eu9NcCbFPvEBjJW3b8+qS4z70/+ce0bGftU4j6gAAAAQLWAKMuq6r/UIMCTCBkWFGelA6IAZcAkGGalhhI0c9GGCEBhsADlLMDgT7h3WLCV6NXW5RyNzd7OpWi9yGI41K5frf+FfXP3LXancfm7rddZ/jUtc/OMffi85a5da/Y7H7M5ryAAaFarU/1cv/7upipaimf/yt2/UtzeGuXTKCyesb+j73vR6tOf7fcoEVlowAlxbVAAtygwBQKRCBIYH4aZh//s4xOkADBDtLS28q8GkmSPJt47Qcg4goIMwwRjTFNCjMRMfU3aU1zHvFJBwFZgKgLmACBOYD4CKpkeQOo4AxQoMoSROlIxPp0TBkFGBfN1HFIf6zM3N3W1atRcZ0zNPPopt1KKQyAIN9PBn/u7f+Y8P1SQAAAHralGAPzVnd6Hwc5UJSwyZSwyv0hn1jEkBp7erKCpSxaZxHRr4w3D7NX0nKkOXc8r76SGV0lJXf+N29hUUxRwCCYCQCUZSBh17xN92Dq2NpGHoBAgyqDYNXTetWh6RJ03W//s4xOWADDjLHDWXgAI+nOPPN7AA6JfSQt+zP/Kd1o+R+HOZRaEEEDgYsDPkYAAAD0sqkADvNEWAnm4KW1E+GLJ/m+k57wt5LFWzMcnXlbOxRibJ7DSZhK9p8evvBey+vvf8xoGmKkbgv80CjmqI4wPAbzrdljsyQSLgbExBExpKYQCMCqYEFSkd5sUlk8YmaHlPh++Tl80gSP/9zP/8UAsB8NGumJBDXnZ4SwP2OTYFAYJzFkAADYBjgArS1AO8hAKZjBZiw1MIGYPopCrtThWCXVLo84DS//s4xM4ADoyhP/3qACnyoar1lotPkJreSR77EupWaNTyivZXbZnLqWtvtm7JChdhYPioBKJjjO1EUBWdP/9bMJgINBj////0RRXzQlYY0DCiiyg0VQAoVwGqqAB0VdCwH7Z81ZEwhWzJss0VVOTtCCsfaeerH1y7v57yYg178za9Vli7S70Vixx0dDOYAnob/ksa9AkPJ/VAcWN/R0opYDMzshhEg8pRyXGgAkBJQAJeyAzsFO0FXDjDACHHWoGVGHJGRZGYCoUyprcGzF+lgtRdgLkweyZT//s4xLcAEQENX6ydnHmKoOqpoprj8PKaPNEp5aAMWoHt63zjVF1oVK1WU8JGo6KcBWObm1siS+okJGP6OxgZb/b8YlQAAAQCESagARiMmELDQzHx814rBhCcKnAITLNGdA6WLNkupfEiiMk9ECZmFgUZctRZns2GdgBZv/qBUlXOSJCQ8cLDR1kPL+g9FB0Qg06TAwPu3ciMQAwAA4CgEEGEMOYkJJnp0hDNJU4atEBAGERhCRBGDO1Knhn9MRXO68nl67nbUFfiuLTAEAQw7bH9w8BEef+R//s4xKMCCrkDUMwwq7lwnSbpphZR8DVmAQjsEDSJxjzUj/rCqwMPVMe4aao4C+AVGZu2wGAwSNCAeI7UAUYWMxcMAk2aoZunGk/IYMgDA3ZMYnf0phveq5y0aDnTOTFkJyW+6rqW9+kozdQrOxw3QZVXrbZazZg+fYgAegp4guCj2ABgfucZk4AGECspEtsizKG4xF24Fjsqf58o1H2Cxpr2yWdiKBqXDydOlpOn/+3EkwZxc1FR1PFbA9RGXWc65u3vn9in8LU7CYh7KQixqVAGuigb0iBR//s4xKuCCrSjN628qwFTliQJzQyw+85pHGFCEDgQWVN9EFQIQ+Cja76aBXKHCQ47718j97t/7eUzMXP3Igk2z6/tZpUzKpM0sYUu0CjU/81PL/hyF79CmLDiH5QwHVsr2FAE+CABxgczEzUQw+D4ipVCTEJf8PJ9ZPc9jugMytjkjyYGjLs1lvIM7lposFg5afKaLSNr5Ua1Eh5bz6/w3E/1/zVS+vlG/q3OAAAAFsdsQAElLCjjcvimAqCA6FpqVGTS3TkdjDGirWr2qaPxdaap12M4pXHQ//s4xLeDSnCvIC4xq4FMGaPFxY4oELCqvRMSIRzct1/3FFR+mRGR0uq5hVqACKuaHRcEZS6kXBtrTTNUtIBOwAZv0aA+fk+ZAcDIIRrS2PqfPlOAss1wd1OtdDOmoTT51sICVag+oGhYOsBUQCMtEVSAD5p/OGBTAII1fGzXjbxx6cDih6kYsahmrSunqU3IXwuwByhCTHGQ5QKGJIZZElERpGThM4TTPBEWBBQDQpZKy1K2MsIadJJZZWGttZhLMi7yfTDWiN8AKam6s6/pyqVTbdynIVCW//s4xMWCSZzHIC5gZcE4mKVlvCB0u7mnCL16WGiH8L/6cQX//1SFK/zc6Ygg686zJuJAATrtidz3pyRZuc/eWtm3aI7dsbYTkUC6hj27Ta91vbWHmqZmHKbdvpJZXBZLtbroIcVFOcnKthaczrlEfuaTAJoxWbJwodJxWwG5yh6+Z/9+/bqeAUZwNkchamUBRAnPlIYUASdY4NTRAETGLipUnjZdGWQK3JoW6PKSUGlDRUzNydSzh9sQb6zc/lSaFyoiF0UP7vpsf18uOe/d//Yng40+AnQo//s4xNmCCnSFNawM1mFVC2WJrGVgliy5Rv/1Gv///7+S9LLDa7puZBRANgZiUJPpzA0xFJ2GSM2cFH6UOuyCBersSt0kMB0/UsTdUryBgeM4zc4V506F4jCyK3Z+znz0Zv1Jr+v+3JUygIzvQdNFl9uOHPQDC1hm4rt6v/6TwtQ6j66qAALEJIywOigAQJpyAYtUXyQyUFWKuVOm9KYZf2MnnJHjACIfl4bNc1aQJQAoOTtHnR1tr7k1NXX//+537Wuh7a3JE4RgAgJjYEIdR8dpNSNjx6Ij//s4xOaCDBznKE2wdEl6HaepliV/oUBo8WBpoKgqJe///+/9utnQAAABABD09nNxF87Ge58swG772tYVwsPlhqnfF9OZ5yhXCmCCM0IEQX7Sc9kkOxuQGFh44DprLTw1z/+iy5RfLE+W7MDVtWU0Xn/n3DVJSSiw3kuuue0tsbWmQrdTUMNCTQ7k/mP53Cxnn//g5YYNxRd6NbqMvZPSS8zxkNfMgMKGmJBlKoZgIlUSMHEAYBq+73///////l+u9//////blCQamfTQ///bErm1tt0iIAH///s4xOgDC5jtIA5hI0FvF6PNjSQoK4bUDfNpC1E0zFEjvHDGl1vly4IoZ/DDPeW65fc37PeQ5MxIKN2aOvdbIhdGbWOV65T3M6+Fu7D/4Uj/5b/v/rfP7zsolkar/e1j3n8zyt0tzKcztdlOVktopvJHhjN5gDnyD4A3HhoIKhjkLg4ukQZtGjgIiQABOorCSFjCsY4rHC7/5rFTaGUis7bbMkfdMQRd2diTPkmEACNkmPcpvUgZt84Rnb9N1IaFRsip2QV1p8Tg+UEAYW0QVYC2wFABZk5t//s4xO0ADLy7ElWlgAKgJGKLMbACjs3OGx2UGEum6FvVYlBX6dBVwkTKoe3Wp6/6+IvE7FnOzrFTPS9ZfU/SMROpiIeAyQ0UBxLmBkd/UYt/UbuiqrTRuzf6X6ST9jBHTDITAgVCEfszNV1DSMVIAACgFgReAFzZCADTBWqQL41B9ANxdiFIVLdxt+SosXawaApHWvZ0O0X8Wc6r9DSsPRWhb/i4v7VCyoji5qRUoPV+LWu1Wv///QER1QwVjgmFARxWlQADAaADgAyd0sy4kPQzUU1TSAVW//s4xMeADKC7W72sABlvFqs9p7UoWtaZ01qbH1Kr3OVJi5UBIMSewzuUzSZo9/d7atrjEfTpK3k1jr/+b4MBz3cfzAgAw52JyG///6XKGFaGAVEyyhEANRGogygDKAWAkLaA2HjBaWjmoh6pCrw6Aiete9LFv//z9u8BwRPO77z96T+NOPr2zMQwJxZSgv4cUr+LkLoj652JsrSLUESIkEY/kTc+TQkEpNo1VgEBKx3LLAzAY2OBUEBBsciwrIGEYezNU7L2dv3cUPW8yFJku2vhtS4a1kNC//s4xMiADIkJWazJNVFUIKk09An5+6tSD77Rmjll2np7eY8KiMbtVgVe0nnd/u/ynXCPHuUpPzM3+GM8O1YCyevoyCaNIBx8HUpILg9iEoVwrevQZFMkks/Nr1QrBoYGqKPwBEIiTSoDkS5AEYPJ5FRMpJhrilbjtYWStJngBbMekdoNQos8cTRiCHE8HGBQgMVCo6fBKYfSBYUZYIBE1WusbdMCimmWXmNRJEEaQUeYwj6sOhyRnaCzqBsqWRcsX2pFtu2tv0ABAH8K9AT6kflRSbWs9PGv//s4xM0ACnz9N0wsTcpEpCf0hmNB6+4QOAJJlaK5i00ZiWGdookvsoXjGkrHYhy1Yay3da4AClbgwklCai0XngcZEX1tCwmFwXEOk0N0oBv2jni81q3aVwXQTMtC+lyfocIyQU1inL+uoVt17w7CdHHhjJgwuDNBj11CfPnFQSwTAUKlmiu9Ic/zd43rtdZjrQiZqqmKf5kFACZn2NEwxCY+abNjB5hy8Em/eJBukL0012rN9rLcAo1VVC4aiWTkcj1G616/JFKHHQoDitnzChvjA6NQTKT7//s4xLwAE+kdQqKzNIJGImw0bb6S2ORUOeYv3kQzlMZyr2PRKdGIgpLODu7u7vCJEALgfpzSosKx9DBRdJhd8ZICJbyChJV8pLVeg4pprUFqpse4ZAANBgMiV0aT/1cKZkV6DhOEFEqEKN7kefmstQUhefw/LrggJRQNXEl57xaetZmrumQAAgAYnLzSzyLWFzY07cichtyIpiAwYZZ3V3PyHE1/bSS/dm/wpYSpB+3UWkPJK9Z336ZEUFSKy2KpkHKWOHh0y969FZSyNQ7f2kUYAJhZ5kq1//s4xIUAC3z/e+ZgtFlYoC38lY5STMRExC6rQFa2ZChZs0WCk/Nj4g30FyIbmZhsqknIoIOQQqzIjirgRUH/G98oVakHCq2mpiI1K3yP/2Fc2/5A/AZyNF//zf7lEP87quw5DyVgFmaqmoIALoAxwUcbAgyaA4DZEpzQHgiURmGonbAh52So66t0I8ldYsD/nz4pyK9xygEygOFJaXNv/EZpD/jVj1WPDv//NUOgzITVn7Su0UASLTS4AAF/9AiVR0CqstHAAfanSDCWLTbOvk89VmpZW3SX//s4xI2ACuUDZe0Yq8FDlG95xI1PdvZ8yGMtQotN3WxT6EzbXgBkI0DMBI1VWtW//1JGzb2OL/50t1PwYCG+Ec/4fSoALFV8uqVhTcUNQBge3ABDVAFefDARsqsHpw4ugDCViS4oj6kDyrdvdNStS3/111lEE79ZXfiuRJiYVgiKyxQUGFsYjOdt1GUciv9mExybtqv/qREb66sqBRDvfKAAhbKCAEoAPxUKnGykX4yjodSl8zGtq6Gk+7YE4M37/078zOr/0rPE8nkADFhIPVzlV9uSnxwB//s4xJsACpTbYeyYbUldnyotlI25UcgBAZF1t6/1v//jGKElzTftrWhB0PjnfpkbRsqqYAC01RJCmAGWUO50L34ulfekQ6b860IiIdyN2HUj0arLteHn6U+gSMjTaCdtKwahjS5M2Ah8fIBRbW0ljeyFo3qKKAwoLkiaxhz+1hEJhSV2jaSEbCUALqQQVOANsRlRzkFEyFt0uUbhx7YZyhWWp6y09KxEr1NcOiYFZMqnYhkIZRUowcMZ26q+nciepyIKGkKXq3///dR1ox5/IHW693cZPfS0//s4xKaACkz5VawkS8lTFWt1hhmw9YQwTdCCEZABGeNEhsTtSi8keFEkcSSktYQzFW+eflfXOiiGZA2pXNkdUXCrKiUahu/+Nn4owKnF1K+gicWHIzRZMv//+jopw6VBEZnjQkfHaQyRIgJOkEpbgCnUaTrtgpcMZS2VpIHFKHylCR+ZQf23dJgvQ+y1ydgg1x7ZlVEqd6HDpQGOYPLIV2SVkQPNK+g8gfIcV////slRg8VMumrCI6UoqavJ4gHQAE7ACGSrEwkUDBEIbSJhPj4kEmQWnEBY//s4xLQACpSva6wkr1FDIq208qZz7D4iV+FFW+2UVAiF7KemskYlXzTKKjMWrh1i+aZ7GD7XnrZRUeUFTv597D6VJQSIpRunlrDQZcCEIa8MgnFlpm0SJbmAXi0E2XBrVP5DzJiaYv7S0jTKVZ2J6EhFxNoE0GkpUkdV4QWE4BR1R7NK4RIx0QkolFQqHopIoLPSRciE17K8/8Y2qzF0ygAIoRCbv4fkGGj/K0owEquYCRDYwJgKFeR6RFJJbvIx6OCuROA7sFIbykzAr6i2lz92r60TUaUz//s4xMKACk0BcaegsXlRoWz1hhT7fz3RK1t70dhUr3+Gf+qGZH/9f+n/1GxAhATYFkQDIB3WNBY0UxpiT9RK7B0PR6INVUwfn7ldxgihW5Lb+9NXF33ZvXCk0dPG2eyOPZeYeFTEib/kG930DnYq3/Slr2bFP62D+p1UhQAQBKBoIYmwAxMYTDoCLBfNTFggaUHCYhvZoF2mCJNtJD0KYHDxGOAUYDWQlUvl7mJCppipxhDiqLJeQOScML7JsgzTM43lbU5NH66w8gas4ZUd8cPBn/+efO6e//s4xNCAShSnVUw9BNFTFWaFp6T52jLtxht4nME0JQB6CcwXJhwF2l2xBc0tmtATMkJ40n0nlRLbKIhQNlSEMiWKkYU9WFpwy8itJVV0iolxaKsCZxEGj9qs0KoLb88o1stZ9W0WUeCgMh12o2VSSDS3IDh6vv3ZWyNCVLohSiKLChMIkwIVTNRJOMZApYiHOwrqXF0U2VQqS0immzVoUKFChnBE1tS2lXaqzAJ1Y/UmNlIMKYCFM0FYguPEqIaTN8KigpuIL4LwK5L35uHfib8IKbJfi7////s4xN8CCdirLU0kxME/kmQdsZlY4R3/kFCv/6DgX+ZJXCsseigAyiYGzLOMDAJIMHVg1DQiLFj0SmioKgrzr8RVB3+Jj1+0S8GgaDvUe8s/OwaiV8iJQWBo8oGoldaR/0YdEWIgZUxBTUUzLjk5LjVVVVVVVVVVVVVVVVVVVVVVVVVVVVVVVVVVVVVVVVVVVVVVVVVVVVVVVVVVVVVVVVVVVVVVVVVVVVVVVVVVVVVVVVVVVVVVVVVVVVVVVVVVVVVVVVVVVVVVVVVVVVVVVVVVVVVVVVVV//s4xPEDDJCnFm1xIIGeFmDBjSQYVVVVVVVVVVVVVVVVVVVVVVVVVVVVVVVVVVVVVVVVVVVVVVVVVVVVVVVVVVVVVVVVVVVVVVVVVVVVVVVVVVVVVVVVVVVVVVVVVQIIFVUGi1IOMEJDJEZDuM1QIIAYIlsDEUrtqzFnQ7xHoF0N5QQBPdnkFyiXlsmHaZafKUEsKI3Vy0+NTcfEBBNFahGoVqFKpSqWnxZIwsCATHB8wbMHxYWFzBth54+ODouOE5I2w9xk0eNsNue48fYbhOvcXsTq6zdq//s4xOyADHh89C0kZ8kEAVwwYwgE6zc3HaGZkwaf+kzpNaDZkAAAuBIHAPsvchyIyMcg9ZY0QdC+XMf2PBwGmeDk793vPJg4DC8Yhlth6bpsg5M0/QALTd3Qnc65cSnCcnNCeE4ii/c9/8OLAhQnU6fy71n//Prf/l35Oc4gAAAMgYmIQAXAIR1aF4sXY9FHedNhPLoDKHyGmP2arVvOVcE9Mze585Q/pTPNgTmYljpmTEXQ9+hxZME4K5oPZie8b29aXdBxPbBe8cJ3zD5Bqnf3/c9KhdFo//s4xJ6DwCACAAEAACAAADSAAAAEbl2qaYH3jACgJqKhVVKYVSu1HZdlYMlCUmJo6SEhOlo7LZaM8UHmkt65jbE8M4OrNl6/1QwrDCiZtDUMe0P/9iq95gTBbt8qtcyJV6RYADM/Fg2QCFZ9qT0uCxQBmeCplV4mk1n+nmUBhgV0hM4EmkAFLLsHWOQrFg00RBpdDRHHI4Cogu1RLTUTco1GSJVyElgFBJyNeXIzlHUS1zSJGSOf9kq358x5fzMomxs48oyduNTyjzQCEniKVDT1kctBoCyo//s4xP+DEREArCwxMsFmGmHM8w2oazxIio8VrDWo9w61Zq1CFsBMFC4sCtZpqxlKWMtceeQT9hYSDChZBNGv8k4uD0EgUCjfLXlTLPFqSIigImgtFI0o92LhaNGnFXGo1ZaCdDJgoYE5GR//2X//lJgtGYSAVnFhczjxZqAKKf/QFRZqAKKKTEFNRTMuOTkuNaqqqqqqqqqqqqqqqqqqqqqqqqqqqqqqqqqqqqqqqqqqqqqqqqqqqqqqqqqqqqqqqqqqqqqqqqqqqqqqqqqqqqqqqqqqqqqq//s4xPADDCDdEmywaYFmGOLNkwz4qqqqqqqqqqqqqqqqqqqqqqqqqqqqqqqqqqqqqqqqqqqqqqqqqqqqqqqqqqqqqqqqqqqqqqqqqqqqqqqqqqqqqqqqqqqqqqqqqqpMQU1FMy45OS41qqqqqqqqqqqqqqqqqqqqqqqqqqqqqqqqqqqqqqqqqqqqqqqqqqqqqqqqqqqqqqqqqqqqqqqqqqqqqqqqqqqqqqqqqqqqqqqqqqqqqqqqqqqqqqqqqqqqqqqqqqqqqqqqqqqqqqqqqqqqqqqqqqqq//s4xPQDzczs+A0kxYGUHhoBkw24qqqqqqqqqqqqqqqqqqqqqqqqqqqqqqqqqqqqqqqqqqqqqqqqqqqqqqqqqqqqqqqqqqqqqqqqqqqqqqqqqqqqqqqqqqqqqqqqqqpMQU1FMy45OS41qqqqqqqqqqqqqqqqqqqqqqqqqqqqqqqqqqqqqqqqqqqqqqqqqqqqqqqqqqqqqqqqqqqqqqqqqqqqqqqqqqqqqqqqqqqqqqqqqqqqqqqqqqqqqqqqqqqqqqqqqqqqqqqqqqqqqqqqqqqqqqqqqqqq//s4xJ4DwAABpAAAACAAADSAAAAEqqqqqqqqqqqqqqqqqqqqqqqqqqqqqqqqqqqqqqqqqqqqqqqqqqqqqqqqqqqqqqqqqqqqqqqqqqqqqqqqqqqqqqqqqqqqqqqqqqpMQU1FMy45OS41qqqqqqqqqqqqqqqqqqqqqqqqqqqqqqqqqqqqqqqqqqqqqqqqqqqqqqqqqqqqqqqqqqqqqqqqqqqqqqqqqqqqqqqqqqqqqqqqqqqqqqqqqqqqqqqqqqqqqqqqqqqqqqqqqqqqqqqqqqqqqqqqqqqq//s4xJ4DwAABpAAAACAAADSAAAAEqqqqqqqqqqqqqqqqqqqqqqqqqqqqqqqqqqqqqqqqqqqqqqqqqqqqqqqqqqqqqqqqqqqqqqqqqqqqqqqqqqqqqqqqqqqqqqqqqqpMQU1FMy45OS41qqqqqqqqqqqqqqqqqqqqqqqqqqqqqqqqqqqqqqqqqqqqqqqqqqqqqqqqqqqqqqqqqqqqqqqqqqqqqqqqqqqqqqqqqqqqqqqqqqqqqqqqqqqqqqqqqqqqqqqqqqqqqqqqqqqqqqqqqqqqqqqqqqqq//s4xJ4DwAABpAAAACAAADSAAAAEqqqqqqqqqqqqqqqqqqqqqqqqqqqqqqqqqqqqqqqqqqqqqqqqqqqqqqqqqqqqqqqqqqqqqqqqqqqqqqqqqqqqqqqqqqqqqqqqqqpMQU1FMy45OS41qqqqqqqqqqqqqqqqqqqqqqqqqqqqqqqqqqqqqqqqqqqqqqqqqqqqqqqqqqqqqqqqqqqqqqqqqqqqqqqqqqqqqqqqqqqqqqqqqqqqqqqqqqqqqqqqqqqqqqqqqqqqqqqqqqqqqqqqqqqqqqqqqqqq//s4xJ4DwAABpAAAACAAADSAAAAEqqqqqqqqqqqqqqqqqqqqqqqqqqqqqqqqqqqqqqqqqqqqqqqqqqqqqqqqqqqqqqqqqqqqqqqqqqqqqqqqqqqqqqqqqqqqqqqqqqpMQU1FMy45OS41qqqqqqqqqqqqqqqqqqqqqqqqqqqqqqqqqqqqqqqqqqqqqqqqqqqqqqqqqqqqqqqqqqqqqqqqqqqqqqqqqqqqqqqqqqqqqqqqqqqqqqqqqqqqqqqqqqqqqqqqqqqqqqqqqqqqqqqqqqqqqqqqqqqq//s4xJ4DwAABpAAAACAAADSAAAAEqqqqqqqqqqqqqqqqqqqqqqqqqqqqqqqqqqqqqqqqqqqqqqqqqqqqqqqqqqqqqqqqqqqqqqqqqqqqqqqqqqqqqqqqqqqqqqqqqqpMQU1FMy45OS41qqqqqqqqqqqqqqqqqqqqqqqqqqqqqqqqqqqqqqqqqqqqqqqqqqqqqqqqqqqqqqqqqqqqqqqqqqqqqqqqqqqqqqqqqqqqqqqqqqqqqqqqqqqqqqqqqqqqqqqqqqqqqqqqqqqqqqqqqqqqqqqqqqqq//s4xJ4DwAABpAAAACAAADSAAAAEqqqqqqqqqqqqqqqqqqqqqqqqqqqqqqqqqqqqqqqqqqqqqqqqqqqqqqqqqqqqqqqqqqqqqqqqqqqqqqqqqqqqqqqqqqqqqqqqqqpMQU1FMy45OS41qqqqqqqqqqqqqqqqqqqqqqqqqqqqqqqqqqqqqqqqqqqqqqqqqqqqqqqqqqqqqqqqqqqqqqqqqqqqqqqqqqqqqqqqqqqqqqqqqqqqqqqqqqqqqqqqqqqqqqqqqqqqqqqqqqqqqqqqqqqqqqqqqqqq//s4xJ4DwAABpAAAACAAADSAAAAEqqqqqqqqqqqqqqqqqqqqqqqqqqqqqqqqqqqqqqqqqqqqqqqqqqqqqqqqqqqqqqqqqqqqqqqqqqqqqqqqqqqqqqqqqqqqqqqqqqpMQU1FMy45OS41qqqqqqqqqqqqqqqqqqqqqqqqqqqqqqqqqqqqqqqqqqqqqqqqqqqqqqqqqqqqqqqqqqqqqqqqqqqqqqqqqqqqqqqqqqqqqqqqqqqqqqqqqqqqqqqqqqqqqqqqqqqqqqqqqqqqqqqqqqqqqqqqqqqq//s4xJ4DwAABpAAAACAAADSAAAAEqqqqqqqqqqqqqqqqqqqqqqqqqqqqqqqqqqqqqqqqqqqqqqqqqqqqqqqqqqqqqqqqqqqqqqqqqqqqqqqqqqqqqqqqqqqqqqqqqqpMQU1FMy45OS41qqqqqqqqqqqqqqqqqqqqqqqqqqqqqqqqqqqqqqqqqqqqqqqqqqqqqqqqqqqqqqqqqqqqqqqqqqqqqqqqqqqqqqqqqqqqqqqqqqqqqqqqqqqqqqqqqqqqqqqqqqqqqqqqqqqqqqqqqqqqqqqqqqqq//s4xJ4DwAABpAAAACAAADSAAAAEqqqqqqqqqqqqqqqqqqqqqqqqqqqqqqqqqqqqqqqqqqqqqqqqqqqqqqqqqqqqqqqqqqqqqqqqqqqqqqqqqqqqqqqqqqqqqqqqqqpMQU1FMy45OS41qqqqqqqqqqqqqqqqqqqqqqqqqqqqqqqqqqqqqqqqqqqqqqqqqqqqqqqqqqqqqqqqqqqqqqqqqqqqqqqqqqqqqqqqqqqqqqqqqqqqqqqqqqqqqqqqqqqqqqqqqqqqqqqqqqqqqqqqqqqqqqqqqqqq//s4xJ4DwAABpAAAACAAADSAAAAEqqqqqqqqqqqqqqqqqqqqqqqqqqqqqqqqqqqqqqqqqqqqqqqqqqqqqqqqqqqqqqqqqqqqqqqqqqqqqqqqqqqqqqqqqqqqqqqqqqqqqqqqqqqqqqqqqqqqqqqqqqqqqqqqqqqqqqqqqqqqqqqqqqqqqqqqqqqqqqqqqqqqqqqqqqqqqqqqqqqqqqqqqqqqqqqqqqqqqqqqqqqqqqqqqqqqqqqqqqqqqqqqqqqqqqqqqqqqqqqqqqqqqqqqqqqqqqqqqqqq//s4xJ4DwAABpAAAACAAADSAAAAEqqqqqqqqqqqqqqqqqqqqqqqqqqqqqqqqqqqqqqqqqqqqqqqqqqqqqqqqqqqqqqqqqqqqqqqqqqqqqqqqqqqqqqqqqqqqqqqqqqqqqqqqqqqqqqqqqqqqqqqqqqqqqqqqqqqqqqqqqqqqqqqqqqqqqqqqqqqqqqqqqqqqqqqqqqqqqqqqqqqqqqqqqqqqqqqqqqqqqqqqqqqqqqqqqqqqqqqqqqqqqqqqqqqqqqqqqqqqqqqqqqqqqqqqqqqqqqqqqqqq\" type=\"audio/mpeg\" />\n",
       "                    Your browser does not support the audio element.\n",
       "                </audio>\n",
       "              "
      ],
      "text/plain": [
       "<IPython.lib.display.Audio object>"
      ]
     },
     "metadata": {},
     "output_type": "display_data"
    },
    {
     "name": "stdout",
     "output_type": "stream",
     "text": [
      "Grounf Truth :  তার বাবা লুৎফর রহমান সেখানে একটি বেসরকারি ফার্মে একজন নিরীক্ষণ কর্মকর্তা হিসেবে কর্মরত ছিলেন।\n",
      "Prediction With LM :  তার বাবা লুৎফর রহমান সেখানে একটি বেসরকারি ফার্মে একজন নিরীক্ষণ কর্মকর্তা হিসেবে কর্মরত ছিলেন।\n",
      "Prediction Without LM :  তার বাবা লুৎফুর রহমান শেখানে একটি বেসরকারি ফার্মে একজন নিরীক্ষণ কর্মকর্তা হিসেবে কর্মরত ছিলেন।\n",
      "Word Error Rate with LM :  0.0\n",
      "Word Error Rate without LM :  0.14285714285714285\n"
     ]
    }
   ],
   "source": [
    "idx = 13\n",
    "example(idx)"
   ]
  },
  {
   "cell_type": "markdown",
   "id": "56741449",
   "metadata": {
    "papermill": {
     "duration": 16.394319,
     "end_time": "2023-09-04T02:48:15.038549",
     "exception": false,
     "start_time": "2023-09-04T02:47:58.644230",
     "status": "completed"
    },
    "tags": []
   },
   "source": [
    "We can see, the model with LM is performing better than without LM! "
   ]
  }
 ],
 "kernelspec": {
  "display_name": "Python 3",
  "language": "python",
  "name": "python3"
 },
 "language_info": {
  "codemirror_mode": {
   "name": "ipython",
   "version": 3
  },
  "file_extension": ".py",
  "mimetype": "text/x-python",
  "name": "python",
  "nbconvert_exporter": "python",
  "pygments_lexer": "ipython3",
  "version": "3.6.4"
 },
 "metadata": {
  "kernelspec": {
   "display_name": "Python 3",
   "language": "python",
   "name": "python3"
  },
  "language_info": {
   "codemirror_mode": {
    "name": "ipython",
    "version": 3
   },
   "file_extension": ".py",
   "mimetype": "text/x-python",
   "name": "python",
   "nbconvert_exporter": "python",
   "pygments_lexer": "ipython3",
   "version": "3.10.12"
  },
  "papermill": {
   "default_parameters": {},
   "duration": 22227.36595,
   "end_time": "2023-09-04T02:48:35.227133",
   "environment_variables": {},
   "exception": null,
   "input_path": "__notebook__.ipynb",
   "output_path": "__notebook__.ipynb",
   "parameters": {},
   "start_time": "2023-09-03T20:38:07.861183",
   "version": "2.4.0"
  }
 },
 "nbformat": 4,
 "nbformat_minor": 5
}
