{
 "cells": [
  {
   "cell_type": "markdown",
   "id": "5ad403c0",
   "metadata": {
    "papermill": {
     "duration": 0.014172,
     "end_time": "2023-08-13T10:50:34.925168",
     "exception": false,
     "start_time": "2023-08-13T10:50:34.910996",
     "status": "completed"
    },
    "tags": []
   },
   "source": [
    "# Team AudioAlchemists - Training Notebook - Wav2Vec2\n",
    "\n",
    "- Team Members: `Syed Mostofa Monsur Dipto` | `Sakib Chowdhury` | `Md Boktiar Mahbub Murad`\n",
    "\n",
    "## Table of Contents\n",
    "\n",
    "- [1. Introduction](#0)\n",
    "- [2. Installing Dependencies](#1)\n",
    "- [3. Training Configuration](#2)\n",
    "- [4. Function and Class definitions](#3)\n",
    "  - [4.1 Filtering Dataset](#3-1)\n",
    "  - [4.2 Audio Loader](#3-2)\n",
    "- [5. Main](#4)\n",
    "  - [5.1 Building LM](#4-1)\n",
    "  - [5.2 Loading Base Wav2Vec2 Model](#4-2)\n",
    "  - [5.3 Adapting Base Wav2Vec2Model](#4-3)\n",
    "\n",
    "<a id=\"0\"></a> <br>\n",
    "## Introduction\n",
    "\n",
    "- This notebook contains the steps for adapting a pre-trained Wav2Vec2 model on the provided competition dataset + openslr53+openslr37 dataset.\n",
    "\n",
    "- We adapted the ai4bharat/indicwav2vec_v1_bengali model on the datastes.\n",
    "\n",
    "- We employed several audio augmentation techniques during training including:\n",
    "  - Speed perturbation (0.9x 1.1x)\n",
    "  - Volume perturbation (0.125x ~ 2.0x)\n",
    "  - Adding background noise using the other audio files from the dataset.\n",
    "  - Adding reverberation.\n",
    "\n",
    "- We first trained the base model for 450000 steps (early stopping) with an initial learning rate of 3e-5, following the cosine decay schedule. We enable a small proportion of different types of dropouts during this stage.\n",
    "\n",
    "- The best checkpoint from the training stage was paired with a 5-gram language model.\n",
    "\n",
    "- The best model with decoding parameters tuned on the validation set achieved the following LB score (WER):\n",
    "  - Public:  0.413\n",
    "  - Private: 0.492"
   ]
  },
  {
   "cell_type": "code",
   "execution_count": 2,
   "id": "db04d3e1-74c5-4445-9138-d13376cfa6da",
   "metadata": {},
   "outputs": [
    {
     "data": {
      "text/plain": [
       "35"
      ]
     },
     "execution_count": 2,
     "metadata": {},
     "output_type": "execute_result"
    }
   ],
   "source": [
    "import gc\n",
    "gc.collect()"
   ]
  },
  {
   "cell_type": "code",
   "execution_count": 3,
   "id": "463b8477-72c6-4e9d-abd7-4fa48eff2f8f",
   "metadata": {},
   "outputs": [
    {
     "name": "stdout",
     "output_type": "stream",
     "text": [
      "              total        used        free      shared  buff/cache   available\n",
      "Mem:           31Gi       3.6Gi        24Gi        16Mi       3.1Gi        26Gi\n",
      "Swap:         2.0Gi          0B       2.0Gi\n"
     ]
    }
   ],
   "source": [
    "!free -h"
   ]
  },
  {
   "cell_type": "code",
   "execution_count": 4,
   "id": "ee413eaa-abe2-456b-a1f4-d5a244e446d4",
   "metadata": {},
   "outputs": [
    {
     "name": "stdout",
     "output_type": "stream",
     "text": [
      "Fri Nov 17 15:45:32 2023       \n",
      "+-----------------------------------------------------------------------------+\n",
      "| NVIDIA-SMI 525.147.05   Driver Version: 525.147.05   CUDA Version: 12.0     |\n",
      "|-------------------------------+----------------------+----------------------+\n",
      "| GPU  Name        Persistence-M| Bus-Id        Disp.A | Volatile Uncorr. ECC |\n",
      "| Fan  Temp  Perf  Pwr:Usage/Cap|         Memory-Usage | GPU-Util  Compute M. |\n",
      "|                               |                      |               MIG M. |\n",
      "|===============================+======================+======================|\n",
      "|   0  NVIDIA RTX A4500    Off  | 00000000:01:00.0 Off |                  Off |\n",
      "| 30%   29C    P8     6W / 200W |     16MiB / 20470MiB |      0%      Default |\n",
      "|                               |                      |                  N/A |\n",
      "+-------------------------------+----------------------+----------------------+\n",
      "                                                                               \n",
      "+-----------------------------------------------------------------------------+\n",
      "| Processes:                                                                  |\n",
      "|  GPU   GI   CI        PID   Type   Process name                  GPU Memory |\n",
      "|        ID   ID                                                   Usage      |\n",
      "|=============================================================================|\n",
      "+-----------------------------------------------------------------------------+\n"
     ]
    }
   ],
   "source": [
    "!nvidia-smi"
   ]
  },
  {
   "cell_type": "code",
   "execution_count": 5,
   "id": "61ecf8e1-2dd1-4e86-bd28-d1d47d1a9617",
   "metadata": {},
   "outputs": [
    {
     "name": "stdout",
     "output_type": "stream",
     "text": [
      "Requirement already satisfied: pandarallel in /usr/local/lib/python3.8/dist-packages (1.6.5)\n",
      "Requirement already satisfied: pandas>=1 in /usr/local/lib/python3.8/dist-packages (from pandarallel) (2.0.2)\n",
      "Requirement already satisfied: psutil in /usr/local/lib/python3.8/dist-packages (from pandarallel) (5.9.5)\n",
      "Requirement already satisfied: dill>=0.3.1 in /usr/local/lib/python3.8/dist-packages (from pandarallel) (0.3.4)\n",
      "Requirement already satisfied: numpy>=1.20.3; python_version < \"3.10\" in /usr/local/lib/python3.8/dist-packages (from pandas>=1->pandarallel) (1.23.4)\n",
      "Requirement already satisfied: python-dateutil>=2.8.2 in /usr/local/lib/python3.8/dist-packages (from pandas>=1->pandarallel) (2.8.2)\n",
      "Requirement already satisfied: pytz>=2020.1 in /usr/local/lib/python3.8/dist-packages (from pandas>=1->pandarallel) (2023.3)\n",
      "Requirement already satisfied: tzdata>=2022.1 in /usr/local/lib/python3.8/dist-packages (from pandas>=1->pandarallel) (2023.3)\n",
      "Requirement already satisfied: six>=1.5 in /usr/local/lib/python3.8/dist-packages (from python-dateutil>=2.8.2->pandas>=1->pandarallel) (1.16.0)\n"
     ]
    }
   ],
   "source": [
    "!pip install pandarallel"
   ]
  },
  {
   "cell_type": "code",
   "execution_count": 6,
   "id": "94b53337",
   "metadata": {
    "papermill": {
     "duration": 8.061344,
     "end_time": "2023-08-13T10:53:12.474381",
     "exception": false,
     "start_time": "2023-08-13T10:53:04.413037",
     "status": "completed"
    },
    "tags": []
   },
   "outputs": [
    {
     "name": "stdout",
     "output_type": "stream",
     "text": [
      "INFO: Pandarallel will run on 24 workers.\n",
      "INFO: Pandarallel will use Memory file system to transfer data between the main process and workers.\n"
     ]
    }
   ],
   "source": [
    "from typing import Dict, List, Tuple, Any, Union, Optional\n",
    "\n",
    "import os\n",
    "import re\n",
    "import json\n",
    "import random\n",
    "from pprint import pprint\n",
    "\n",
    "import unicodedata\n",
    "from bnunicodenormalizer import Normalizer \n",
    "\n",
    "import numpy as np\n",
    "import matplotlib.pyplot as plt\n",
    "\n",
    "import pandas as pd\n",
    "from pandarallel import pandarallel\n",
    "from tqdm.auto import tqdm\n",
    "\n",
    "import torch\n",
    "import torchaudio\n",
    "import torchaudio.functional as F\n",
    "import torchaudio.transforms as T\n",
    "from torch.utils.data import Dataset, DataLoader, IterableDataset\n",
    "\n",
    "import transformers\n",
    "from transformers import Wav2Vec2CTCTokenizer, Wav2Vec2FeatureExtractor, Wav2Vec2Processor, Wav2Vec2ForCTC\n",
    "from transformers import TrainingArguments, Trainer\n",
    "\n",
    "from datasets import load_dataset, load_metric\n",
    "from dataclasses import dataclass, field\n",
    "\n",
    "from IPython.display import display, Audio, HTML, Markdown\n",
    "\n",
    "bnorm = Normalizer()\n",
    "pandarallel.initialize(progress_bar=True,nb_workers=os.cpu_count())\n",
    "tqdm.pandas()"
   ]
  },
  {
   "cell_type": "code",
   "execution_count": 7,
   "id": "8eea62fb",
   "metadata": {
    "papermill": {
     "duration": 0.029307,
     "end_time": "2023-08-13T10:53:12.523009",
     "exception": false,
     "start_time": "2023-08-13T10:53:12.493702",
     "status": "completed"
    },
    "tags": []
   },
   "outputs": [],
   "source": [
    "os.environ[\"WANDB_DISABLED\"] = \"true\""
   ]
  },
  {
   "cell_type": "markdown",
   "id": "2c554749",
   "metadata": {
    "papermill": {
     "duration": 0.018935,
     "end_time": "2023-08-13T10:53:12.561629",
     "exception": false,
     "start_time": "2023-08-13T10:53:12.542694",
     "status": "completed"
    },
    "tags": []
   },
   "source": [
    "<a id=\"2\"></a> <br>\n",
    "## Data Preparation"
   ]
  },
  {
   "cell_type": "code",
   "execution_count": null,
   "metadata": {},
   "outputs": [],
   "source": [
    "cd full_data"
   ]
  },
  {
   "cell_type": "code",
   "execution_count": 8,
   "id": "b19cd746-a79e-4fbd-8894-83843da7fd70",
   "metadata": {},
   "outputs": [
    {
     "name": "stdout",
     "output_type": "stream",
     "text": [
      "\u001b[0m\u001b[01;34mexamples\u001b[0m/  sample_submission.csv  \u001b[01;34mtest_mp3s\u001b[0m/  train.csv  \u001b[01;34mtrain_mp3s\u001b[0m/\n"
     ]
    }
   ],
   "source": [
    "ls full_data"
   ]
  },
  {
   "cell_type": "code",
   "execution_count": 9,
   "id": "55e8a400",
   "metadata": {
    "papermill": {
     "duration": 5.864634,
     "end_time": "2023-08-13T10:53:18.445499",
     "exception": false,
     "start_time": "2023-08-13T10:53:12.580865",
     "status": "completed"
    },
    "tags": []
   },
   "outputs": [
    {
     "data": {
      "text/html": [
       "<div>\n",
       "<style scoped>\n",
       "    .dataframe tbody tr th:only-of-type {\n",
       "        vertical-align: middle;\n",
       "    }\n",
       "\n",
       "    .dataframe tbody tr th {\n",
       "        vertical-align: top;\n",
       "    }\n",
       "\n",
       "    .dataframe thead th {\n",
       "        text-align: right;\n",
       "    }\n",
       "</style>\n",
       "<table border=\"1\" class=\"dataframe\">\n",
       "  <thead>\n",
       "    <tr style=\"text-align: right;\">\n",
       "      <th></th>\n",
       "      <th>id</th>\n",
       "      <th>sentence</th>\n",
       "      <th>split</th>\n",
       "      <th>length</th>\n",
       "      <th>sen_length</th>\n",
       "      <th>sen_len</th>\n",
       "    </tr>\n",
       "  </thead>\n",
       "  <tbody>\n",
       "    <tr>\n",
       "      <th>0</th>\n",
       "      <td>000005f3362c.mp3</td>\n",
       "      <td>ও বলেছে আপনার ঠিকানা!</td>\n",
       "      <td>train</td>\n",
       "      <td>1.116</td>\n",
       "      <td>4</td>\n",
       "      <td>4</td>\n",
       "    </tr>\n",
       "    <tr>\n",
       "      <th>1</th>\n",
       "      <td>00001dddd002.mp3</td>\n",
       "      <td>কোন মহান রাষ্ট্রের নাগরিক হতে চাও?</td>\n",
       "      <td>train</td>\n",
       "      <td>2.448</td>\n",
       "      <td>6</td>\n",
       "      <td>6</td>\n",
       "    </tr>\n",
       "    <tr>\n",
       "      <th>2</th>\n",
       "      <td>00001e0bc131.mp3</td>\n",
       "      <td>আমি তোমার কষ্টটা বুঝছি, কিন্তু এটা সঠিক পথ না।</td>\n",
       "      <td>train</td>\n",
       "      <td>4.716</td>\n",
       "      <td>9</td>\n",
       "      <td>9</td>\n",
       "    </tr>\n",
       "    <tr>\n",
       "      <th>3</th>\n",
       "      <td>000024b3d810.mp3</td>\n",
       "      <td>নাচ শেষ হওয়ার পর সকলে শরীর ধুয়ে একসঙ্গে ভোজন...</td>\n",
       "      <td>train</td>\n",
       "      <td>7.452</td>\n",
       "      <td>10</td>\n",
       "      <td>10</td>\n",
       "    </tr>\n",
       "    <tr>\n",
       "      <th>4</th>\n",
       "      <td>000028220ab3.mp3</td>\n",
       "      <td>হুমম, ওহ হেই, দেখো।</td>\n",
       "      <td>train</td>\n",
       "      <td>2.160</td>\n",
       "      <td>4</td>\n",
       "      <td>4</td>\n",
       "    </tr>\n",
       "  </tbody>\n",
       "</table>\n",
       "</div>"
      ],
      "text/plain": [
       "                 id                                           sentence  split  \\\n",
       "0  000005f3362c.mp3                              ও বলেছে আপনার ঠিকানা!  train   \n",
       "1  00001dddd002.mp3                 কোন মহান রাষ্ট্রের নাগরিক হতে চাও?  train   \n",
       "2  00001e0bc131.mp3     আমি তোমার কষ্টটা বুঝছি, কিন্তু এটা সঠিক পথ না।  train   \n",
       "3  000024b3d810.mp3  নাচ শেষ হওয়ার পর সকলে শরীর ধুয়ে একসঙ্গে ভোজন...  train   \n",
       "4  000028220ab3.mp3                                হুমম, ওহ হেই, দেখো।  train   \n",
       "\n",
       "   length  sen_length  sen_len  \n",
       "0   1.116           4        4  \n",
       "1   2.448           6        6  \n",
       "2   4.716           9        9  \n",
       "3   7.452          10       10  \n",
       "4   2.160           4        4  "
      ]
     },
     "execution_count": 9,
     "metadata": {},
     "output_type": "execute_result"
    }
   ],
   "source": [
    "df = pd.read_csv(\"train.csv\")\n",
    "df.head()"
   ]
  },
  {
   "cell_type": "code",
   "execution_count": 10,
   "id": "d70cf304-8f05-439d-924c-a5cec44d0d58",
   "metadata": {},
   "outputs": [],
   "source": [
    "df['sen_length'] = df['sentence'].apply(lambda x:len(x.split()))"
   ]
  },
  {
   "cell_type": "code",
   "execution_count": 11,
   "id": "22b8d954-e5e8-41ff-9cfb-b465981e37b9",
   "metadata": {},
   "outputs": [],
   "source": [
    "df['sen_len'] = df['sen_length']"
   ]
  },
  {
   "cell_type": "code",
   "execution_count": 12,
   "id": "8c6928e0-f03d-43b8-821f-e98e060ece8e",
   "metadata": {},
   "outputs": [],
   "source": [
    "df.to_csv(\"train_modified.csv\",index=False)"
   ]
  },
  {
   "cell_type": "code",
   "execution_count": 13,
   "id": "7d8c57ea-098b-4d2b-9ae3-1d95e1560a4f",
   "metadata": {},
   "outputs": [
    {
     "data": {
      "text/plain": [
       "(9757, 6)"
      ]
     },
     "execution_count": 13,
     "metadata": {},
     "output_type": "execute_result"
    }
   ],
   "source": [
    "df[df['length']<1].shape"
   ]
  },
  {
   "cell_type": "code",
   "execution_count": 14,
   "id": "e3e3bbed-59d7-48a6-9451-c24b215ffef5",
   "metadata": {},
   "outputs": [
    {
     "data": {
      "text/plain": [
       "(944980, 6)"
      ]
     },
     "execution_count": 14,
     "metadata": {},
     "output_type": "execute_result"
    }
   ],
   "source": [
    "df = df[df['length']>1]\n",
    "df = df[df['sen_len']>2]\n",
    "df.shape"
   ]
  },
  {
   "cell_type": "code",
   "execution_count": 15,
   "id": "9d6fab58-c239-428c-87cb-6fce5a7bca1a",
   "metadata": {},
   "outputs": [
    {
     "name": "stderr",
     "output_type": "stream",
     "text": [
      "100%|██████████| 944980/944980 [00:05<00:00, 170914.40it/s]\n"
     ]
    }
   ],
   "source": [
    "rat = []\n",
    "from tqdm import tqdm\n",
    "for i in tqdm(range(len(df))):\n",
    "    r = df['length'].iloc[i]/df['sen_len'].iloc[i]\n",
    "    rat.append(r)"
   ]
  },
  {
   "cell_type": "code",
   "execution_count": 16,
   "id": "b12f1027-b155-4c7d-9fb1-be42101de99d",
   "metadata": {},
   "outputs": [
    {
     "data": {
      "text/html": [
       "<div>\n",
       "<style scoped>\n",
       "    .dataframe tbody tr th:only-of-type {\n",
       "        vertical-align: middle;\n",
       "    }\n",
       "\n",
       "    .dataframe tbody tr th {\n",
       "        vertical-align: top;\n",
       "    }\n",
       "\n",
       "    .dataframe thead th {\n",
       "        text-align: right;\n",
       "    }\n",
       "</style>\n",
       "<table border=\"1\" class=\"dataframe\">\n",
       "  <thead>\n",
       "    <tr style=\"text-align: right;\">\n",
       "      <th></th>\n",
       "      <th>id</th>\n",
       "      <th>sentence</th>\n",
       "      <th>split</th>\n",
       "      <th>length</th>\n",
       "      <th>sen_length</th>\n",
       "      <th>sen_len</th>\n",
       "      <th>ratio</th>\n",
       "    </tr>\n",
       "  </thead>\n",
       "  <tbody>\n",
       "    <tr>\n",
       "      <th>0</th>\n",
       "      <td>000005f3362c.mp3</td>\n",
       "      <td>ও বলেছে আপনার ঠিকানা!</td>\n",
       "      <td>train</td>\n",
       "      <td>1.116</td>\n",
       "      <td>4</td>\n",
       "      <td>4</td>\n",
       "      <td>0.279000</td>\n",
       "    </tr>\n",
       "    <tr>\n",
       "      <th>1</th>\n",
       "      <td>00001dddd002.mp3</td>\n",
       "      <td>কোন মহান রাষ্ট্রের নাগরিক হতে চাও?</td>\n",
       "      <td>train</td>\n",
       "      <td>2.448</td>\n",
       "      <td>6</td>\n",
       "      <td>6</td>\n",
       "      <td>0.408000</td>\n",
       "    </tr>\n",
       "    <tr>\n",
       "      <th>2</th>\n",
       "      <td>00001e0bc131.mp3</td>\n",
       "      <td>আমি তোমার কষ্টটা বুঝছি, কিন্তু এটা সঠিক পথ না।</td>\n",
       "      <td>train</td>\n",
       "      <td>4.716</td>\n",
       "      <td>9</td>\n",
       "      <td>9</td>\n",
       "      <td>0.524000</td>\n",
       "    </tr>\n",
       "    <tr>\n",
       "      <th>3</th>\n",
       "      <td>000024b3d810.mp3</td>\n",
       "      <td>নাচ শেষ হওয়ার পর সকলে শরীর ধুয়ে একসঙ্গে ভোজন...</td>\n",
       "      <td>train</td>\n",
       "      <td>7.452</td>\n",
       "      <td>10</td>\n",
       "      <td>10</td>\n",
       "      <td>0.745200</td>\n",
       "    </tr>\n",
       "    <tr>\n",
       "      <th>4</th>\n",
       "      <td>000028220ab3.mp3</td>\n",
       "      <td>হুমম, ওহ হেই, দেখো।</td>\n",
       "      <td>train</td>\n",
       "      <td>2.160</td>\n",
       "      <td>4</td>\n",
       "      <td>4</td>\n",
       "      <td>0.540000</td>\n",
       "    </tr>\n",
       "    <tr>\n",
       "      <th>...</th>\n",
       "      <td>...</td>\n",
       "      <td>...</td>\n",
       "      <td>...</td>\n",
       "      <td>...</td>\n",
       "      <td>...</td>\n",
       "      <td>...</td>\n",
       "      <td>...</td>\n",
       "    </tr>\n",
       "    <tr>\n",
       "      <th>963631</th>\n",
       "      <td>ffffd07108b7.mp3</td>\n",
       "      <td>আপনার সাথে কথা বলতে চাই।</td>\n",
       "      <td>train</td>\n",
       "      <td>2.340</td>\n",
       "      <td>5</td>\n",
       "      <td>5</td>\n",
       "      <td>0.468000</td>\n",
       "    </tr>\n",
       "    <tr>\n",
       "      <th>963632</th>\n",
       "      <td>ffffde37678a.mp3</td>\n",
       "      <td>সুতরাং পরের দিন আর-একটা ছবি না লইয়া চিত্রকর ছা...</td>\n",
       "      <td>train</td>\n",
       "      <td>4.608</td>\n",
       "      <td>10</td>\n",
       "      <td>10</td>\n",
       "      <td>0.460800</td>\n",
       "    </tr>\n",
       "    <tr>\n",
       "      <th>963633</th>\n",
       "      <td>ffffe1b5f095.mp3</td>\n",
       "      <td>সামাজিক কর্মকাণ্ডসমিতিতে গিয়ে দেখা যায়, শিল্পী...</td>\n",
       "      <td>train</td>\n",
       "      <td>5.688</td>\n",
       "      <td>11</td>\n",
       "      <td>11</td>\n",
       "      <td>0.517091</td>\n",
       "    </tr>\n",
       "    <tr>\n",
       "      <th>963634</th>\n",
       "      <td>ffffec31636e.mp3</td>\n",
       "      <td>গুগল ম্যাপসের সাহায্যে খুঁজে পাওয়া যাবে কোন জা...</td>\n",
       "      <td>train</td>\n",
       "      <td>5.400</td>\n",
       "      <td>12</td>\n",
       "      <td>12</td>\n",
       "      <td>0.450000</td>\n",
       "    </tr>\n",
       "    <tr>\n",
       "      <th>963635</th>\n",
       "      <td>fffff9f38566.mp3</td>\n",
       "      <td>তোমরা আমাকে কী নাম ধরে ডাকবে?</td>\n",
       "      <td>train</td>\n",
       "      <td>2.916</td>\n",
       "      <td>6</td>\n",
       "      <td>6</td>\n",
       "      <td>0.486000</td>\n",
       "    </tr>\n",
       "  </tbody>\n",
       "</table>\n",
       "<p>944980 rows × 7 columns</p>\n",
       "</div>"
      ],
      "text/plain": [
       "                      id                                           sentence  \\\n",
       "0       000005f3362c.mp3                              ও বলেছে আপনার ঠিকানা!   \n",
       "1       00001dddd002.mp3                 কোন মহান রাষ্ট্রের নাগরিক হতে চাও?   \n",
       "2       00001e0bc131.mp3     আমি তোমার কষ্টটা বুঝছি, কিন্তু এটা সঠিক পথ না।   \n",
       "3       000024b3d810.mp3  নাচ শেষ হওয়ার পর সকলে শরীর ধুয়ে একসঙ্গে ভোজন...   \n",
       "4       000028220ab3.mp3                                হুমম, ওহ হেই, দেখো।   \n",
       "...                  ...                                                ...   \n",
       "963631  ffffd07108b7.mp3                           আপনার সাথে কথা বলতে চাই।   \n",
       "963632  ffffde37678a.mp3  সুতরাং পরের দিন আর-একটা ছবি না লইয়া চিত্রকর ছা...   \n",
       "963633  ffffe1b5f095.mp3  সামাজিক কর্মকাণ্ডসমিতিতে গিয়ে দেখা যায়, শিল্পী...   \n",
       "963634  ffffec31636e.mp3  গুগল ম্যাপসের সাহায্যে খুঁজে পাওয়া যাবে কোন জা...   \n",
       "963635  fffff9f38566.mp3                      তোমরা আমাকে কী নাম ধরে ডাকবে?   \n",
       "\n",
       "        split  length  sen_length  sen_len     ratio  \n",
       "0       train   1.116           4        4  0.279000  \n",
       "1       train   2.448           6        6  0.408000  \n",
       "2       train   4.716           9        9  0.524000  \n",
       "3       train   7.452          10       10  0.745200  \n",
       "4       train   2.160           4        4  0.540000  \n",
       "...       ...     ...         ...      ...       ...  \n",
       "963631  train   2.340           5        5  0.468000  \n",
       "963632  train   4.608          10       10  0.460800  \n",
       "963633  train   5.688          11       11  0.517091  \n",
       "963634  train   5.400          12       12  0.450000  \n",
       "963635  train   2.916           6        6  0.486000  \n",
       "\n",
       "[944980 rows x 7 columns]"
      ]
     },
     "execution_count": 16,
     "metadata": {},
     "output_type": "execute_result"
    }
   ],
   "source": [
    "df['ratio'] = rat\n",
    "df"
   ]
  },
  {
   "cell_type": "code",
   "execution_count": 17,
   "id": "876b49a1-89c7-4fca-80dd-50d2208a42ef",
   "metadata": {},
   "outputs": [
    {
     "data": {
      "text/html": [
       "<div>\n",
       "<style scoped>\n",
       "    .dataframe tbody tr th:only-of-type {\n",
       "        vertical-align: middle;\n",
       "    }\n",
       "\n",
       "    .dataframe tbody tr th {\n",
       "        vertical-align: top;\n",
       "    }\n",
       "\n",
       "    .dataframe thead th {\n",
       "        text-align: right;\n",
       "    }\n",
       "</style>\n",
       "<table border=\"1\" class=\"dataframe\">\n",
       "  <thead>\n",
       "    <tr style=\"text-align: right;\">\n",
       "      <th></th>\n",
       "      <th>id</th>\n",
       "      <th>sentence</th>\n",
       "      <th>split</th>\n",
       "      <th>length</th>\n",
       "      <th>sen_length</th>\n",
       "      <th>sen_len</th>\n",
       "      <th>ratio</th>\n",
       "      <th>len_s</th>\n",
       "    </tr>\n",
       "  </thead>\n",
       "  <tbody>\n",
       "    <tr>\n",
       "      <th>0</th>\n",
       "      <td>000005f3362c.mp3</td>\n",
       "      <td>ও বলেছে আপনার ঠিকানা!</td>\n",
       "      <td>train</td>\n",
       "      <td>1.116</td>\n",
       "      <td>4</td>\n",
       "      <td>4</td>\n",
       "      <td>0.2790</td>\n",
       "      <td>66.96</td>\n",
       "    </tr>\n",
       "    <tr>\n",
       "      <th>1</th>\n",
       "      <td>00001dddd002.mp3</td>\n",
       "      <td>কোন মহান রাষ্ট্রের নাগরিক হতে চাও?</td>\n",
       "      <td>train</td>\n",
       "      <td>2.448</td>\n",
       "      <td>6</td>\n",
       "      <td>6</td>\n",
       "      <td>0.4080</td>\n",
       "      <td>146.88</td>\n",
       "    </tr>\n",
       "    <tr>\n",
       "      <th>2</th>\n",
       "      <td>00001e0bc131.mp3</td>\n",
       "      <td>আমি তোমার কষ্টটা বুঝছি, কিন্তু এটা সঠিক পথ না।</td>\n",
       "      <td>train</td>\n",
       "      <td>4.716</td>\n",
       "      <td>9</td>\n",
       "      <td>9</td>\n",
       "      <td>0.5240</td>\n",
       "      <td>282.96</td>\n",
       "    </tr>\n",
       "    <tr>\n",
       "      <th>3</th>\n",
       "      <td>000024b3d810.mp3</td>\n",
       "      <td>নাচ শেষ হওয়ার পর সকলে শরীর ধুয়ে একসঙ্গে ভোজন...</td>\n",
       "      <td>train</td>\n",
       "      <td>7.452</td>\n",
       "      <td>10</td>\n",
       "      <td>10</td>\n",
       "      <td>0.7452</td>\n",
       "      <td>447.12</td>\n",
       "    </tr>\n",
       "    <tr>\n",
       "      <th>4</th>\n",
       "      <td>000028220ab3.mp3</td>\n",
       "      <td>হুমম, ওহ হেই, দেখো।</td>\n",
       "      <td>train</td>\n",
       "      <td>2.160</td>\n",
       "      <td>4</td>\n",
       "      <td>4</td>\n",
       "      <td>0.5400</td>\n",
       "      <td>129.60</td>\n",
       "    </tr>\n",
       "  </tbody>\n",
       "</table>\n",
       "</div>"
      ],
      "text/plain": [
       "                 id                                           sentence  split  \\\n",
       "0  000005f3362c.mp3                              ও বলেছে আপনার ঠিকানা!  train   \n",
       "1  00001dddd002.mp3                 কোন মহান রাষ্ট্রের নাগরিক হতে চাও?  train   \n",
       "2  00001e0bc131.mp3     আমি তোমার কষ্টটা বুঝছি, কিন্তু এটা সঠিক পথ না।  train   \n",
       "3  000024b3d810.mp3  নাচ শেষ হওয়ার পর সকলে শরীর ধুয়ে একসঙ্গে ভোজন...  train   \n",
       "4  000028220ab3.mp3                                হুমম, ওহ হেই, দেখো।  train   \n",
       "\n",
       "   length  sen_length  sen_len   ratio   len_s  \n",
       "0   1.116           4        4  0.2790   66.96  \n",
       "1   2.448           6        6  0.4080  146.88  \n",
       "2   4.716           9        9  0.5240  282.96  \n",
       "3   7.452          10       10  0.7452  447.12  \n",
       "4   2.160           4        4  0.5400  129.60  "
      ]
     },
     "execution_count": 17,
     "metadata": {},
     "output_type": "execute_result"
    }
   ],
   "source": [
    "df['len_s'] = df['length'].apply(lambda x:60*x)\n",
    "df.head()"
   ]
  },
  {
   "cell_type": "code",
   "execution_count": 18,
   "id": "25b02b34-4e25-43e6-bdb8-ab623f8fb7ac",
   "metadata": {},
   "outputs": [
    {
     "name": "stderr",
     "output_type": "stream",
     "text": [
      "100%|██████████| 944980/944980 [00:05<00:00, 172216.27it/s]\n"
     ]
    },
    {
     "data": {
      "text/html": [
       "<div>\n",
       "<style scoped>\n",
       "    .dataframe tbody tr th:only-of-type {\n",
       "        vertical-align: middle;\n",
       "    }\n",
       "\n",
       "    .dataframe tbody tr th {\n",
       "        vertical-align: top;\n",
       "    }\n",
       "\n",
       "    .dataframe thead th {\n",
       "        text-align: right;\n",
       "    }\n",
       "</style>\n",
       "<table border=\"1\" class=\"dataframe\">\n",
       "  <thead>\n",
       "    <tr style=\"text-align: right;\">\n",
       "      <th></th>\n",
       "      <th>id</th>\n",
       "      <th>sentence</th>\n",
       "      <th>split</th>\n",
       "      <th>length</th>\n",
       "      <th>sen_length</th>\n",
       "      <th>sen_len</th>\n",
       "      <th>ratio</th>\n",
       "      <th>len_s</th>\n",
       "      <th>new_ratio</th>\n",
       "    </tr>\n",
       "  </thead>\n",
       "  <tbody>\n",
       "    <tr>\n",
       "      <th>0</th>\n",
       "      <td>000005f3362c.mp3</td>\n",
       "      <td>ও বলেছে আপনার ঠিকানা!</td>\n",
       "      <td>train</td>\n",
       "      <td>1.116</td>\n",
       "      <td>4</td>\n",
       "      <td>4</td>\n",
       "      <td>0.279000</td>\n",
       "      <td>66.96</td>\n",
       "      <td>16.740000</td>\n",
       "    </tr>\n",
       "    <tr>\n",
       "      <th>1</th>\n",
       "      <td>00001dddd002.mp3</td>\n",
       "      <td>কোন মহান রাষ্ট্রের নাগরিক হতে চাও?</td>\n",
       "      <td>train</td>\n",
       "      <td>2.448</td>\n",
       "      <td>6</td>\n",
       "      <td>6</td>\n",
       "      <td>0.408000</td>\n",
       "      <td>146.88</td>\n",
       "      <td>24.480000</td>\n",
       "    </tr>\n",
       "    <tr>\n",
       "      <th>2</th>\n",
       "      <td>00001e0bc131.mp3</td>\n",
       "      <td>আমি তোমার কষ্টটা বুঝছি, কিন্তু এটা সঠিক পথ না।</td>\n",
       "      <td>train</td>\n",
       "      <td>4.716</td>\n",
       "      <td>9</td>\n",
       "      <td>9</td>\n",
       "      <td>0.524000</td>\n",
       "      <td>282.96</td>\n",
       "      <td>31.440000</td>\n",
       "    </tr>\n",
       "    <tr>\n",
       "      <th>3</th>\n",
       "      <td>000024b3d810.mp3</td>\n",
       "      <td>নাচ শেষ হওয়ার পর সকলে শরীর ধুয়ে একসঙ্গে ভোজন...</td>\n",
       "      <td>train</td>\n",
       "      <td>7.452</td>\n",
       "      <td>10</td>\n",
       "      <td>10</td>\n",
       "      <td>0.745200</td>\n",
       "      <td>447.12</td>\n",
       "      <td>44.712000</td>\n",
       "    </tr>\n",
       "    <tr>\n",
       "      <th>4</th>\n",
       "      <td>000028220ab3.mp3</td>\n",
       "      <td>হুমম, ওহ হেই, দেখো।</td>\n",
       "      <td>train</td>\n",
       "      <td>2.160</td>\n",
       "      <td>4</td>\n",
       "      <td>4</td>\n",
       "      <td>0.540000</td>\n",
       "      <td>129.60</td>\n",
       "      <td>32.400000</td>\n",
       "    </tr>\n",
       "    <tr>\n",
       "      <th>...</th>\n",
       "      <td>...</td>\n",
       "      <td>...</td>\n",
       "      <td>...</td>\n",
       "      <td>...</td>\n",
       "      <td>...</td>\n",
       "      <td>...</td>\n",
       "      <td>...</td>\n",
       "      <td>...</td>\n",
       "      <td>...</td>\n",
       "    </tr>\n",
       "    <tr>\n",
       "      <th>963631</th>\n",
       "      <td>ffffd07108b7.mp3</td>\n",
       "      <td>আপনার সাথে কথা বলতে চাই।</td>\n",
       "      <td>train</td>\n",
       "      <td>2.340</td>\n",
       "      <td>5</td>\n",
       "      <td>5</td>\n",
       "      <td>0.468000</td>\n",
       "      <td>140.40</td>\n",
       "      <td>28.080000</td>\n",
       "    </tr>\n",
       "    <tr>\n",
       "      <th>963632</th>\n",
       "      <td>ffffde37678a.mp3</td>\n",
       "      <td>সুতরাং পরের দিন আর-একটা ছবি না লইয়া চিত্রকর ছা...</td>\n",
       "      <td>train</td>\n",
       "      <td>4.608</td>\n",
       "      <td>10</td>\n",
       "      <td>10</td>\n",
       "      <td>0.460800</td>\n",
       "      <td>276.48</td>\n",
       "      <td>27.648000</td>\n",
       "    </tr>\n",
       "    <tr>\n",
       "      <th>963633</th>\n",
       "      <td>ffffe1b5f095.mp3</td>\n",
       "      <td>সামাজিক কর্মকাণ্ডসমিতিতে গিয়ে দেখা যায়, শিল্পী...</td>\n",
       "      <td>train</td>\n",
       "      <td>5.688</td>\n",
       "      <td>11</td>\n",
       "      <td>11</td>\n",
       "      <td>0.517091</td>\n",
       "      <td>341.28</td>\n",
       "      <td>31.025455</td>\n",
       "    </tr>\n",
       "    <tr>\n",
       "      <th>963634</th>\n",
       "      <td>ffffec31636e.mp3</td>\n",
       "      <td>গুগল ম্যাপসের সাহায্যে খুঁজে পাওয়া যাবে কোন জা...</td>\n",
       "      <td>train</td>\n",
       "      <td>5.400</td>\n",
       "      <td>12</td>\n",
       "      <td>12</td>\n",
       "      <td>0.450000</td>\n",
       "      <td>324.00</td>\n",
       "      <td>27.000000</td>\n",
       "    </tr>\n",
       "    <tr>\n",
       "      <th>963635</th>\n",
       "      <td>fffff9f38566.mp3</td>\n",
       "      <td>তোমরা আমাকে কী নাম ধরে ডাকবে?</td>\n",
       "      <td>train</td>\n",
       "      <td>2.916</td>\n",
       "      <td>6</td>\n",
       "      <td>6</td>\n",
       "      <td>0.486000</td>\n",
       "      <td>174.96</td>\n",
       "      <td>29.160000</td>\n",
       "    </tr>\n",
       "  </tbody>\n",
       "</table>\n",
       "<p>944980 rows × 9 columns</p>\n",
       "</div>"
      ],
      "text/plain": [
       "                      id                                           sentence  \\\n",
       "0       000005f3362c.mp3                              ও বলেছে আপনার ঠিকানা!   \n",
       "1       00001dddd002.mp3                 কোন মহান রাষ্ট্রের নাগরিক হতে চাও?   \n",
       "2       00001e0bc131.mp3     আমি তোমার কষ্টটা বুঝছি, কিন্তু এটা সঠিক পথ না।   \n",
       "3       000024b3d810.mp3  নাচ শেষ হওয়ার পর সকলে শরীর ধুয়ে একসঙ্গে ভোজন...   \n",
       "4       000028220ab3.mp3                                হুমম, ওহ হেই, দেখো।   \n",
       "...                  ...                                                ...   \n",
       "963631  ffffd07108b7.mp3                           আপনার সাথে কথা বলতে চাই।   \n",
       "963632  ffffde37678a.mp3  সুতরাং পরের দিন আর-একটা ছবি না লইয়া চিত্রকর ছা...   \n",
       "963633  ffffe1b5f095.mp3  সামাজিক কর্মকাণ্ডসমিতিতে গিয়ে দেখা যায়, শিল্পী...   \n",
       "963634  ffffec31636e.mp3  গুগল ম্যাপসের সাহায্যে খুঁজে পাওয়া যাবে কোন জা...   \n",
       "963635  fffff9f38566.mp3                      তোমরা আমাকে কী নাম ধরে ডাকবে?   \n",
       "\n",
       "        split  length  sen_length  sen_len     ratio   len_s  new_ratio  \n",
       "0       train   1.116           4        4  0.279000   66.96  16.740000  \n",
       "1       train   2.448           6        6  0.408000  146.88  24.480000  \n",
       "2       train   4.716           9        9  0.524000  282.96  31.440000  \n",
       "3       train   7.452          10       10  0.745200  447.12  44.712000  \n",
       "4       train   2.160           4        4  0.540000  129.60  32.400000  \n",
       "...       ...     ...         ...      ...       ...     ...        ...  \n",
       "963631  train   2.340           5        5  0.468000  140.40  28.080000  \n",
       "963632  train   4.608          10       10  0.460800  276.48  27.648000  \n",
       "963633  train   5.688          11       11  0.517091  341.28  31.025455  \n",
       "963634  train   5.400          12       12  0.450000  324.00  27.000000  \n",
       "963635  train   2.916           6        6  0.486000  174.96  29.160000  \n",
       "\n",
       "[944980 rows x 9 columns]"
      ]
     },
     "execution_count": 18,
     "metadata": {},
     "output_type": "execute_result"
    }
   ],
   "source": [
    "rat = []\n",
    "from tqdm import tqdm\n",
    "for i in tqdm(range(len(df))):\n",
    "    r = df['len_s'].iloc[i]/df['sen_len'].iloc[i]\n",
    "    rat.append(r)\n",
    "    \n",
    "df['new_ratio'] = rat\n",
    "df"
   ]
  },
  {
   "cell_type": "code",
   "execution_count": 19,
   "id": "ee855fbe-958e-4575-8489-1bd404b6e91c",
   "metadata": {},
   "outputs": [
    {
     "data": {
      "text/plain": [
       "(array([ 12289., 123884., 253600., 310732., 156362.,  56960.,  18507.,\n",
       "          7369.,   2794.]),\n",
       " array([ 0., 10., 20., 30., 40., 50., 60., 70., 80., 90.]),\n",
       " <BarContainer object of 9 artists>)"
      ]
     },
     "execution_count": 19,
     "metadata": {},
     "output_type": "execute_result"
    },
    {
     "data": {
      "image/png": "[encoded data removed]",
      "text/plain": [
       "<Figure size 640x480 with 1 Axes>"
      ]
     },
     "metadata": {},
     "output_type": "display_data"
    }
   ],
   "source": [
    "plt.hist(df['new_ratio'],bins = [i for i in range(0,100,10)])"
   ]
  },
  {
   "cell_type": "code",
   "execution_count": 20,
   "id": "69e3fc36-bd84-4952-964f-644888f450c0",
   "metadata": {},
   "outputs": [
    {
     "name": "stdout",
     "output_type": "stream",
     "text": [
      "(837701, 9)\n",
      "(808708, 9)\n"
     ]
    }
   ],
   "source": [
    "df = df[df['ratio']<0.8]\n",
    "print(df.shape)\n",
    "df = df[df['ratio']>0.2]\n",
    "print(df.shape)"
   ]
  },
  {
   "cell_type": "code",
   "execution_count": 21,
   "id": "e1c67608-a037-4fbf-8ae4-0acbff33fdcd",
   "metadata": {},
   "outputs": [
    {
     "data": {
      "text/plain": [
       "(array([     0., 107180., 253600., 310732., 137196.,      0.,      0.,\n",
       "             0.,      0.]),\n",
       " array([ 0., 10., 20., 30., 40., 50., 60., 70., 80., 90.]),\n",
       " <BarContainer object of 9 artists>)"
      ]
     },
     "execution_count": 21,
     "metadata": {},
     "output_type": "execute_result"
    },
    {
     "data": {
      "image/png": "[encoded data removed]",
      "text/plain": [
       "<Figure size 640x480 with 1 Axes>"
      ]
     },
     "metadata": {},
     "output_type": "display_data"
    }
   ],
   "source": [
    "plt.hist(df['new_ratio'],bins = [i for i in range(0,100,10)])"
   ]
  },
  {
   "cell_type": "code",
   "execution_count": 22,
   "id": "64db8e0b",
   "metadata": {
    "papermill": {
     "duration": 0.595038,
     "end_time": "2023-08-13T10:53:19.069070",
     "exception": false,
     "start_time": "2023-08-13T10:53:18.474032",
     "status": "completed"
    },
    "tags": []
   },
   "outputs": [
    {
     "data": {
      "text/html": [
       "<div>\n",
       "<style scoped>\n",
       "    .dataframe tbody tr th:only-of-type {\n",
       "        vertical-align: middle;\n",
       "    }\n",
       "\n",
       "    .dataframe tbody tr th {\n",
       "        vertical-align: top;\n",
       "    }\n",
       "\n",
       "    .dataframe thead th {\n",
       "        text-align: right;\n",
       "    }\n",
       "</style>\n",
       "<table border=\"1\" class=\"dataframe\">\n",
       "  <thead>\n",
       "    <tr style=\"text-align: right;\">\n",
       "      <th></th>\n",
       "      <th>id</th>\n",
       "      <th>sentence</th>\n",
       "      <th>split</th>\n",
       "      <th>length</th>\n",
       "      <th>sen_length</th>\n",
       "      <th>sen_len</th>\n",
       "      <th>ratio</th>\n",
       "      <th>len_s</th>\n",
       "      <th>new_ratio</th>\n",
       "    </tr>\n",
       "  </thead>\n",
       "  <tbody>\n",
       "    <tr>\n",
       "      <th>654878</th>\n",
       "      <td>adde88325014.mp3</td>\n",
       "      <td>এই চলচ্চিত্রটি পরিচালনা করেছেন সৃজিত মুখোপাধ্য...</td>\n",
       "      <td>train</td>\n",
       "      <td>4.608</td>\n",
       "      <td>6</td>\n",
       "      <td>6</td>\n",
       "      <td>0.768000</td>\n",
       "      <td>276.48</td>\n",
       "      <td>46.080000</td>\n",
       "    </tr>\n",
       "    <tr>\n",
       "      <th>859632</th>\n",
       "      <td>e4577b2a33cc.mp3</td>\n",
       "      <td>জীবনের এই সময়েই তিনি গোপীদের সঙ্গে লীলা করেছিলেন।</td>\n",
       "      <td>train</td>\n",
       "      <td>4.968</td>\n",
       "      <td>8</td>\n",
       "      <td>8</td>\n",
       "      <td>0.621000</td>\n",
       "      <td>298.08</td>\n",
       "      <td>37.260000</td>\n",
       "    </tr>\n",
       "    <tr>\n",
       "      <th>56175</th>\n",
       "      <td>0ef2befae01a.mp3</td>\n",
       "      <td>তাঁর সঙ্গে যখনই কথা হয়েছে, দেখেছি সাধারণ কোনে...</td>\n",
       "      <td>train</td>\n",
       "      <td>2.628</td>\n",
       "      <td>12</td>\n",
       "      <td>12</td>\n",
       "      <td>0.219000</td>\n",
       "      <td>157.68</td>\n",
       "      <td>13.140000</td>\n",
       "    </tr>\n",
       "    <tr>\n",
       "      <th>855449</th>\n",
       "      <td>e34140cac39d.mp3</td>\n",
       "      <td>আবার কোনো কোনো বইতে তাঁর বাবার নাম অঞ্জন বা জি...</td>\n",
       "      <td>train</td>\n",
       "      <td>6.120</td>\n",
       "      <td>14</td>\n",
       "      <td>14</td>\n",
       "      <td>0.437143</td>\n",
       "      <td>367.20</td>\n",
       "      <td>26.228571</td>\n",
       "    </tr>\n",
       "    <tr>\n",
       "      <th>872046</th>\n",
       "      <td>e7a37ce2ca54.mp3</td>\n",
       "      <td>রাষ্ট্রপতি বাণীতে বলেছেন, জনগণের দোরগোড়ায় স্বা...</td>\n",
       "      <td>train</td>\n",
       "      <td>3.060</td>\n",
       "      <td>11</td>\n",
       "      <td>11</td>\n",
       "      <td>0.278182</td>\n",
       "      <td>183.60</td>\n",
       "      <td>16.690909</td>\n",
       "    </tr>\n",
       "    <tr>\n",
       "      <th>...</th>\n",
       "      <td>...</td>\n",
       "      <td>...</td>\n",
       "      <td>...</td>\n",
       "      <td>...</td>\n",
       "      <td>...</td>\n",
       "      <td>...</td>\n",
       "      <td>...</td>\n",
       "      <td>...</td>\n",
       "      <td>...</td>\n",
       "    </tr>\n",
       "    <tr>\n",
       "      <th>317902</th>\n",
       "      <td>5466ee04af2f.mp3</td>\n",
       "      <td>ডানদিকে গেলেই আপনার গন্তব্যে পৌঁছে যাবেন।</td>\n",
       "      <td>train</td>\n",
       "      <td>2.736</td>\n",
       "      <td>6</td>\n",
       "      <td>6</td>\n",
       "      <td>0.456000</td>\n",
       "      <td>164.16</td>\n",
       "      <td>27.360000</td>\n",
       "    </tr>\n",
       "    <tr>\n",
       "      <th>448580</th>\n",
       "      <td>771e3ace8f68.mp3</td>\n",
       "      <td>কী বলেন ওস্তাদ!</td>\n",
       "      <td>train</td>\n",
       "      <td>2.016</td>\n",
       "      <td>3</td>\n",
       "      <td>3</td>\n",
       "      <td>0.672000</td>\n",
       "      <td>120.96</td>\n",
       "      <td>40.320000</td>\n",
       "    </tr>\n",
       "    <tr>\n",
       "      <th>161996</th>\n",
       "      <td>2b0d47596296.mp3</td>\n",
       "      <td>স্মৃতিস্তম্ভের একটি শিলালিপি অনুসারে এটি ইব্রা...</td>\n",
       "      <td>train</td>\n",
       "      <td>5.220</td>\n",
       "      <td>7</td>\n",
       "      <td>7</td>\n",
       "      <td>0.745714</td>\n",
       "      <td>313.20</td>\n",
       "      <td>44.742857</td>\n",
       "    </tr>\n",
       "    <tr>\n",
       "      <th>823245</th>\n",
       "      <td>daaa2ca5409e.mp3</td>\n",
       "      <td>বলি বলি করে বলতে পারিনি।</td>\n",
       "      <td>train</td>\n",
       "      <td>3.168</td>\n",
       "      <td>5</td>\n",
       "      <td>5</td>\n",
       "      <td>0.633600</td>\n",
       "      <td>190.08</td>\n",
       "      <td>38.016000</td>\n",
       "    </tr>\n",
       "    <tr>\n",
       "      <th>149730</th>\n",
       "      <td>27ccbef4a765.mp3</td>\n",
       "      <td>বিমানবন্দরটি নাগপুর শহরে বিমান পরিষেবা প্রদান ...</td>\n",
       "      <td>train</td>\n",
       "      <td>3.960</td>\n",
       "      <td>7</td>\n",
       "      <td>7</td>\n",
       "      <td>0.565714</td>\n",
       "      <td>237.60</td>\n",
       "      <td>33.942857</td>\n",
       "    </tr>\n",
       "  </tbody>\n",
       "</table>\n",
       "<p>785771 rows × 9 columns</p>\n",
       "</div>"
      ],
      "text/plain": [
       "                      id                                           sentence  \\\n",
       "654878  adde88325014.mp3  এই চলচ্চিত্রটি পরিচালনা করেছেন সৃজিত মুখোপাধ্য...   \n",
       "859632  e4577b2a33cc.mp3  জীবনের এই সময়েই তিনি গোপীদের সঙ্গে লীলা করেছিলেন।   \n",
       "56175   0ef2befae01a.mp3  তাঁর সঙ্গে যখনই কথা হয়েছে, দেখেছি সাধারণ কোনে...   \n",
       "855449  e34140cac39d.mp3  আবার কোনো কোনো বইতে তাঁর বাবার নাম অঞ্জন বা জি...   \n",
       "872046  e7a37ce2ca54.mp3  রাষ্ট্রপতি বাণীতে বলেছেন, জনগণের দোরগোড়ায় স্বা...   \n",
       "...                  ...                                                ...   \n",
       "317902  5466ee04af2f.mp3          ডানদিকে গেলেই আপনার গন্তব্যে পৌঁছে যাবেন।   \n",
       "448580  771e3ace8f68.mp3                                    কী বলেন ওস্তাদ!   \n",
       "161996  2b0d47596296.mp3  স্মৃতিস্তম্ভের একটি শিলালিপি অনুসারে এটি ইব্রা...   \n",
       "823245  daaa2ca5409e.mp3                           বলি বলি করে বলতে পারিনি।   \n",
       "149730  27ccbef4a765.mp3  বিমানবন্দরটি নাগপুর শহরে বিমান পরিষেবা প্রদান ...   \n",
       "\n",
       "        split  length  sen_length  sen_len     ratio   len_s  new_ratio  \n",
       "654878  train   4.608           6        6  0.768000  276.48  46.080000  \n",
       "859632  train   4.968           8        8  0.621000  298.08  37.260000  \n",
       "56175   train   2.628          12       12  0.219000  157.68  13.140000  \n",
       "855449  train   6.120          14       14  0.437143  367.20  26.228571  \n",
       "872046  train   3.060          11       11  0.278182  183.60  16.690909  \n",
       "...       ...     ...         ...      ...       ...     ...        ...  \n",
       "317902  train   2.736           6        6  0.456000  164.16  27.360000  \n",
       "448580  train   2.016           3        3  0.672000  120.96  40.320000  \n",
       "161996  train   5.220           7        7  0.745714  313.20  44.742857  \n",
       "823245  train   3.168           5        5  0.633600  190.08  38.016000  \n",
       "149730  train   3.960           7        7  0.565714  237.60  33.942857  \n",
       "\n",
       "[785771 rows x 9 columns]"
      ]
     },
     "execution_count": 22,
     "metadata": {},
     "output_type": "execute_result"
    }
   ],
   "source": [
    "train = df[df[\"split\"]==\"train\"]\n",
    "train = train.sample(frac=1,random_state=42)\n",
    "train"
   ]
  },
  {
   "cell_type": "code",
   "execution_count": 23,
   "id": "8b8ad082",
   "metadata": {
    "papermill": {
     "duration": 0.217948,
     "end_time": "2023-08-13T10:53:19.307088",
     "exception": false,
     "start_time": "2023-08-13T10:53:19.089140",
     "status": "completed"
    },
    "tags": []
   },
   "outputs": [
    {
     "data": {
      "text/html": [
       "<div>\n",
       "<style scoped>\n",
       "    .dataframe tbody tr th:only-of-type {\n",
       "        vertical-align: middle;\n",
       "    }\n",
       "\n",
       "    .dataframe tbody tr th {\n",
       "        vertical-align: top;\n",
       "    }\n",
       "\n",
       "    .dataframe thead th {\n",
       "        text-align: right;\n",
       "    }\n",
       "</style>\n",
       "<table border=\"1\" class=\"dataframe\">\n",
       "  <thead>\n",
       "    <tr style=\"text-align: right;\">\n",
       "      <th></th>\n",
       "      <th>id</th>\n",
       "      <th>sentence</th>\n",
       "      <th>split</th>\n",
       "      <th>length</th>\n",
       "      <th>sen_length</th>\n",
       "      <th>sen_len</th>\n",
       "      <th>ratio</th>\n",
       "      <th>len_s</th>\n",
       "      <th>new_ratio</th>\n",
       "    </tr>\n",
       "  </thead>\n",
       "  <tbody>\n",
       "    <tr>\n",
       "      <th>371342</th>\n",
       "      <td>6292c638c31a.mp3</td>\n",
       "      <td>জমির মালিক ছিলেন চট্টগ্রাম মেট্রোপলিটন কলেজের ...</td>\n",
       "      <td>valid</td>\n",
       "      <td>4.680</td>\n",
       "      <td>9</td>\n",
       "      <td>9</td>\n",
       "      <td>0.520000</td>\n",
       "      <td>280.80</td>\n",
       "      <td>31.200000</td>\n",
       "    </tr>\n",
       "    <tr>\n",
       "      <th>100224</th>\n",
       "      <td>1aba511e76da.mp3</td>\n",
       "      <td>পুরনো রাজ্যে পিরামিড লিপি থেকে শুরু করে মধ্য র...</td>\n",
       "      <td>valid</td>\n",
       "      <td>8.208</td>\n",
       "      <td>19</td>\n",
       "      <td>19</td>\n",
       "      <td>0.432000</td>\n",
       "      <td>492.48</td>\n",
       "      <td>25.920000</td>\n",
       "    </tr>\n",
       "    <tr>\n",
       "      <th>341262</th>\n",
       "      <td>5aa84dea40f6.mp3</td>\n",
       "      <td>তবে তাকে ব্যাট ধরার প্রয়োজন হয়নি।</td>\n",
       "      <td>valid</td>\n",
       "      <td>4.140</td>\n",
       "      <td>6</td>\n",
       "      <td>6</td>\n",
       "      <td>0.690000</td>\n",
       "      <td>248.40</td>\n",
       "      <td>41.400000</td>\n",
       "    </tr>\n",
       "    <tr>\n",
       "      <th>432389</th>\n",
       "      <td>72cfeaa988d0.mp3</td>\n",
       "      <td>সুজি পানিতে ভিজিয়ে পেস্ট করে একটি নরম মিশ্রণ ...</td>\n",
       "      <td>valid</td>\n",
       "      <td>8.064</td>\n",
       "      <td>11</td>\n",
       "      <td>11</td>\n",
       "      <td>0.733091</td>\n",
       "      <td>483.84</td>\n",
       "      <td>43.985455</td>\n",
       "    </tr>\n",
       "    <tr>\n",
       "      <th>694050</th>\n",
       "      <td>b85482da9744.mp3</td>\n",
       "      <td>একত্রে খাবার গ্রহণ করতে এরা অভ্যস্ত।</td>\n",
       "      <td>valid</td>\n",
       "      <td>3.960</td>\n",
       "      <td>6</td>\n",
       "      <td>6</td>\n",
       "      <td>0.660000</td>\n",
       "      <td>237.60</td>\n",
       "      <td>39.600000</td>\n",
       "    </tr>\n",
       "    <tr>\n",
       "      <th>...</th>\n",
       "      <td>...</td>\n",
       "      <td>...</td>\n",
       "      <td>...</td>\n",
       "      <td>...</td>\n",
       "      <td>...</td>\n",
       "      <td>...</td>\n",
       "      <td>...</td>\n",
       "      <td>...</td>\n",
       "      <td>...</td>\n",
       "    </tr>\n",
       "    <tr>\n",
       "      <th>504005</th>\n",
       "      <td>85d53163015e.mp3</td>\n",
       "      <td>এটি বাংলাদেশ-ইংল্যান্ডের যৌথ উদ্যোগে প্রতিষ্ঠি...</td>\n",
       "      <td>valid</td>\n",
       "      <td>4.680</td>\n",
       "      <td>7</td>\n",
       "      <td>7</td>\n",
       "      <td>0.668571</td>\n",
       "      <td>280.80</td>\n",
       "      <td>40.114286</td>\n",
       "    </tr>\n",
       "    <tr>\n",
       "      <th>907881</th>\n",
       "      <td>f13017e1cba3.mp3</td>\n",
       "      <td>তিনি টেলিভিশন উপস্থাপনা করার পাশাপাশি বেশ কয়ে...</td>\n",
       "      <td>valid</td>\n",
       "      <td>8.316</td>\n",
       "      <td>14</td>\n",
       "      <td>14</td>\n",
       "      <td>0.594000</td>\n",
       "      <td>498.96</td>\n",
       "      <td>35.640000</td>\n",
       "    </tr>\n",
       "    <tr>\n",
       "      <th>224991</th>\n",
       "      <td>3bc5dc6f70eb.mp3</td>\n",
       "      <td>এ দম্পতির তিন সন্তান।</td>\n",
       "      <td>valid</td>\n",
       "      <td>3.168</td>\n",
       "      <td>4</td>\n",
       "      <td>4</td>\n",
       "      <td>0.792000</td>\n",
       "      <td>190.08</td>\n",
       "      <td>47.520000</td>\n",
       "    </tr>\n",
       "    <tr>\n",
       "      <th>36107</th>\n",
       "      <td>0999a07a1370.mp3</td>\n",
       "      <td>এগুলোকে ব্যাপক দ্বন্দ্বের জন্য সম্ভাব্য ট্রিগা...</td>\n",
       "      <td>valid</td>\n",
       "      <td>6.948</td>\n",
       "      <td>9</td>\n",
       "      <td>9</td>\n",
       "      <td>0.772000</td>\n",
       "      <td>416.88</td>\n",
       "      <td>46.320000</td>\n",
       "    </tr>\n",
       "    <tr>\n",
       "      <th>661738</th>\n",
       "      <td>afb8368b3df9.mp3</td>\n",
       "      <td>সাম্রাজ্যকে ঐক্যবদ্ধ করার পর প্রথম মুহাম্মদ আট...</td>\n",
       "      <td>valid</td>\n",
       "      <td>7.488</td>\n",
       "      <td>10</td>\n",
       "      <td>10</td>\n",
       "      <td>0.748800</td>\n",
       "      <td>449.28</td>\n",
       "      <td>44.928000</td>\n",
       "    </tr>\n",
       "  </tbody>\n",
       "</table>\n",
       "<p>22937 rows × 9 columns</p>\n",
       "</div>"
      ],
      "text/plain": [
       "                      id                                           sentence  \\\n",
       "371342  6292c638c31a.mp3  জমির মালিক ছিলেন চট্টগ্রাম মেট্রোপলিটন কলেজের ...   \n",
       "100224  1aba511e76da.mp3  পুরনো রাজ্যে পিরামিড লিপি থেকে শুরু করে মধ্য র...   \n",
       "341262  5aa84dea40f6.mp3                তবে তাকে ব্যাট ধরার প্রয়োজন হয়নি।   \n",
       "432389  72cfeaa988d0.mp3  সুজি পানিতে ভিজিয়ে পেস্ট করে একটি নরম মিশ্রণ ...   \n",
       "694050  b85482da9744.mp3               একত্রে খাবার গ্রহণ করতে এরা অভ্যস্ত।   \n",
       "...                  ...                                                ...   \n",
       "504005  85d53163015e.mp3  এটি বাংলাদেশ-ইংল্যান্ডের যৌথ উদ্যোগে প্রতিষ্ঠি...   \n",
       "907881  f13017e1cba3.mp3  তিনি টেলিভিশন উপস্থাপনা করার পাশাপাশি বেশ কয়ে...   \n",
       "224991  3bc5dc6f70eb.mp3                              এ দম্পতির তিন সন্তান।   \n",
       "36107   0999a07a1370.mp3  এগুলোকে ব্যাপক দ্বন্দ্বের জন্য সম্ভাব্য ট্রিগা...   \n",
       "661738  afb8368b3df9.mp3  সাম্রাজ্যকে ঐক্যবদ্ধ করার পর প্রথম মুহাম্মদ আট...   \n",
       "\n",
       "        split  length  sen_length  sen_len     ratio   len_s  new_ratio  \n",
       "371342  valid   4.680           9        9  0.520000  280.80  31.200000  \n",
       "100224  valid   8.208          19       19  0.432000  492.48  25.920000  \n",
       "341262  valid   4.140           6        6  0.690000  248.40  41.400000  \n",
       "432389  valid   8.064          11       11  0.733091  483.84  43.985455  \n",
       "694050  valid   3.960           6        6  0.660000  237.60  39.600000  \n",
       "...       ...     ...         ...      ...       ...     ...        ...  \n",
       "504005  valid   4.680           7        7  0.668571  280.80  40.114286  \n",
       "907881  valid   8.316          14       14  0.594000  498.96  35.640000  \n",
       "224991  valid   3.168           4        4  0.792000  190.08  47.520000  \n",
       "36107   valid   6.948           9        9  0.772000  416.88  46.320000  \n",
       "661738  valid   7.488          10       10  0.748800  449.28  44.928000  \n",
       "\n",
       "[22937 rows x 9 columns]"
      ]
     },
     "execution_count": 23,
     "metadata": {},
     "output_type": "execute_result"
    }
   ],
   "source": [
    "val = df[df[\"split\"]==\"valid\"]\n",
    "val = val.sample(frac=1,random_state=42)\n",
    "val"
   ]
  },
  {
   "cell_type": "code",
   "execution_count": 24,
   "id": "d98f65ef-d2ad-4faa-b793-9662772670ae",
   "metadata": {},
   "outputs": [],
   "source": [
    "#val= val[val['length']>2]\n",
    "#val = val[val['sen_length']>3]"
   ]
  },
  {
   "cell_type": "code",
   "execution_count": 25,
   "id": "32bed38e-a6c7-4012-b2ea-1f338969044e",
   "metadata": {},
   "outputs": [],
   "source": [
    "df = pd.concat([train,val])"
   ]
  },
  {
   "cell_type": "code",
   "execution_count": 26,
   "id": "07df6db8-e63a-4ed4-a98e-8c64be7ecd89",
   "metadata": {},
   "outputs": [
    {
     "data": {
      "text/plain": [
       "(808708, 9)"
      ]
     },
     "execution_count": 26,
     "metadata": {},
     "output_type": "execute_result"
    }
   ],
   "source": [
    "df.shape"
   ]
  },
  {
   "cell_type": "markdown",
   "id": "38ff8073-1d87-4cc0-b687-7a4f6437b25e",
   "metadata": {},
   "source": [
    "# NISQA"
   ]
  },
  {
   "cell_type": "markdown",
   "id": "bfd2f25c-b2e4-43b6-b5e3-738b9b08581b",
   "metadata": {},
   "source": [
    "Download the metadata provided by the organizers from https://www.kaggle.com/competitions/bengaliai-speech/discussion/433469"
   ]
  },
  {
   "cell_type": "code",
   "execution_count": 27,
   "id": "787b4c7f-a946-4502-8ca1-7ee46e73447a",
   "metadata": {},
   "outputs": [
    {
     "data": {
      "text/html": [
       "<div>\n",
       "<style scoped>\n",
       "    .dataframe tbody tr th:only-of-type {\n",
       "        vertical-align: middle;\n",
       "    }\n",
       "\n",
       "    .dataframe tbody tr th {\n",
       "        vertical-align: top;\n",
       "    }\n",
       "\n",
       "    .dataframe thead th {\n",
       "        text-align: right;\n",
       "    }\n",
       "</style>\n",
       "<table border=\"1\" class=\"dataframe\">\n",
       "  <thead>\n",
       "    <tr style=\"text-align: right;\">\n",
       "      <th></th>\n",
       "      <th>deg</th>\n",
       "      <th>mos_pred</th>\n",
       "      <th>noi_pred</th>\n",
       "      <th>dis_pred</th>\n",
       "      <th>col_pred</th>\n",
       "      <th>loud_pred</th>\n",
       "      <th>model</th>\n",
       "    </tr>\n",
       "  </thead>\n",
       "  <tbody>\n",
       "    <tr>\n",
       "      <th>0</th>\n",
       "      <td>67af5635e163.wav</td>\n",
       "      <td>2.810660</td>\n",
       "      <td>3.060386</td>\n",
       "      <td>3.349879</td>\n",
       "      <td>3.030119</td>\n",
       "      <td>3.400320</td>\n",
       "      <td>NISQAv2</td>\n",
       "    </tr>\n",
       "    <tr>\n",
       "      <th>1</th>\n",
       "      <td>67ff3e6bf4cf.wav</td>\n",
       "      <td>1.781602</td>\n",
       "      <td>2.869787</td>\n",
       "      <td>1.852019</td>\n",
       "      <td>2.256710</td>\n",
       "      <td>3.204139</td>\n",
       "      <td>NISQAv2</td>\n",
       "    </tr>\n",
       "    <tr>\n",
       "      <th>2</th>\n",
       "      <td>6741c3d88006.wav</td>\n",
       "      <td>3.304557</td>\n",
       "      <td>3.737251</td>\n",
       "      <td>4.092661</td>\n",
       "      <td>3.244866</td>\n",
       "      <td>3.618690</td>\n",
       "      <td>NISQAv2</td>\n",
       "    </tr>\n",
       "    <tr>\n",
       "      <th>3</th>\n",
       "      <td>67c631a6fbfd.wav</td>\n",
       "      <td>3.193850</td>\n",
       "      <td>3.710290</td>\n",
       "      <td>4.136703</td>\n",
       "      <td>2.662462</td>\n",
       "      <td>3.430386</td>\n",
       "      <td>NISQAv2</td>\n",
       "    </tr>\n",
       "    <tr>\n",
       "      <th>4</th>\n",
       "      <td>671616b12c10.wav</td>\n",
       "      <td>2.525036</td>\n",
       "      <td>4.105721</td>\n",
       "      <td>2.742880</td>\n",
       "      <td>2.955755</td>\n",
       "      <td>3.561888</td>\n",
       "      <td>NISQAv2</td>\n",
       "    </tr>\n",
       "  </tbody>\n",
       "</table>\n",
       "</div>"
      ],
      "text/plain": [
       "                deg  mos_pred  noi_pred  dis_pred  col_pred  loud_pred  \\\n",
       "0  67af5635e163.wav  2.810660  3.060386  3.349879  3.030119   3.400320   \n",
       "1  67ff3e6bf4cf.wav  1.781602  2.869787  1.852019  2.256710   3.204139   \n",
       "2  6741c3d88006.wav  3.304557  3.737251  4.092661  3.244866   3.618690   \n",
       "3  67c631a6fbfd.wav  3.193850  3.710290  4.136703  2.662462   3.430386   \n",
       "4  671616b12c10.wav  2.525036  4.105721  2.742880  2.955755   3.561888   \n",
       "\n",
       "     model  \n",
       "0  NISQAv2  \n",
       "1  NISQAv2  \n",
       "2  NISQAv2  \n",
       "3  NISQAv2  \n",
       "4  NISQAv2  "
      ]
     },
     "execution_count": 27,
     "metadata": {},
     "output_type": "execute_result"
    }
   ],
   "source": [
    "nis = pd.read_csv(\"NISQA_wavfiles.csv\")\n",
    "nis.head()"
   ]
  },
  {
   "cell_type": "code",
   "execution_count": 28,
   "id": "e148b036-1090-454b-805f-7311b6c4d2b1",
   "metadata": {},
   "outputs": [
    {
     "data": {
      "text/plain": [
       "(903346, 7)"
      ]
     },
     "execution_count": 28,
     "metadata": {},
     "output_type": "execute_result"
    }
   ],
   "source": [
    "nis.shape"
   ]
  },
  {
   "cell_type": "code",
   "execution_count": 29,
   "id": "67989508-8a0f-4c5c-8ff8-7dad2f0e1ad8",
   "metadata": {},
   "outputs": [
    {
     "data": {
      "text/plain": [
       "(603422, 7)"
      ]
     },
     "execution_count": 29,
     "metadata": {},
     "output_type": "execute_result"
    }
   ],
   "source": [
    "nis = nis[nis['mos_pred']>2]\n",
    "nis = nis[nis['noi_pred']>2]\n",
    "nis = nis[nis['col_pred']>2]\n",
    "nis = nis[nis['dis_pred']>2]\n",
    "nis = nis[nis['loud_pred']>2]\n",
    "nis.shape"
   ]
  },
  {
   "cell_type": "code",
   "execution_count": 30,
   "id": "010295cf-8e8c-413f-b778-fcce31884b6f",
   "metadata": {},
   "outputs": [],
   "source": [
    "nis['deg'] = nis['deg'].apply(lambda x:x[:-4]+\".mp3\")"
   ]
  },
  {
   "cell_type": "code",
   "execution_count": 31,
   "id": "26ef703a-8b6d-4139-a366-5bfeee990d04",
   "metadata": {},
   "outputs": [],
   "source": [
    "good = nis['deg'].tolist()"
   ]
  },
  {
   "cell_type": "markdown",
   "id": "80b531bd-0671-40eb-8cfa-60673cf8c1d4",
   "metadata": {},
   "source": [
    "keep only the good data"
   ]
  },
  {
   "cell_type": "code",
   "execution_count": 32,
   "id": "3114b88b-4269-48be-a1b3-12b93a60c3e0",
   "metadata": {},
   "outputs": [
    {
     "data": {
      "text/plain": [
       "(511620, 9)"
      ]
     },
     "execution_count": 32,
     "metadata": {},
     "output_type": "execute_result"
    }
   ],
   "source": [
    "df = df[df['id'].isin(good)]\n",
    "df.shape"
   ]
  },
  {
   "cell_type": "code",
   "execution_count": 33,
   "id": "dd82a211-4920-4a0f-9c39-7233e6d56c45",
   "metadata": {},
   "outputs": [],
   "source": [
    "df = df.sample(frac=1,random_state=42)"
   ]
  },
  {
   "cell_type": "code",
   "execution_count": 34,
   "id": "c369a410-3473-43fd-ad09-5f6ca6e8d4c7",
   "metadata": {},
   "outputs": [],
   "source": [
    "def check_eng(x):\n",
    "    for k in x:\n",
    "        if k in 'abcdefghijklmnopqrstuvwxyz1234567890ABCDEFGHIJKLMNOPQRSTUVWXYZ':\n",
    "            return True\n",
    "    return False\n",
    "\n",
    "df['english_ase'] = df['sentence'].apply(lambda x:check_eng(x))"
   ]
  },
  {
   "cell_type": "code",
   "execution_count": 35,
   "id": "db5754e3-66a5-45e0-adce-116aa721bd2b",
   "metadata": {},
   "outputs": [],
   "source": [
    "val = df.iloc[:1000]\n",
    "train = df.iloc[1000:]"
   ]
  },
  {
   "cell_type": "code",
   "execution_count": 36,
   "id": "1813fc9d",
   "metadata": {
    "papermill": {
     "duration": 0.028963,
     "end_time": "2023-08-13T10:53:19.357739",
     "exception": false,
     "start_time": "2023-08-13T10:53:19.328776",
     "status": "completed"
    },
    "tags": []
   },
   "outputs": [
    {
     "name": "stdout",
     "output_type": "stream",
     "text": [
      "(1000, 10)\n",
      "Hello\n"
     ]
    }
   ],
   "source": [
    "mode = \"debugg\"\n",
    "\n",
    "if mode==\"debug\":\n",
    "    train = train.iloc[:1000]\n",
    "    val = val.iloc[:100]\n",
    "else:\n",
    "    #train = train.iloc[:500000]\n",
    "    print(val.shape)\n",
    "    #val = val.iloc[:20000]\n",
    "    print(\"Hello\")"
   ]
  },
  {
   "cell_type": "markdown",
   "id": "3214bfc5-8b3e-414c-8619-2afe76713788",
   "metadata": {},
   "source": [
    "Add the openslr dataset"
   ]
  },
  {
   "cell_type": "code",
   "execution_count": 37,
   "id": "d1ba6acc-a9ff-4061-aab1-cc8b15f21f97",
   "metadata": {},
   "outputs": [
    {
     "data": {
      "text/plain": [
       "(13758, 3)"
      ]
     },
     "execution_count": 37,
     "metadata": {},
     "output_type": "execute_result"
    }
   ],
   "source": [
    "openslr = pd.read_csv(\"openslr.csv\")\n",
    "openslr.shape\n"
   ]
  },
  {
   "cell_type": "code",
   "execution_count": 38,
   "id": "a2c9ccc0-68f2-4e1b-9620-27e911853d45",
   "metadata": {},
   "outputs": [
    {
     "data": {
      "text/plain": [
       "(510620, 10)"
      ]
     },
     "execution_count": 38,
     "metadata": {},
     "output_type": "execute_result"
    }
   ],
   "source": [
    "train.shape"
   ]
  },
  {
   "cell_type": "code",
   "execution_count": 39,
   "id": "8e45b99a-2216-47f7-9c9b-bb9cdab04384",
   "metadata": {},
   "outputs": [
    {
     "data": {
      "text/html": [
       "<div>\n",
       "<style scoped>\n",
       "    .dataframe tbody tr th:only-of-type {\n",
       "        vertical-align: middle;\n",
       "    }\n",
       "\n",
       "    .dataframe tbody tr th {\n",
       "        vertical-align: top;\n",
       "    }\n",
       "\n",
       "    .dataframe thead th {\n",
       "        text-align: right;\n",
       "    }\n",
       "</style>\n",
       "<table border=\"1\" class=\"dataframe\">\n",
       "  <thead>\n",
       "    <tr style=\"text-align: right;\">\n",
       "      <th></th>\n",
       "      <th>id</th>\n",
       "      <th>sentence</th>\n",
       "      <th>split</th>\n",
       "      <th>length</th>\n",
       "      <th>sen_length</th>\n",
       "      <th>sen_len</th>\n",
       "      <th>ratio</th>\n",
       "      <th>len_s</th>\n",
       "      <th>new_ratio</th>\n",
       "      <th>english_ase</th>\n",
       "    </tr>\n",
       "  </thead>\n",
       "  <tbody>\n",
       "    <tr>\n",
       "      <th>467902</th>\n",
       "      <td>7c3833a0220f.mp3</td>\n",
       "      <td>সেগুলোয় অনায়াসে জিততাম আমি।</td>\n",
       "      <td>train</td>\n",
       "      <td>2.556</td>\n",
       "      <td>4.0</td>\n",
       "      <td>4.0</td>\n",
       "      <td>0.639000</td>\n",
       "      <td>153.36</td>\n",
       "      <td>38.340000</td>\n",
       "      <td>False</td>\n",
       "    </tr>\n",
       "    <tr>\n",
       "      <th>674325</th>\n",
       "      <td>b31934225200.mp3</td>\n",
       "      <td>পদার্থবিদ্যা নিয়ে চিন্তাভাবনাটা পদার্থবিদদের ও...</td>\n",
       "      <td>train</td>\n",
       "      <td>4.500</td>\n",
       "      <td>7.0</td>\n",
       "      <td>7.0</td>\n",
       "      <td>0.642857</td>\n",
       "      <td>270.00</td>\n",
       "      <td>38.571429</td>\n",
       "      <td>False</td>\n",
       "    </tr>\n",
       "    <tr>\n",
       "      <th>887713</th>\n",
       "      <td>ebcc55d9377c.mp3</td>\n",
       "      <td>তিনি বারো ইমামের অন্যতম।</td>\n",
       "      <td>train</td>\n",
       "      <td>1.656</td>\n",
       "      <td>4.0</td>\n",
       "      <td>4.0</td>\n",
       "      <td>0.414000</td>\n",
       "      <td>99.36</td>\n",
       "      <td>24.840000</td>\n",
       "      <td>False</td>\n",
       "    </tr>\n",
       "    <tr>\n",
       "      <th>693203</th>\n",
       "      <td>b81aed315f86.mp3</td>\n",
       "      <td>ফোনটির ডিসপ্লের মধ্যে ও পেছনে দুই জায়গায় ফিঙ্গ...</td>\n",
       "      <td>train</td>\n",
       "      <td>4.536</td>\n",
       "      <td>9.0</td>\n",
       "      <td>9.0</td>\n",
       "      <td>0.504000</td>\n",
       "      <td>272.16</td>\n",
       "      <td>30.240000</td>\n",
       "      <td>False</td>\n",
       "    </tr>\n",
       "    <tr>\n",
       "      <th>785007</th>\n",
       "      <td>d081a1cff657.mp3</td>\n",
       "      <td>কার্যকরী মূলকের নাম থেকেই জৈব যৌগের অণুগুলির ন...</td>\n",
       "      <td>train</td>\n",
       "      <td>5.832</td>\n",
       "      <td>11.0</td>\n",
       "      <td>11.0</td>\n",
       "      <td>0.530182</td>\n",
       "      <td>349.92</td>\n",
       "      <td>31.810909</td>\n",
       "      <td>False</td>\n",
       "    </tr>\n",
       "    <tr>\n",
       "      <th>...</th>\n",
       "      <td>...</td>\n",
       "      <td>...</td>\n",
       "      <td>...</td>\n",
       "      <td>...</td>\n",
       "      <td>...</td>\n",
       "      <td>...</td>\n",
       "      <td>...</td>\n",
       "      <td>...</td>\n",
       "      <td>...</td>\n",
       "      <td>...</td>\n",
       "    </tr>\n",
       "    <tr>\n",
       "      <th>567941</th>\n",
       "      <td>96c8bbb1ddc4.mp3</td>\n",
       "      <td>সখীকেন্দ্রের মাধ্যমে আমরা চেষ্টা করছি আইনি প্র...</td>\n",
       "      <td>train</td>\n",
       "      <td>6.408</td>\n",
       "      <td>12.0</td>\n",
       "      <td>12.0</td>\n",
       "      <td>0.534000</td>\n",
       "      <td>384.48</td>\n",
       "      <td>32.040000</td>\n",
       "      <td>False</td>\n",
       "    </tr>\n",
       "    <tr>\n",
       "      <th>135115</th>\n",
       "      <td>23fd174a6907.mp3</td>\n",
       "      <td>হিসাববিজ্ঞানে ভালো নম্বর পেতে হলে সৃজনশীল ও বহ...</td>\n",
       "      <td>train</td>\n",
       "      <td>5.940</td>\n",
       "      <td>12.0</td>\n",
       "      <td>12.0</td>\n",
       "      <td>0.495000</td>\n",
       "      <td>356.40</td>\n",
       "      <td>29.700000</td>\n",
       "      <td>False</td>\n",
       "    </tr>\n",
       "    <tr>\n",
       "      <th>336419</th>\n",
       "      <td>595a152af43f.mp3</td>\n",
       "      <td>তড়িঘড়ি করে ভালকেকে বরখাস্ত করে আপাতত পরিস্থিতি...</td>\n",
       "      <td>train</td>\n",
       "      <td>5.436</td>\n",
       "      <td>12.0</td>\n",
       "      <td>12.0</td>\n",
       "      <td>0.453000</td>\n",
       "      <td>326.16</td>\n",
       "      <td>27.180000</td>\n",
       "      <td>False</td>\n",
       "    </tr>\n",
       "    <tr>\n",
       "      <th>431537</th>\n",
       "      <td>7293708e9d30.mp3</td>\n",
       "      <td>আমাদের এত কুসংস্কার ও কুপ্রথা যে, আমরা ইংরেজের...</td>\n",
       "      <td>train</td>\n",
       "      <td>5.148</td>\n",
       "      <td>12.0</td>\n",
       "      <td>12.0</td>\n",
       "      <td>0.429000</td>\n",
       "      <td>308.88</td>\n",
       "      <td>25.740000</td>\n",
       "      <td>False</td>\n",
       "    </tr>\n",
       "    <tr>\n",
       "      <th>709412</th>\n",
       "      <td>bc664caec15b.mp3</td>\n",
       "      <td>এখানে নিক্তিতে বিচার করে কোনটা ন্যায়, কোনটা অন...</td>\n",
       "      <td>train</td>\n",
       "      <td>4.788</td>\n",
       "      <td>12.0</td>\n",
       "      <td>12.0</td>\n",
       "      <td>0.399000</td>\n",
       "      <td>287.28</td>\n",
       "      <td>23.940000</td>\n",
       "      <td>False</td>\n",
       "    </tr>\n",
       "  </tbody>\n",
       "</table>\n",
       "<p>524378 rows × 10 columns</p>\n",
       "</div>"
      ],
      "text/plain": [
       "                      id                                           sentence  \\\n",
       "467902  7c3833a0220f.mp3                        সেগুলোয় অনায়াসে জিততাম আমি।   \n",
       "674325  b31934225200.mp3  পদার্থবিদ্যা নিয়ে চিন্তাভাবনাটা পদার্থবিদদের ও...   \n",
       "887713  ebcc55d9377c.mp3                           তিনি বারো ইমামের অন্যতম।   \n",
       "693203  b81aed315f86.mp3  ফোনটির ডিসপ্লের মধ্যে ও পেছনে দুই জায়গায় ফিঙ্গ...   \n",
       "785007  d081a1cff657.mp3  কার্যকরী মূলকের নাম থেকেই জৈব যৌগের অণুগুলির ন...   \n",
       "...                  ...                                                ...   \n",
       "567941  96c8bbb1ddc4.mp3  সখীকেন্দ্রের মাধ্যমে আমরা চেষ্টা করছি আইনি প্র...   \n",
       "135115  23fd174a6907.mp3  হিসাববিজ্ঞানে ভালো নম্বর পেতে হলে সৃজনশীল ও বহ...   \n",
       "336419  595a152af43f.mp3  তড়িঘড়ি করে ভালকেকে বরখাস্ত করে আপাতত পরিস্থিতি...   \n",
       "431537  7293708e9d30.mp3  আমাদের এত কুসংস্কার ও কুপ্রথা যে, আমরা ইংরেজের...   \n",
       "709412  bc664caec15b.mp3  এখানে নিক্তিতে বিচার করে কোনটা ন্যায়, কোনটা অন...   \n",
       "\n",
       "        split  length  sen_length  sen_len     ratio   len_s  new_ratio  \\\n",
       "467902  train   2.556         4.0      4.0  0.639000  153.36  38.340000   \n",
       "674325  train   4.500         7.0      7.0  0.642857  270.00  38.571429   \n",
       "887713  train   1.656         4.0      4.0  0.414000   99.36  24.840000   \n",
       "693203  train   4.536         9.0      9.0  0.504000  272.16  30.240000   \n",
       "785007  train   5.832        11.0     11.0  0.530182  349.92  31.810909   \n",
       "...       ...     ...         ...      ...       ...     ...        ...   \n",
       "567941  train   6.408        12.0     12.0  0.534000  384.48  32.040000   \n",
       "135115  train   5.940        12.0     12.0  0.495000  356.40  29.700000   \n",
       "336419  train   5.436        12.0     12.0  0.453000  326.16  27.180000   \n",
       "431537  train   5.148        12.0     12.0  0.429000  308.88  25.740000   \n",
       "709412  train   4.788        12.0     12.0  0.399000  287.28  23.940000   \n",
       "\n",
       "       english_ase  \n",
       "467902       False  \n",
       "674325       False  \n",
       "887713       False  \n",
       "693203       False  \n",
       "785007       False  \n",
       "...            ...  \n",
       "567941       False  \n",
       "135115       False  \n",
       "336419       False  \n",
       "431537       False  \n",
       "709412       False  \n",
       "\n",
       "[524378 rows x 10 columns]"
      ]
     },
     "execution_count": 39,
     "metadata": {},
     "output_type": "execute_result"
    }
   ],
   "source": [
    "tr = pd.concat([train,openslr])\n",
    "tr = tr.sample(frac=1,random_state=42)\n",
    "tr"
   ]
  },
  {
   "cell_type": "code",
   "execution_count": 40,
   "id": "2b5b3780-8603-4550-aa46-c8632bff3911",
   "metadata": {},
   "outputs": [],
   "source": [
    "#train = tr"
   ]
  },
  {
   "cell_type": "code",
   "execution_count": 41,
   "id": "78faee6d-378f-4015-a5d4-801359815593",
   "metadata": {},
   "outputs": [
    {
     "data": {
      "text/plain": [
       "(510620, 10)"
      ]
     },
     "execution_count": 41,
     "metadata": {},
     "output_type": "execute_result"
    }
   ],
   "source": [
    "train.shape"
   ]
  },
  {
   "cell_type": "code",
   "execution_count": 43,
   "id": "a99988a9-ca3d-495c-bfb0-8de601221c31",
   "metadata": {},
   "outputs": [
    {
     "data": {
      "text/html": [
       "<div>\n",
       "<style scoped>\n",
       "    .dataframe tbody tr th:only-of-type {\n",
       "        vertical-align: middle;\n",
       "    }\n",
       "\n",
       "    .dataframe tbody tr th {\n",
       "        vertical-align: top;\n",
       "    }\n",
       "\n",
       "    .dataframe thead th {\n",
       "        text-align: right;\n",
       "    }\n",
       "</style>\n",
       "<table border=\"1\" class=\"dataframe\">\n",
       "  <thead>\n",
       "    <tr style=\"text-align: right;\">\n",
       "      <th></th>\n",
       "      <th>id</th>\n",
       "      <th>sentence</th>\n",
       "    </tr>\n",
       "  </thead>\n",
       "  <tbody>\n",
       "    <tr>\n",
       "      <th>891053</th>\n",
       "      <td>ecb1bd78a563.mp3</td>\n",
       "      <td>বেশির ভাগ শিক্ষার্থী ভর্তি হচ্ছে একাদশ শ্রেণীর...</td>\n",
       "    </tr>\n",
       "    <tr>\n",
       "      <th>193606</th>\n",
       "      <td>33701e9a00eb.mp3</td>\n",
       "      <td>সড়ক ছেড়ে তারা ডান-বাম দিক দিয়ে এবং নৌবাহিনী...</td>\n",
       "    </tr>\n",
       "    <tr>\n",
       "      <th>859261</th>\n",
       "      <td>e43d99bffef4.mp3</td>\n",
       "      <td>যাঁরা দমন করার কর্তা, তাঁদের কাছে নিবেদন, আপনা...</td>\n",
       "    </tr>\n",
       "    <tr>\n",
       "      <th>4363</th>\n",
       "      <td>01272438083a.mp3</td>\n",
       "      <td>বাংলাদেশী ক্রিকেট খেলোয়াড়দের মধ্যে তিনিই প্র...</td>\n",
       "    </tr>\n",
       "    <tr>\n",
       "      <th>612531</th>\n",
       "      <td>a295f3b28412.mp3</td>\n",
       "      <td>সেটির একটা কারণ হতে পারে, অধিনায়কত্বের সঙ্গে ত...</td>\n",
       "    </tr>\n",
       "  </tbody>\n",
       "</table>\n",
       "</div>"
      ],
      "text/plain": [
       "                      id                                           sentence\n",
       "891053  ecb1bd78a563.mp3  বেশির ভাগ শিক্ষার্থী ভর্তি হচ্ছে একাদশ শ্রেণীর...\n",
       "193606  33701e9a00eb.mp3  সড়ক ছেড়ে তারা ডান-বাম দিক দিয়ে এবং নৌবাহিনী...\n",
       "859261  e43d99bffef4.mp3  যাঁরা দমন করার কর্তা, তাঁদের কাছে নিবেদন, আপনা...\n",
       "4363    01272438083a.mp3  বাংলাদেশী ক্রিকেট খেলোয়াড়দের মধ্যে তিনিই প্র...\n",
       "612531  a295f3b28412.mp3  সেটির একটা কারণ হতে পারে, অধিনায়কত্বের সঙ্গে ত..."
      ]
     },
     "execution_count": 43,
     "metadata": {},
     "output_type": "execute_result"
    }
   ],
   "source": [
    "comp = train[[\"id\",\"sentence\"]]\n",
    "comp.head()"
   ]
  },
  {
   "cell_type": "code",
   "execution_count": 44,
   "id": "04c7cf64-dbd8-474c-b29d-dedafdc27074",
   "metadata": {},
   "outputs": [
    {
     "name": "stderr",
     "output_type": "stream",
     "text": [
      "100%|██████████| 218703/218703 [00:00<00:00, 2883252.77it/s]\n"
     ]
    },
    {
     "data": {
      "text/plain": [
       "(['000020a912.mp3',\n",
       "  '000039928e.mp3',\n",
       "  '00005debc7.mp3',\n",
       "  '00009e687c.mp3',\n",
       "  '00012843bc.mp3'],\n",
       " ['বাংলাদেশে দায়িত্ব নেবে',\n",
       "  'এ ধরণের কার্ড নিয়ে',\n",
       "  'হতে উপার্জিত অর্থ',\n",
       "  'হাসির বিষয় হয়েই আছে',\n",
       "  'সার্ক দেশগুলোতে'])"
      ]
     },
     "execution_count": 44,
     "metadata": {},
     "output_type": "execute_result"
    }
   ],
   "source": [
    "ids = []\n",
    "sens = []\n",
    "with open(\"utt_spk_text.tsv\") as f:\n",
    "    lines = f.readlines()\n",
    "\n",
    "    for line in tqdm(lines):\n",
    "        line = line.split(\"\\t\")\n",
    "        ids.append(line[0]+\".mp3\")\n",
    "        sens.append(line[2][:-1])\n",
    "ids[:5],sens[:5]"
   ]
  },
  {
   "cell_type": "code",
   "execution_count": 45,
   "id": "1084b15c-ce3f-44b5-9f7e-145e07559d83",
   "metadata": {},
   "outputs": [
    {
     "data": {
      "text/html": [
       "<div>\n",
       "<style scoped>\n",
       "    .dataframe tbody tr th:only-of-type {\n",
       "        vertical-align: middle;\n",
       "    }\n",
       "\n",
       "    .dataframe tbody tr th {\n",
       "        vertical-align: top;\n",
       "    }\n",
       "\n",
       "    .dataframe thead th {\n",
       "        text-align: right;\n",
       "    }\n",
       "</style>\n",
       "<table border=\"1\" class=\"dataframe\">\n",
       "  <thead>\n",
       "    <tr style=\"text-align: right;\">\n",
       "      <th></th>\n",
       "      <th>id</th>\n",
       "      <th>sentence</th>\n",
       "    </tr>\n",
       "  </thead>\n",
       "  <tbody>\n",
       "    <tr>\n",
       "      <th>0</th>\n",
       "      <td>000020a912.mp3</td>\n",
       "      <td>বাংলাদেশে দায়িত্ব নেবে</td>\n",
       "    </tr>\n",
       "    <tr>\n",
       "      <th>1</th>\n",
       "      <td>000039928e.mp3</td>\n",
       "      <td>এ ধরণের কার্ড নিয়ে</td>\n",
       "    </tr>\n",
       "    <tr>\n",
       "      <th>2</th>\n",
       "      <td>00005debc7.mp3</td>\n",
       "      <td>হতে উপার্জিত অর্থ</td>\n",
       "    </tr>\n",
       "    <tr>\n",
       "      <th>3</th>\n",
       "      <td>00009e687c.mp3</td>\n",
       "      <td>হাসির বিষয় হয়েই আছে</td>\n",
       "    </tr>\n",
       "    <tr>\n",
       "      <th>4</th>\n",
       "      <td>00012843bc.mp3</td>\n",
       "      <td>সার্ক দেশগুলোতে</td>\n",
       "    </tr>\n",
       "  </tbody>\n",
       "</table>\n",
       "</div>"
      ],
      "text/plain": [
       "               id                 sentence\n",
       "0  000020a912.mp3  বাংলাদেশে দায়িত্ব নেবে\n",
       "1  000039928e.mp3      এ ধরণের কার্ড নিয়ে\n",
       "2  00005debc7.mp3        হতে উপার্জিত অর্থ\n",
       "3  00009e687c.mp3    হাসির বিষয় হয়েই আছে\n",
       "4  00012843bc.mp3          সার্ক দেশগুলোতে"
      ]
     },
     "execution_count": 45,
     "metadata": {},
     "output_type": "execute_result"
    }
   ],
   "source": [
    "openslr = pd.DataFrame({\"id\":ids,\"sentence\":sens})\n",
    "openslr.head()"
   ]
  },
  {
   "cell_type": "code",
   "execution_count": 46,
   "id": "f526537f-d07e-4203-88fb-377cd56df1be",
   "metadata": {},
   "outputs": [
    {
     "data": {
      "text/plain": [
       "(153600, 3)"
      ]
     },
     "execution_count": 46,
     "metadata": {},
     "output_type": "execute_result"
    }
   ],
   "source": [
    "openslr['len'] = openslr['sentence'].apply(lambda x: len(x.split(\" \")))\n",
    "openslr = openslr[openslr['len']>=3]\n",
    "openslr.shape"
   ]
  },
  {
   "cell_type": "code",
   "execution_count": 47,
   "id": "9b3445ad-da5f-412e-a89b-bf60fbad1986",
   "metadata": {},
   "outputs": [
    {
     "data": {
      "text/html": [
       "<div>\n",
       "<style scoped>\n",
       "    .dataframe tbody tr th:only-of-type {\n",
       "        vertical-align: middle;\n",
       "    }\n",
       "\n",
       "    .dataframe tbody tr th {\n",
       "        vertical-align: top;\n",
       "    }\n",
       "\n",
       "    .dataframe thead th {\n",
       "        text-align: right;\n",
       "    }\n",
       "</style>\n",
       "<table border=\"1\" class=\"dataframe\">\n",
       "  <thead>\n",
       "    <tr style=\"text-align: right;\">\n",
       "      <th></th>\n",
       "      <th>id</th>\n",
       "      <th>sentence</th>\n",
       "    </tr>\n",
       "  </thead>\n",
       "  <tbody>\n",
       "    <tr>\n",
       "      <th>0</th>\n",
       "      <td>000020a912.mp3</td>\n",
       "      <td>বাংলাদেশে দায়িত্ব নেবে</td>\n",
       "    </tr>\n",
       "    <tr>\n",
       "      <th>1</th>\n",
       "      <td>000039928e.mp3</td>\n",
       "      <td>এ ধরণের কার্ড নিয়ে</td>\n",
       "    </tr>\n",
       "    <tr>\n",
       "      <th>2</th>\n",
       "      <td>00005debc7.mp3</td>\n",
       "      <td>হতে উপার্জিত অর্থ</td>\n",
       "    </tr>\n",
       "    <tr>\n",
       "      <th>3</th>\n",
       "      <td>00009e687c.mp3</td>\n",
       "      <td>হাসির বিষয় হয়েই আছে</td>\n",
       "    </tr>\n",
       "    <tr>\n",
       "      <th>5</th>\n",
       "      <td>00012880b1.mp3</td>\n",
       "      <td>সহজেই যাওয়া যায়</td>\n",
       "    </tr>\n",
       "  </tbody>\n",
       "</table>\n",
       "</div>"
      ],
      "text/plain": [
       "               id                 sentence\n",
       "0  000020a912.mp3  বাংলাদেশে দায়িত্ব নেবে\n",
       "1  000039928e.mp3      এ ধরণের কার্ড নিয়ে\n",
       "2  00005debc7.mp3        হতে উপার্জিত অর্থ\n",
       "3  00009e687c.mp3    হাসির বিষয় হয়েই আছে\n",
       "5  00012880b1.mp3        সহজেই যাওয়া যায়"
      ]
     },
     "execution_count": 47,
     "metadata": {},
     "output_type": "execute_result"
    }
   ],
   "source": [
    "openslr = openslr[[\"id\",\"sentence\"]]\n",
    "openslr.head()"
   ]
  },
  {
   "cell_type": "code",
   "execution_count": 48,
   "id": "be72eb51-4430-450e-b339-fafa1d8b1743",
   "metadata": {},
   "outputs": [
    {
     "data": {
      "text/plain": [
       "(664220, 2)"
      ]
     },
     "execution_count": 48,
     "metadata": {},
     "output_type": "execute_result"
    }
   ],
   "source": [
    "train = pd.concat([comp,openslr])\n",
    "train.shape"
   ]
  },
  {
   "cell_type": "code",
   "execution_count": 49,
   "id": "7058d955-1ffa-489e-829f-fcc4de5f27ec",
   "metadata": {},
   "outputs": [
    {
     "data": {
      "text/html": [
       "<div>\n",
       "<style scoped>\n",
       "    .dataframe tbody tr th:only-of-type {\n",
       "        vertical-align: middle;\n",
       "    }\n",
       "\n",
       "    .dataframe tbody tr th {\n",
       "        vertical-align: top;\n",
       "    }\n",
       "\n",
       "    .dataframe thead th {\n",
       "        text-align: right;\n",
       "    }\n",
       "</style>\n",
       "<table border=\"1\" class=\"dataframe\">\n",
       "  <thead>\n",
       "    <tr style=\"text-align: right;\">\n",
       "      <th></th>\n",
       "      <th>id</th>\n",
       "      <th>sentence</th>\n",
       "    </tr>\n",
       "  </thead>\n",
       "  <tbody>\n",
       "    <tr>\n",
       "      <th>891053</th>\n",
       "      <td>ecb1bd78a563.mp3</td>\n",
       "      <td>বেশির ভাগ শিক্ষার্থী ভর্তি হচ্ছে একাদশ শ্রেণীর...</td>\n",
       "    </tr>\n",
       "    <tr>\n",
       "      <th>193606</th>\n",
       "      <td>33701e9a00eb.mp3</td>\n",
       "      <td>সড়ক ছেড়ে তারা ডান-বাম দিক দিয়ে এবং নৌবাহিনী...</td>\n",
       "    </tr>\n",
       "    <tr>\n",
       "      <th>859261</th>\n",
       "      <td>e43d99bffef4.mp3</td>\n",
       "      <td>যাঁরা দমন করার কর্তা, তাঁদের কাছে নিবেদন, আপনা...</td>\n",
       "    </tr>\n",
       "    <tr>\n",
       "      <th>4363</th>\n",
       "      <td>01272438083a.mp3</td>\n",
       "      <td>বাংলাদেশী ক্রিকেট খেলোয়াড়দের মধ্যে তিনিই প্র...</td>\n",
       "    </tr>\n",
       "    <tr>\n",
       "      <th>612531</th>\n",
       "      <td>a295f3b28412.mp3</td>\n",
       "      <td>সেটির একটা কারণ হতে পারে, অধিনায়কত্বের সঙ্গে ত...</td>\n",
       "    </tr>\n",
       "  </tbody>\n",
       "</table>\n",
       "</div>"
      ],
      "text/plain": [
       "                      id                                           sentence\n",
       "891053  ecb1bd78a563.mp3  বেশির ভাগ শিক্ষার্থী ভর্তি হচ্ছে একাদশ শ্রেণীর...\n",
       "193606  33701e9a00eb.mp3  সড়ক ছেড়ে তারা ডান-বাম দিক দিয়ে এবং নৌবাহিনী...\n",
       "859261  e43d99bffef4.mp3  যাঁরা দমন করার কর্তা, তাঁদের কাছে নিবেদন, আপনা...\n",
       "4363    01272438083a.mp3  বাংলাদেশী ক্রিকেট খেলোয়াড়দের মধ্যে তিনিই প্র...\n",
       "612531  a295f3b28412.mp3  সেটির একটা কারণ হতে পারে, অধিনায়কত্বের সঙ্গে ত..."
      ]
     },
     "execution_count": 49,
     "metadata": {},
     "output_type": "execute_result"
    }
   ],
   "source": [
    "train.head()"
   ]
  },
  {
   "cell_type": "code",
   "execution_count": 50,
   "id": "eb2bef13-6d73-4408-a6eb-2087a4e86aa2",
   "metadata": {},
   "outputs": [
    {
     "data": {
      "text/plain": [
       "(664220, 2)"
      ]
     },
     "execution_count": 50,
     "metadata": {},
     "output_type": "execute_result"
    }
   ],
   "source": [
    "train.shape"
   ]
  },
  {
   "cell_type": "code",
   "execution_count": 51,
   "id": "b7b32030-58dd-4eb5-bfe6-5bb294818a63",
   "metadata": {},
   "outputs": [],
   "source": [
    "train.to_csv(\"train.csv\")"
   ]
  },
  {
   "cell_type": "code",
   "execution_count": 52,
   "id": "d4361e2f-33a3-4e04-8cb6-9c31a46f11e0",
   "metadata": {},
   "outputs": [],
   "source": [
    "val = pd.read_csv(\"val.csv\")"
   ]
  },
  {
   "cell_type": "code",
   "execution_count": 53,
   "id": "4571d1fc-55fb-406d-871b-48f7ffbd6c8e",
   "metadata": {},
   "outputs": [
    {
     "data": {
      "text/plain": [
       "(1000, 10)"
      ]
     },
     "execution_count": 53,
     "metadata": {},
     "output_type": "execute_result"
    }
   ],
   "source": [
    "val.shape"
   ]
  },
  {
   "cell_type": "code",
   "execution_count": 54,
   "id": "72b96055-4d06-4ca4-8807-8eee27c9a956",
   "metadata": {},
   "outputs": [
    {
     "data": {
      "text/plain": [
       "(664220, 3)"
      ]
     },
     "execution_count": 54,
     "metadata": {},
     "output_type": "execute_result"
    }
   ],
   "source": [
    "train = pd.read_csv(\"train.csv\")\n",
    "train.shape"
   ]
  },
  {
   "cell_type": "code",
   "execution_count": 55,
   "id": "aea23a20-3366-4e1d-baa2-576de5e54390",
   "metadata": {},
   "outputs": [],
   "source": [
    "train = train[[\"id\",\"sentence\"]]"
   ]
  },
  {
   "cell_type": "code",
   "execution_count": 56,
   "id": "54a26b64-e9fd-4aba-b459-7e77c1ec3088",
   "metadata": {},
   "outputs": [
    {
     "data": {
      "text/plain": [
       "(664220, 2)"
      ]
     },
     "execution_count": 56,
     "metadata": {},
     "output_type": "execute_result"
    }
   ],
   "source": [
    "train.shape"
   ]
  },
  {
   "cell_type": "code",
   "execution_count": 57,
   "id": "05e654a1-86e9-483e-b46f-4f4e134fb88c",
   "metadata": {},
   "outputs": [],
   "source": [
    "train.to_csv(\"train.csv\",index=False)"
   ]
  },
  {
   "cell_type": "code",
   "execution_count": 58,
   "id": "c92eb307-049f-4672-9872-b0e4fb87cb50",
   "metadata": {},
   "outputs": [
    {
     "name": "stdout",
     "output_type": "stream",
     "text": [
      "              total        used        free      shared  buff/cache   available\n",
      "Mem:           31Gi       5.0Gi        22Gi        16Mi       3.9Gi        25Gi\n",
      "Swap:         2.0Gi          0B       2.0Gi\n"
     ]
    }
   ],
   "source": [
    "!free -h"
   ]
  },
  {
   "cell_type": "code",
   "execution_count": 59,
   "id": "c0d106ed-1709-4cf1-a648-2dbc1fe4fe04",
   "metadata": {},
   "outputs": [
    {
     "name": "stdout",
     "output_type": "stream",
     "text": [
      "Fri Nov 17 15:45:56 2023       \n",
      "+-----------------------------------------------------------------------------+\n",
      "| NVIDIA-SMI 525.147.05   Driver Version: 525.147.05   CUDA Version: 12.0     |\n",
      "|-------------------------------+----------------------+----------------------+\n",
      "| GPU  Name        Persistence-M| Bus-Id        Disp.A | Volatile Uncorr. ECC |\n",
      "| Fan  Temp  Perf  Pwr:Usage/Cap|         Memory-Usage | GPU-Util  Compute M. |\n",
      "|                               |                      |               MIG M. |\n",
      "|===============================+======================+======================|\n",
      "|   0  NVIDIA RTX A4500    Off  | 00000000:01:00.0 Off |                  Off |\n",
      "| 30%   29C    P8    16W / 200W |     18MiB / 20470MiB |      0%      Default |\n",
      "|                               |                      |                  N/A |\n",
      "+-------------------------------+----------------------+----------------------+\n",
      "                                                                               \n",
      "+-----------------------------------------------------------------------------+\n",
      "| Processes:                                                                  |\n",
      "|  GPU   GI   CI        PID   Type   Process name                  GPU Memory |\n",
      "|        ID   ID                                                   Usage      |\n",
      "|=============================================================================|\n",
      "+-----------------------------------------------------------------------------+\n"
     ]
    }
   ],
   "source": [
    "!nvidia-smi"
   ]
  },
  {
   "cell_type": "code",
   "execution_count": 86,
   "id": "6051d789",
   "metadata": {
    "papermill": {
     "duration": 0.09564,
     "end_time": "2023-08-13T10:53:19.844479",
     "exception": false,
     "start_time": "2023-08-13T10:53:19.748839",
     "status": "completed"
    },
    "tags": []
   },
   "outputs": [
    {
     "name": "stderr",
     "output_type": "stream",
     "text": [
      "Using the `WANDB_DISABLED` environment variable is deprecated and will be removed in v5. Use the --report_to flag to control the integrations used for logging result (for instance --report_to none).\n"
     ]
    }
   ],
   "source": [
    "# Training config class.\n",
    "class Config:\n",
    "    # Path to audio data directories. Change to directory containing pre-converted and\n",
    "    # resampled wav files if available, along with audio_ext.\n",
    "    train_path = \"full_data/train_mp3s/\"\n",
    "    valid_path = \"full_data/train_mp3s/\"\n",
    "    audio_ext = \"mp3\"\n",
    "    sample_rate = 16000\n",
    "    \n",
    "    # Path to csv metadata files.\n",
    "    train_csv_path = \"train.csv\"\n",
    "    valid_csv_path = \"val.csv\"\n",
    "    \n",
    "    # Directory where language models are written to.\n",
    "    language_model_dir = \"langauge_models\"\n",
    "\n",
    "    # If True, enables all audio augmentations.\n",
    "    use_augmentation = False\n",
    "    \n",
    "    # Dropout configs for pretrained wav2vec2 model.\n",
    "    attention_dropout=0.05\n",
    "    hidden_dropout=0.05\n",
    "    feat_proj_dropout=0.05\n",
    "    mask_time_prob=0.05\n",
    "    layerdrop=0.1\n",
    "        \n",
    "    # Early stopping.\n",
    "    early_stopping_patience = 20\n",
    "\n",
    "    # Trainer arugments.\n",
    "    trainer = TrainingArguments(\n",
    "      output_dir=\"run-003-wav2vec2-fulldata-cosine-lr3e-5\",\n",
    "      group_by_length=False,\n",
    "      per_device_train_batch_size=16,\n",
    "      per_device_eval_batch_size=16,\n",
    "      gradient_accumulation_steps=1,\n",
    "      eval_accumulation_steps = 300,\n",
    "      evaluation_strategy=\"steps\",\n",
    "      num_train_epochs=5,\n",
    "      gradient_checkpointing=True,\n",
    "      fp16=True,\n",
    "      save_steps=10000,\n",
    "      eval_steps=10000,\n",
    "      logging_steps=10000,\n",
    "      learning_rate=3e-5,\n",
    "      weight_decay = 0.00025,\n",
    "      #dataloader_num_workers=os.cpu_count()//3,\n",
    "      warmup_steps=5000,\n",
    "      save_total_limit=2,\n",
    "      push_to_hub=False,\n",
    "      load_best_model_at_end=True,\n",
    "      #auto_find_batch_size=True,\n",
    "      prediction_loss_only=False,\n",
    "      lr_scheduler_type=\"cosine\",\n",
    "      greater_is_better=False,\n",
    "      resume_from_checkpoint=True,\n",
    "    )"
   ]
  },
  {
   "cell_type": "code",
   "execution_count": 87,
   "id": "133c7890",
   "metadata": {
    "papermill": {
     "duration": 0.027466,
     "end_time": "2023-08-13T10:53:19.950055",
     "exception": false,
     "start_time": "2023-08-13T10:53:19.922589",
     "status": "completed"
    },
    "tags": []
   },
   "outputs": [],
   "source": [
    "skipFiles = []"
   ]
  },
  {
   "cell_type": "markdown",
   "id": "c8fc0913",
   "metadata": {
    "papermill": {
     "duration": 0.01912,
     "end_time": "2023-08-13T10:53:19.991352",
     "exception": false,
     "start_time": "2023-08-13T10:53:19.972232",
     "status": "completed"
    },
    "tags": []
   },
   "source": [
    "<a id=\"3\"></a> <br>\n",
    "## Function Definitions"
   ]
  },
  {
   "cell_type": "markdown",
   "id": "ebde1522",
   "metadata": {
    "papermill": {
     "duration": 0.019159,
     "end_time": "2023-08-13T10:53:20.029922",
     "exception": false,
     "start_time": "2023-08-13T10:53:20.010763",
     "status": "completed"
    },
    "tags": []
   },
   "source": [
    "<a id=\"3-1\"></a> <br>\n",
    "### Functions for filter and normalizing dataset"
   ]
  },
  {
   "cell_type": "code",
   "execution_count": 88,
   "id": "24dc1408",
   "metadata": {
    "papermill": {
     "duration": 0.036418,
     "end_time": "2023-08-13T10:53:20.085674",
     "exception": false,
     "start_time": "2023-08-13T10:53:20.049256",
     "status": "completed"
    },
    "tags": []
   },
   "outputs": [],
   "source": [
    "def filterVotes(x: pd.Series):\n",
    "    \"\"\"\n",
    "    This function returns whether x should be filtered based on\n",
    "    the ratio of up to down votes. if it should be filtered, the\n",
    "    function returns None, otherwise 1. We later use panda's dropna()\n",
    "    method to drop rows containng None.\n",
    "    \"\"\"\n",
    "    up = x[\"up_votes\"]\n",
    "    down = x[\"down_votes\"]\n",
    "    if down > 0 and up / down < 1:\n",
    "        return None\n",
    "    return 1\n",
    "\n",
    "# Regex for matching zero witdh joiner variations.\n",
    "STANDARDIZE_ZW = re.compile(r'(?<=\\u09b0)[\\u200c\\u200d]+(?=\\u09cd\\u09af)')\n",
    "\n",
    "# Regex for removing standardized zero width joiner, except in edge cases.\n",
    "DELETE_ZW = re.compile(r'(?<!\\u09b0)[\\u200c\\u200d](?!\\u09cd\\u09af)')\n",
    "\n",
    "# Regex matching punctuations to remove.\n",
    "PUNC = re.compile(r'([\\?\\.।;:-_|*#,!\"\\'])')\n",
    "\n",
    "def removeOptionalZW(text):\n",
    "    \"\"\"\n",
    "    Removes all optional occurrences of ZWNJ or ZWJ from Bangla text.\n",
    "    \"\"\"\n",
    "    text = STANDARDIZE_ZW.sub('\\u200D', text)\n",
    "    text = DELETE_ZW.sub('', text)\n",
    "    return text\n",
    "\n",
    "def removePunc(text):\n",
    "    \"\"\"\n",
    "    Remove for punctuations from text.\n",
    "    \"\"\"\n",
    "    text = PUNC.sub(r\" \", text)\n",
    "    text = \" \".join(text.split())\n",
    "    return text\n",
    "\n",
    "def normalizeUnicode(text, normalize_nukta=True):\n",
    "    \"\"\"\n",
    "    Normalizes unicode strings using the Normalization Form Canonical\n",
    "    Composition (NFC) scheme where we first decompose all characters and then\n",
    "    re-compose combining sequences in a specific order as defined by the\n",
    "    standard in unicodedata module. Finally all zero-width joiners are\n",
    "    removed.\n",
    "    \"\"\"\n",
    "    if normalize_nukta:\n",
    "        words = [ bnorm(word)['normalized']  for word in text.split() ]\n",
    "        text = \" \".join([word for word in words if word is not None])\n",
    "        text = text.replace(\"\\u2047\", \"-\")\n",
    "\n",
    "    text = text.replace(u\"\\u098c\", u\"\\u09ef\")\n",
    "    text = unicodedata.normalize(\"NFC\", text)\n",
    "    text = removeOptionalZW(text)\n",
    "    text = removePunc(text)\n",
    "\n",
    "    return text"
   ]
  },
  {
   "cell_type": "markdown",
   "id": "b22e16ae",
   "metadata": {
    "papermill": {
     "duration": 0.019155,
     "end_time": "2023-08-13T10:53:20.124334",
     "exception": false,
     "start_time": "2023-08-13T10:53:20.105179",
     "status": "completed"
    },
    "tags": []
   },
   "source": [
    "<a id=\"3-2\"></a> <br>\n",
    "### Audio Loader Class and PyTorch Dataset\n",
    "\n",
    "- This class transcodes and augments audio files and can be used with PyTorch dataloaders."
   ]
  },
  {
   "cell_type": "code",
   "execution_count": 89,
   "id": "374adc8e",
   "metadata": {
    "papermill": {
     "duration": 0.076186,
     "end_time": "2023-08-13T10:53:20.219787",
     "exception": false,
     "start_time": "2023-08-13T10:53:20.143601",
     "status": "completed"
    },
    "tags": []
   },
   "outputs": [],
   "source": [
    "class AudioConverter:\n",
    "    \"\"\"\n",
    "    AudioConverter offers methods to load, transcode and augment\n",
    "    audio data in various ways.\n",
    "    \"\"\"\n",
    "\n",
    "    # Configurations for parameters used in torchaudio's resampling kernel.\n",
    "    resampleFilterParams = {\n",
    "        \"fast\": {  # Fast and less accurate but still MSE = ~2e-5 compared to librosa.\n",
    "            \"lowpass_filter_width\": 16,\n",
    "            \"rolloff\": 0.85,\n",
    "            \"resampling_method\": \"kaiser_window\",\n",
    "            \"beta\": 8.555504641634386,\n",
    "        },\n",
    "        \"best\": { # Twice as slow, and a little bit more accburate.\n",
    "            \"lowpass_filter_width\": 64,\n",
    "            \"rolloff\": 0.9475937167399596,\n",
    "            \"resampling_method\": \"kaiser_window\",\n",
    "            \"beta\": 14.769656459379492,       \n",
    "        },\n",
    "    }\n",
    "\n",
    "    def __init__(\n",
    "        self,\n",
    "        sampleRate: int,\n",
    "        disableAug: bool = False,\n",
    "        speedAugProb: float = 0.5,\n",
    "        volAugProb: float = 0.5,\n",
    "        reverbAugProb: float = 0.25,\n",
    "        noiseAugProb: float = 0.25,\n",
    "        speedFactors: Tuple[float, float] = None,\n",
    "        volScaleMinMax: Tuple[float, float] = None,\n",
    "        reverbRoomScaleMinMax: Tuple[float, float] = None,\n",
    "        reverbHFDampingMinMax: Tuple[float, float] = None,\n",
    "        reverbSustainMinMax: Tuple[float, float] = None,\n",
    "        noiseSNRMinMax: Tuple[float, float] = None,\n",
    "        noiseFileList: List[str] = None,\n",
    "    ):\n",
    "        \"\"\"\n",
    "        Initializes AudioConverter.\n",
    "\n",
    "        Parameters\n",
    "        ----------\n",
    "        sampleRate: int\n",
    "            Sampling rate to convert audio to, if required.\n",
    "\n",
    "        disableAug: bool, optional\n",
    "            If True, overrides all other augmentation configs and\n",
    "            disables all augmentatoins.\n",
    "\n",
    "        speedAugProb: float, optional\n",
    "            Probability that speed augmentation will be applied.\n",
    "            If <= 0, speed augmentation is disabled.\n",
    "\n",
    "        volAugProb: float, optional\n",
    "            Probability that volume augmentation will be applied.\n",
    "            If <= 0, volume augmentation is disabled.\n",
    "\n",
    "        reverbAugProb: float, optional\n",
    "            Probability that reverberation augmentation will be applied.\n",
    "            If <= 0, reverberation augmentation is disabled.\n",
    "\n",
    "        noiseAugProb: float, optional\n",
    "            Probability that noise augmentation will be applied.\n",
    "            If <= 0, noise augmentation is disabled.\n",
    "\n",
    "        speedFactors: List[float], optional\n",
    "            List of factors by which to speed up (>1) or slow down (<1)\n",
    "            audio by. One factor is chosen randomly if provided. Otherwise,\n",
    "            default speed factors are [0.9, 1.0, 1.0].\n",
    "            \n",
    "        volScaleMinMax: Tuple[float, float], optional\n",
    "            [Min, Max] range for volume scale factors. One factor is\n",
    "            chose randomly with uniform probability from this range.\n",
    "            Default range is [0.125, 2.0].\n",
    "\n",
    "        reverbRoomScaleMinMax: Tuple[float, float], optional\n",
    "            [Min, Max] range for room size percentage. Values must be\n",
    "            between 0 and 100. Larger room size results in more reverb.\n",
    "            Default range is [25, 75].\n",
    "\n",
    "        reverbHFDampingMinMax: Tuple[float, float], optional\n",
    "            [Min, Max] range for high frequency damping percentage. Values must\n",
    "            be between 0 and 100. More damping results in muffled sound.\n",
    "            Default range is [25, 75].\n",
    "        \n",
    "        reverbSustainMinMax: Tuple[float, float], optional\n",
    "            [Min, Max] range for reverberation sustain percentage. Values must\n",
    "            be between 0 and 100. More sustain results in longer lasting echoes.\n",
    "            Default range is [25, 75].\n",
    "            \n",
    "        noiseSNRMinMax: Tuple[float, float], optional\n",
    "            [Min, Max] range for signal-to-noise ratio when adding noise. One\n",
    "            factor is chose randomly with uniform probability from this range.\n",
    "            Lower SNR results in louder noise. Default range is [10.0, 30.0].\n",
    "\n",
    "        noiseFileList: List[str], optional\n",
    "            List of paths to audio files to use as noise samples. If None is provided,\n",
    "            noise augmentation will be disabled. Otherwise, the audio files will be assumed\n",
    "            to be sources of noise, and be mixed in with speech audio on-the-fly.\n",
    "        \"\"\"\n",
    "        self.sampleRate = sampleRate\n",
    "        \n",
    "        enableAug = not disableAug\n",
    "        self.speedAugProb = speedAugProb if enableAug else -1\n",
    "        self.volAugProb = volAugProb if enableAug else -1\n",
    "        self.reverbAugProb = reverbAugProb if enableAug else -1\n",
    "        self.noiseAugProb = noiseAugProb if enableAug else -1\n",
    "        \n",
    "        # Factors by which audio speed is perturbed.\n",
    "        self.speedFactors = speedFactors\n",
    "        if speedFactors is None:\n",
    "            self.speedFactors = [0.9, 1.0, 1.1]\n",
    "        \n",
    "        # [Min, Max] Volume scale range.\n",
    "        self.volScaleRange = volScaleMinMax\n",
    "        if volScaleMinMax is None:\n",
    "            self.volScaleRange = [0.125, 2.0]\n",
    "        \n",
    "        # [Min, Max] Room size as a percentage, higher = more reverb\n",
    "        self.reverbRoomScaleRange = reverbRoomScaleMinMax\n",
    "        if reverbRoomScaleMinMax is None:\n",
    "            self.reverbRoomScaleRange = [25, 75]\n",
    "        \n",
    "        # [Min, Max] High frequency damping as a percentage, higher = more damping.\n",
    "        self.reverbHFDampingRange = reverbHFDampingMinMax\n",
    "        if reverbHFDampingMinMax is None:\n",
    "            self.reverbHFDampingRange = [25, 75]\n",
    "        \n",
    "        # [Min, Max] How long reverb is sustained as a percentage, higher = lasts longer.\n",
    "        self.reverbSustainRange = reverbSustainMinMax \n",
    "        if reverbSustainMinMax is None:\n",
    "            self.reverbSustainRange = [25, 75]       \n",
    "\n",
    "        # Audio files to use as source of noise.\n",
    "        self.noiseFiles = noiseFileList\n",
    "        if self.noiseFiles is None or len(self.noiseFiles) == 0:\n",
    "            self.noiseAugProb = -1\n",
    "\n",
    "        # [Min, Max] Signal to noise ratio range for adding noise to audio.\n",
    "        # Lower SNR = noise is more prominent, i.e. speech is more noisy.\n",
    "        self.noiseSNRRange = noiseSNRMinMax\n",
    "        if noiseSNRMinMax is None:\n",
    "            self.noiseSNRRange = [10.0, 30.0]\n",
    "        \n",
    "        self.validateConfig()\n",
    "        \n",
    "    def validateConfig(self):\n",
    "        \"\"\"\n",
    "        Checks configured options and raises an error if they\n",
    "        are not consistent with what is expected.\n",
    "        \"\"\"\n",
    "        if len(self.volScaleRange) != 2:\n",
    "            raise ValueError(\"volume scale range must be provided as [min, max]\")\n",
    "        if len(self.reverbRoomScaleRange) != 2:\n",
    "            raise ValueError(\"reverb room scale range must be provided as [min, max]\")\n",
    "        if len(self.reverbHFDampingRange) != 2:\n",
    "            raise ValueError(\"reverb high frequency dampling range must be provided as [min, max]\")\n",
    "        if len(self.reverbSustainRange) != 2:\n",
    "            raise ValueError(\"reverb sustain range must be provided as [min, max]\")\n",
    "        if len(self.noiseSNRRange) != 2:\n",
    "            raise ValueError(\"noise SNR range must be provided as [min, max]\")\n",
    "            \n",
    "        for v in self.reverbRoomScaleRange:\n",
    "            if v > 100 or v < 0:\n",
    "                raise ValueError(\"reverb room scale must be between 0 and 100\")\n",
    "        for v in self.reverbHFDampingRange:\n",
    "            if v > 100 or v < 0:\n",
    "                raise ValueError(\"reverb high frequency dampling must be between 0 and 100\")\n",
    "        for v in self.reverbSustainRange:\n",
    "            if v > 100 or v < 0:\n",
    "                raise ValueError(\"reverb sustain range must be between 0 and 100\")\n",
    "\n",
    "    @classmethod\n",
    "    def loadAudio(\n",
    "        cls, audioPath: str, sampleRate: int = None, returnTensor: bool = True, resampleType: str = \"fast\",\n",
    "    ) -> Union[torch.Tensor, np.ndarray]:\n",
    "        \"\"\"\n",
    "        Uses torchaudio to load and resample (if necessary) audio files and returns\n",
    "        audio samples as either a numpy.float32 array or a torch.Tensor.\n",
    "        \n",
    "        Parameters\n",
    "        ----------\n",
    "        audioPath: str\n",
    "            Path to audio file file (wav / mp3 / flac).\n",
    "        \n",
    "        sampleRate: int, optional\n",
    "            Sampling rate to convert audio to. If None,\n",
    "            audio is not resampled.\n",
    "        \n",
    "        returnTensor: bool, optional\n",
    "            If True, the audio samples are returned as a torch.Tensor.\n",
    "            Otherwise, the samples are returned as a numpy.float32 array.\n",
    "            \n",
    "        resampleType: str, optional\n",
    "            Either \"fast\" or \"best\" - sets the quality of resampling.\n",
    "            \"best\" is twice as slow as \"fast\" but more accurate. \"fast\"\n",
    "            is still comparable to librosa's resampled output though,\n",
    "            in terms of MSE.\n",
    "\n",
    "        Returns\n",
    "        -------\n",
    "        Union[torch.Tensor, np.ndarray]\n",
    "            Audio waveform scaled between +/- 1.0 as either a numpy.float32 array,\n",
    "            or torch.Tensor, with shape (channels, numSamples)\n",
    "        \"\"\"\n",
    "        x, sr = torchaudio.load(audioPath)\n",
    "        if sampleRate is not None or sr != sampleRate:\n",
    "             x = F.resample(x, sr, sampleRate, **cls.resampleFilterParams[resampleType])\n",
    "        \n",
    "        if returnTensor:\n",
    "            return x\n",
    "        \n",
    "        return x.numpy()\n",
    "\n",
    "    def getAudio(self, audioPath: str, returnTensor: bool = False) -> Union[np.ndarray, torch.Tensor]:\n",
    "        \"\"\"\n",
    "        Loads audio from specified path and applies augmentations randomly\n",
    "        on-the-fly. Audio samples scaled between -1.0 and +1.0 are returned\n",
    "        as a numpy.float32 array or torch.Tensor with shape (numSamples,).\n",
    "\n",
    "        Parameters\n",
    "        ----------\n",
    "        audioPath: str\n",
    "            Path to audio file file (wav / mp3 / flac).\n",
    "        \n",
    "        returnTensor: bool, optional\n",
    "            If True, the audio samples are returned as a torch.Tensor.\n",
    "            Otherwise, the samples are returned as a numpy.float32 array.\n",
    "        \n",
    "        Returns\n",
    "        ------- \n",
    "        Union[torch.Tensor, np.ndarray]\n",
    "            Audio waveform scaled between +/- 1.0 as either a numpy.float32 array,\n",
    "            or torch.Tensor, with shape (channels, numSamples)\n",
    "        \"\"\"\n",
    "        wav = self.loadAudio(\n",
    "            audioPath, sampleRate=self.sampleRate, returnTensor=True, resampleType=\"best\",\n",
    "        )\n",
    "\n",
    "        # Applying sox-based effects first.\n",
    "        effects = []\n",
    "        \n",
    "        if random.uniform(0, 1) <= self.speedAugProb:\n",
    "            effects.extend([\n",
    "                [\"speed\", f\"{random.choice(self.speedFactors)}\"],\n",
    "                [\"rate\", f\"{self.sampleRate}\"],\n",
    "            ])\n",
    "\n",
    "        if random.uniform(0, 1) <= self.reverbAugProb:\n",
    "            effects.append([\n",
    "                \"reverb\",\n",
    "                f\"{random.uniform(*self.reverbSustainRange)}\",\n",
    "                f\"{random.uniform(*self.reverbHFDampingRange)}\",\n",
    "                f\"{random.uniform(*self.reverbRoomScaleRange)}\",\n",
    "            ])\n",
    "        \n",
    "        # If no effects are selected, this is a no-op.\n",
    "        wav = self.applySoxEffects(wav, effects)\n",
    "\n",
    "        if random.uniform(0, 1) <= self.noiseAugProb:\n",
    "            noiseFile = random.choice(self.noiseFiles)\n",
    "            noiseSNR = random.uniform(*self.noiseSNRRange)\n",
    "            wav = self.addNoiseFromFile(wav, noiseFile, noiseSNR)\n",
    "\n",
    "        if random.uniform(0, 1) <= self.volAugProb:\n",
    "            volScale = random.uniform(*self.volScaleRange)\n",
    "            wav = self.scaleVolume(wav, volScale)\n",
    "        \n",
    "        if returnTensor:\n",
    "            return wav\n",
    "        \n",
    "        return wav.numpy()\n",
    "\n",
    "\n",
    "    def scaleVolume(self, wav: Union[np.ndarray, torch.Tensor], scale: float) -> torch.Tensor:\n",
    "        \"\"\"\n",
    "        Scales the amplitude (with clipping) of the provided audio signal\n",
    "        by the given scale factor.\n",
    "        \n",
    "        Parameters\n",
    "        ----------\n",
    "        wav: Union[np.ndarray, torch.Tensor]\n",
    "             Audio samples scaled between -1.0 and +1.0, with shape\n",
    "             (channels, numSamples).\n",
    "\n",
    "        Returns\n",
    "        -------\n",
    "        torch.Tensor\n",
    "            Audio samples with perturbed volume.\n",
    "        \"\"\"\n",
    "        if scale == 1.0:\n",
    "            return wav\n",
    "\n",
    "        return torch.clamp(wav * scale, -1.0, 1.0)\n",
    "\n",
    "    def addNoiseFromFile(\n",
    "        self, wav: Union[np.ndarray, torch.Tensor], noiseFile: str, snr: float,\n",
    "    ) -> torch.Tensor:\n",
    "        \"\"\"\n",
    "        Adds noise signal from provided noise audio file at the \n",
    "        specified SNR to the speech signal.\n",
    "        \n",
    "        Parameters\n",
    "        ----------\n",
    "        wav: Union[np.ndarray, torch.Tensor]\n",
    "             Audio samples scaled between -1.0 and +1.0, with shape\n",
    "             (channels, numSamples).\n",
    "\n",
    "        snr: float\n",
    "            Signal-to-Noise ratio at which to mix in the noise signal.\n",
    "        \n",
    "        Returns\n",
    "        -------\n",
    "        torch.Tensor\n",
    "            Audio samples with noise added at specified SNR.\n",
    "        \"\"\"\n",
    "        # Loading noise signal.\n",
    "        noiseSig = self.loadAudio(\n",
    "            noiseFile, sampleRate=self.sampleRate, returnTensor=True, resampleType=\"fast\",\n",
    "        )\n",
    "\n",
    "        # Computing noise power.\n",
    "        noisePower = torch.mean(torch.pow(noiseSig, 2))\n",
    "        \n",
    "        # Computing signal power.\n",
    "        signalPower = torch.mean(torch.pow(wav, 2))\n",
    "\n",
    "        # Noise Coefficient for target SNR; amplitude coeff is sqrt of power coeff.\n",
    "        noiseScale = torch.sqrt((signalPower / noisePower) / (10 ** (snr / 20.0)))\n",
    "        \n",
    "        # Add noise at random location in speech signal.\n",
    "        nWav, nNoise = wav.shape[-1], noiseSig.shape[-1]\n",
    "\n",
    "        if nWav < nNoise:\n",
    "            a = random.randint(0, nNoise-nWav)\n",
    "            b = a + nWav\n",
    "            return wav + (noiseSig[..., a:b] * noiseScale)\n",
    "        \n",
    "        a = random.randint(0, nWav-nNoise)\n",
    "        b = a + nNoise          \n",
    "        wav[..., a:b] += (noiseSig * noiseScale)\n",
    "\n",
    "        return wav\n",
    "    \n",
    "        \n",
    "    def applySoxEffects(self, wav: Union[np.ndarray, torch.Tensor], effects: List[List[str]]) -> torch.Tensor:\n",
    "        \"\"\"\n",
    "        Applies different audio manipulation effects to provided audio, like\n",
    "        speed and volume perturbation, reverberation etc. For a full list of\n",
    "        supported effects, check torchaudio.sox_effects.\n",
    "\n",
    "        Parameters\n",
    "        ----------\n",
    "        wav: Union[np.ndarray, torch.Tensor]\n",
    "             Audio samples scaled between -1.0 and +1.0, with shape\n",
    "             (channels, numSamples).\n",
    "        \n",
    "        effects: List[List[str]]\n",
    "            List of sox effects and associated arguments, example:\n",
    "            '[ [\"speed\", \"1.2\"], [\"vol\", \"0.5\"] ]'\n",
    "\n",
    "        Returns\n",
    "        -------\n",
    "        torch.Tensor\n",
    "            Audio samples with effects applied. May not be the same\n",
    "            number of samples as input sample array, depending on types\n",
    "            of effects applied (e.g. speed perturbation may reduce or\n",
    "            increase the number of samples).\n",
    "        \"\"\"\n",
    "        if effects is None or len(effects) == 0:\n",
    "            return wav\n",
    "\n",
    "        wav, _ = torchaudio.sox_effects.apply_effects_tensor(\n",
    "            wav, sample_rate=self.sampleRate, effects=effects,\n",
    "        )\n",
    "\n",
    "        return wav\n",
    "    \n",
    "    def perturbSpeed(self, wav: Union[np.ndarray, torch.Tensor], factor: float) -> torch.Tensor:\n",
    "        \"\"\"\n",
    "        Perturbs the speed of the provided audio signal by the given factor.\n",
    "        \n",
    "        Parameters\n",
    "        ----------\n",
    "        wav: Union[np.ndarray, torch.Tensor]\n",
    "             Audio samples scaled between -1.0 and +1.0, with shape\n",
    "             (channels, numSamples).\n",
    "\n",
    "        Returns\n",
    "        -------\n",
    "        torch.Tensor\n",
    "            Audio samples with perturbed speed. Will have more or less\n",
    "            samples than input depending on whether slowed down or\n",
    "            sped up.\n",
    "        \"\"\"\n",
    "        effects = [\n",
    "            [\"speed\", f\"{factor}\"],\n",
    "            [\"rate\", f\"{self.sampleRate}\"],\n",
    "        ]\n",
    "        \n",
    "        return self.applySoxEffects(wav, effects)\n",
    "    \n",
    "    def addReverb(\n",
    "        self, wav: Union[np.ndarray, torch.Tensor], roomSize: float, hfDamping: float, sustain: float,\n",
    "    ) -> torch.Tensor:\n",
    "        \"\"\"\n",
    "        Adds reverberation to the provided audio signal using given parameters.\n",
    "        \n",
    "        Parameters\n",
    "        ----------\n",
    "        wav: Union[np.ndarray, torch.Tensor]\n",
    "             Audio samples scaled between -1.0 and +1.0, with shape\n",
    "             (channels, numSamples).\n",
    "        \n",
    "        roomSize: float\n",
    "            Room size as a percentage between 0 and 100,\n",
    "            higher = more reverb\n",
    "\n",
    "        hfDamping: float\n",
    "            High Frequency damping as a percentage between 0 and 100,\n",
    "            higher = more damping.\n",
    "\n",
    "        sustain: float\n",
    "            How long reverb is sustained as a percentage between 0 and 100,\n",
    "            higher = lasts longer.\n",
    "\n",
    "        Returns\n",
    "        -------\n",
    "        torch.Tensor\n",
    "            Audio samples with reverberated audio.\n",
    "        \"\"\"\n",
    "        effects = [[\"reverb\", f\"{roomSize}\", f\"{hfDamping}\", f\"{sustain}\"]]\n",
    "        return self.applySoxEffects(wav, effects)"
   ]
  },
  {
   "cell_type": "markdown",
   "id": "6b8f217b",
   "metadata": {
    "papermill": {
     "duration": 0.01922,
     "end_time": "2023-08-13T10:53:20.258736",
     "exception": false,
     "start_time": "2023-08-13T10:53:20.239516",
     "status": "completed"
    },
    "tags": []
   },
   "source": [
    "- This PyTorch Dataset class uses the AudioConverter class to load audio files parallely."
   ]
  },
  {
   "cell_type": "code",
   "execution_count": 90,
   "id": "0ab5e737",
   "metadata": {
    "papermill": {
     "duration": 0.033201,
     "end_time": "2023-08-13T10:53:20.311251",
     "exception": false,
     "start_time": "2023-08-13T10:53:20.278050",
     "status": "completed"
    },
    "tags": []
   },
   "outputs": [],
   "source": [
    "class CompDataset(Dataset):\n",
    "        \n",
    "    def __init__(self, df, processor, audioConverter, loopDataset=1):\n",
    "        self.df = df\n",
    "        self.paths = df['id']\n",
    "        self.sentences = df['sentence']\n",
    "        self.len = len(self.df) * loopDataset\n",
    "\n",
    "        self.processor = processor\n",
    "        self.ac = audioConverter\n",
    "\n",
    "    def __len__(self):\n",
    "        return self.len\n",
    "\n",
    "    def loadSample(self, idx):\n",
    "        idx %= len(self.df)\n",
    "        audio_path = self.paths[idx]\n",
    "        sentence = self.sentences[idx]\n",
    "\n",
    "        wave = self.ac.getAudio(audio_path)[0]\n",
    "        input_values = processor(wave, sampling_rate=16000).input_values[0]\n",
    "\n",
    "        input_length = len(input_values)\n",
    "        with self.processor.as_target_processor():\n",
    "            labels = self.processor(sentence).input_ids\n",
    "\n",
    "        return {\n",
    "            'input_values':input_values,\n",
    "            'input_length':input_length,\n",
    "            'labels':labels\n",
    "        }\n",
    "\n",
    "    def __getitem__(self, idx): \n",
    "        if idx >= self.len:\n",
    "            raise IndexError('index out of range')\n",
    "        return self.loadSample(idx)"
   ]
  },
  {
   "cell_type": "code",
   "execution_count": 91,
   "id": "b4d8e8ab",
   "metadata": {
    "papermill": {
     "duration": 0.034465,
     "end_time": "2023-08-13T10:53:20.365001",
     "exception": false,
     "start_time": "2023-08-13T10:53:20.330536",
     "status": "completed"
    },
    "tags": []
   },
   "outputs": [],
   "source": [
    "@dataclass\n",
    "class DataCollatorCTCWithPadding:\n",
    "    \"\"\"\n",
    "    Data collator that will dynamically pad the inputs received.\n",
    "    Args:\n",
    "        processor (:class:`~transformers.Wav2Vec2Processor`)\n",
    "            The processor used for proccessing the data.\n",
    "        padding (:obj:`bool`, :obj:`str` or :class:`~transformers.tokenization_utils_base.PaddingStrategy`, `optional`, defaults to :obj:`True`):\n",
    "            Select a strategy to pad the returned sequences (according to the model's padding side and padding index)\n",
    "            among:\n",
    "            * :obj:`True` or :obj:`'longest'`: Pad to the longest sequence in the batch (or no padding if only a single\n",
    "              sequence if provided).\n",
    "            * :obj:`'max_length'`: Pad to a maximum length specified with the argument :obj:`max_length` or to the\n",
    "              maximum acceptable input length for the model if that argument is not provided.\n",
    "            * :obj:`False` or :obj:`'do_not_pad'` (default): No padding (i.e., can output a batch with sequences of\n",
    "              different lengths).\n",
    "    \"\"\"\n",
    "\n",
    "    processor: Wav2Vec2Processor\n",
    "    padding: Union[bool, str] = True\n",
    "\n",
    "    def __call__(self, features: List[Dict[str, Union[List[int], torch.Tensor]]]) -> Dict[str, torch.Tensor]:\n",
    "        # split inputs and labels since they have to be of different lenghts and need\n",
    "        # different padding methods\n",
    "        input_features = [{\"input_values\": feature[\"input_values\"]} for feature in features]\n",
    "        label_features = [{\"input_ids\": feature[\"labels\"]} for feature in features]\n",
    "\n",
    "        batch = self.processor.pad(\n",
    "            input_features,\n",
    "            padding=self.padding,\n",
    "            return_tensors=\"pt\",\n",
    "        )\n",
    "        with self.processor.as_target_processor():\n",
    "            labels_batch = self.processor.pad(\n",
    "                label_features,\n",
    "                padding=self.padding,\n",
    "                return_tensors=\"pt\",\n",
    "            )\n",
    "\n",
    "        # replace padding with -100 to ignore loss correctly\n",
    "        labels = labels_batch[\"input_ids\"].masked_fill(labels_batch.attention_mask.ne(1), -100)\n",
    "\n",
    "        batch[\"labels\"] = labels\n",
    "\n",
    "        return batch"
   ]
  },
  {
   "cell_type": "markdown",
   "id": "05b6e34c",
   "metadata": {
    "papermill": {
     "duration": 0.019464,
     "end_time": "2023-08-13T10:53:20.403828",
     "exception": false,
     "start_time": "2023-08-13T10:53:20.384364",
     "status": "completed"
    },
    "tags": []
   },
   "source": [
    "<a id=\"4\"></a> <br>\n",
    "## Main"
   ]
  },
  {
   "cell_type": "code",
   "execution_count": 92,
   "id": "a8ad351f",
   "metadata": {
    "papermill": {
     "duration": 0.032324,
     "end_time": "2023-08-13T10:53:20.455540",
     "exception": false,
     "start_time": "2023-08-13T10:53:20.423216",
     "status": "completed"
    },
    "tags": []
   },
   "outputs": [
    {
     "data": {
      "text/html": [
       "original: আমার আ,ম; ;?অনেক?! .ভাল: 'লাগে"
      ],
      "text/plain": [
       "<IPython.core.display.HTML object>"
      ]
     },
     "metadata": {},
     "output_type": "display_data"
    },
    {
     "data": {
      "text/html": [
       "puncs removed: আমার আ ম অনেক ভাল লাগে"
      ],
      "text/plain": [
       "<IPython.core.display.HTML object>"
      ]
     },
     "metadata": {},
     "output_type": "display_data"
    }
   ],
   "source": [
    "# Testing punctuation removal\n",
    "text = \"আমার আ,ম; ;?অনেক?! .ভাল: 'লাগে\"\n",
    "display(HTML(f\"original: {text}\"))\n",
    "display(HTML(f\"puncs removed: {removePunc(text)}\"))"
   ]
  },
  {
   "cell_type": "code",
   "execution_count": 93,
   "id": "658bf03c",
   "metadata": {
    "papermill": {
     "duration": 0.240856,
     "end_time": "2023-08-13T10:53:20.715894",
     "exception": false,
     "start_time": "2023-08-13T10:53:20.475038",
     "status": "completed"
    },
    "tags": []
   },
   "outputs": [
    {
     "name": "stdout",
     "output_type": "stream",
     "text": [
      "Train utts before filtering: 664220\n",
      "Train utts after filtering: 664220\n"
     ]
    }
   ],
   "source": [
    "# Loading metadata files.\n",
    "train_df = pd.read_csv(Config.train_csv_path)\n",
    "valid_df = pd.read_csv(Config.valid_csv_path)\n",
    "\n",
    "print(f\"Train utts before filtering: {len(train_df)}\")\n",
    "\n",
    "# Removing files that we encountered errors in a previous runs.\n",
    "train_df = train_df[~train_df['id'].isin(skipFiles)]\n",
    "train_df = train_df.reset_index()\n",
    "valid_df = valid_df.reset_index()\n",
    "\n",
    "print(f\"Train utts after filtering: {len(train_df)}\")"
   ]
  },
  {
   "cell_type": "markdown",
   "id": "a141f1dd",
   "metadata": {
    "papermill": {
     "duration": 0.019645,
     "end_time": "2023-08-13T10:53:20.756030",
     "exception": false,
     "start_time": "2023-08-13T10:53:20.736385",
     "status": "completed"
    },
    "tags": []
   },
   "source": [
    "<a id=\"4-1\"></a> <br>\n",
    "### Build Language Model\n",
    "\n",
    "- The language model is built using KenLM tooklit (https://github.com/kpu/kenlm).\n",
    "- We trained the LM separately. The Notebook can be found here : https://www.kaggle.com/code/mbmmurad/fork-of-creating-n-gram-language-model-for-wav2vec/notebook"
   ]
  },
  {
   "cell_type": "code",
   "execution_count": null,
   "id": "57796f3e-9078-42b1-8e08-1e8f81e66d5c",
   "metadata": {},
   "outputs": [],
   "source": [
    "# Apply unicode normalization.\n",
    "print(\"Normalizing training and validation transcripts... \")\n",
    "train_df[\"sentence\"] = [ normalizeUnicode(x) for x in tqdm(train_df[\"sentence\"]) ]\n",
    "valid_df[\"sentence\"] = [ normalizeUnicode(x) for x in tqdm(valid_df[\"sentence\"]) ]"
   ]
  },
  {
   "cell_type": "code",
   "execution_count": null,
   "id": "9a1090b8",
   "metadata": {
    "papermill": {
     "duration": 275.923109,
     "end_time": "2023-08-13T10:58:02.997585",
     "exception": false,
     "start_time": "2023-08-13T10:53:27.074476",
     "status": "completed"
    },
    "tags": []
   },
   "outputs": [],
   "source": [
    "\n",
    "\n",
    "# Updating paths to point to data directories.\n",
    "train_df[\"id\"] = [ os.path.join(Config.train_path, x.replace(\"mp3\", Config.audio_ext)) for x in train_df['id'] ]\n",
    "valid_df[\"id\"] = [ os.path.join(Config.valid_path, x.replace(\"mp3\", Config.audio_ext)) for x in valid_df['id'] ]\n",
    "\n",
    "# Keeping only audio filename and transcript columns.\n",
    "train_df = train_df[[\"id\",\"sentence\"]]\n",
    "valid_df = valid_df[[\"id\",\"sentence\"]]"
   ]
  },
  {
   "cell_type": "code",
   "execution_count": null,
   "id": "973a8592",
   "metadata": {
    "papermill": {
     "duration": 0.174197,
     "end_time": "2023-08-13T10:58:03.194159",
     "exception": false,
     "start_time": "2023-08-13T10:58:03.019962",
     "status": "completed"
    },
    "tags": []
   },
   "outputs": [],
   "source": [
    "# Checking a sample from the train dataframe.\n",
    "sample = train_df.iloc[random.randint(0, len(train_df))]\n",
    "\n",
    "display(HTML(sample['sentence']))\n",
    "\n",
    "x = AudioConverter.loadAudio(sample['id'], sampleRate=Config.sample_rate, returnTensor=False)\n",
    "display(Audio(x, rate=Config.sample_rate))"
   ]
  },
  {
   "cell_type": "code",
   "execution_count": null,
   "id": "fc1e91c6",
   "metadata": {
    "papermill": {
     "duration": 0.04118,
     "end_time": "2023-08-13T10:58:03.321868",
     "exception": false,
     "start_time": "2023-08-13T10:58:03.280688",
     "status": "completed"
    },
    "tags": []
   },
   "outputs": [],
   "source": [
    "from transformers import Wav2Vec2ForCTC, Wav2Vec2Processor\n",
    "\n",
    "# model = Wav2Vec2ForCTC.from_pretrained(\"Sameen53/CV_bn_trained_on_Train_0.3\", ctc_loss_reduction=\"mean\")\n",
    "# processorLM = Wav2Vec2ProcessorWithLM.from_pretrained(\"arijitx/wav2vec2-xls-r-300m-bengali\")\n",
    "processor = Wav2Vec2Processor.from_pretrained(\"ai4bharat/indicwav2vec_v1_bengali\")"
   ]
  },
  {
   "cell_type": "code",
   "execution_count": null,
   "id": "46daca28",
   "metadata": {
    "papermill": {
     "duration": 0.037847,
     "end_time": "2023-08-13T10:58:03.384377",
     "exception": false,
     "start_time": "2023-08-13T10:58:03.346530",
     "status": "completed"
    },
    "tags": []
   },
   "outputs": [],
   "source": [
    "# Creating dataset objects for train and val.\n",
    "disable_aug = not Config.use_augmentation\n",
    "loop_train_dataset = 2\n",
    "loop_val_datset = 1\n",
    "\n",
    "train_ac = AudioConverter(sampleRate=Config.sample_rate, disableAug=disable_aug, noiseFileList=train['id'].tolist())\n",
    "val_ac = AudioConverter(sampleRate=Config.sample_rate, disableAug=True)\n",
    "\n",
    "train_dataset = CompDataset(train_df, processor, train_ac, loop_train_dataset)\n",
    "valid_dataset = CompDataset(valid_df, processor, val_ac, loop_val_datset)\n",
    "\n",
    "data_collator = DataCollatorCTCWithPadding(processor=processor, padding=True)"
   ]
  },
  {
   "cell_type": "code",
   "execution_count": null,
   "id": "8606e4f2-0ad7-487a-8b78-c134f255fb9a",
   "metadata": {},
   "outputs": [],
   "source": [
    "vocab_dict_cn = processor.tokenizer.get_vocab()"
   ]
  },
  {
   "cell_type": "code",
   "execution_count": null,
   "id": "0b3e1398-43df-45f7-bfb9-3d371e7e8ff9",
   "metadata": {},
   "outputs": [],
   "source": [
    "vocab_dict_nc={v:k for k,v in vocab_dict_cn.items()}\n",
    "vocab = list(vocab_dict_cn.keys())\n",
    "\n",
    "with open('vocab.json', 'w') as f:\n",
    "    json.dump(vocab_dict_cn, f)\n",
    "    \n",
    "print(f\"vocabulary size = {len(vocab)}\")"
   ]
  },
  {
   "cell_type": "code",
   "execution_count": null,
   "id": "0c71f45d",
   "metadata": {
    "papermill": {
     "duration": 1.731268,
     "end_time": "2023-08-13T10:58:05.140343",
     "exception": false,
     "start_time": "2023-08-13T10:58:03.409075",
     "status": "completed"
    },
    "tags": []
   },
   "outputs": [],
   "source": [
    "# Checking sample from dataset.\n",
    "sample = train_dataset[123]\n",
    "pprint(sample)\n",
    "\n",
    "x = sample['input_values']\n",
    "y = [ vocab_dict_nc[x] for x in sample['labels'] ]\n",
    "\n",
    "display(HTML(str(y)))\n",
    "display(Audio(x, rate=Config.sample_rate))"
   ]
  },
  {
   "cell_type": "markdown",
   "id": "6b670f05",
   "metadata": {
    "papermill": {
     "duration": 0.050826,
     "end_time": "2023-08-13T10:58:05.249147",
     "exception": false,
     "start_time": "2023-08-13T10:58:05.198321",
     "status": "completed"
    },
    "tags": []
   },
   "source": [
    "### Callback for computing metrics"
   ]
  },
  {
   "cell_type": "code",
   "execution_count": null,
   "id": "3d6b3a3e",
   "metadata": {
    "papermill": {
     "duration": 0.155932,
     "end_time": "2023-08-13T10:58:05.447112",
     "exception": false,
     "start_time": "2023-08-13T10:58:05.291180",
     "status": "completed"
    },
    "tags": []
   },
   "outputs": [],
   "source": [
    "wer_metric = load_metric(\"deps//metrics/metrics/wer.py\")\n",
    "cer_metric = load_metric(\"deps//metrics/metrics/cer.py\")\n",
    "\n",
    "def compute_metrics(pred):\n",
    "    pred_logits = pred.predictions\n",
    "    pred_ids = np.argmax(pred_logits, axis=-1)\n",
    "\n",
    "    pred.label_ids[pred.label_ids == -100] = processor.tokenizer.pad_token_id\n",
    "    \n",
    "    # We do not want to group tokens when computing the metrics\n",
    "    pred_str = processor.batch_decode(pred_ids)\n",
    "    label_str = processor.batch_decode(pred.label_ids, group_tokens=False)\n",
    "\n",
    "    wer = wer_metric.compute(predictions=pred_str, references=label_str)\n",
    "    cer = cer_metric.compute(predictions=pred_str, references=label_str)\n",
    "\n",
    "    return {\"wer\": wer, \"cer\": cer}"
   ]
  },
  {
   "cell_type": "markdown",
   "id": "dacd871f",
   "metadata": {
    "papermill": {
     "duration": 0.038802,
     "end_time": "2023-08-13T10:58:05.525411",
     "exception": false,
     "start_time": "2023-08-13T10:58:05.486609",
     "status": "completed"
    },
    "tags": []
   },
   "source": [
    "<a id=\"4-2\"></a> <br>\n",
    "### Loading base Wav2Vec2 model from HuggingFace\n",
    "\n",
    "- We use a pretrained Wav2Vec2 model from Hugging Face as a starting point.\n",
    "- Model Link: https://huggingface.co/ai4bharat/indicwav2vec_v1_bengali\n",
    "- The datasets and pretraining can be found here : https://github.com/AI4Bharat/IndicWav2Vec"
   ]
  },
  {
   "cell_type": "code",
   "execution_count": null,
   "id": "60b5dda5-21ee-4d9d-9991-c6a1903c2469",
   "metadata": {},
   "outputs": [],
   "source": [
    "from transformers import Wav2Vec2ConformerForCTC"
   ]
  },
  {
   "cell_type": "code",
   "execution_count": null,
   "id": "c634dade",
   "metadata": {
    "papermill": {
     "duration": 12.480343,
     "end_time": "2023-08-13T10:58:18.044078",
     "exception": false,
     "start_time": "2023-08-13T10:58:05.563735",
     "status": "completed"
    },
    "tags": []
   },
   "outputs": [],
   "source": [
    "base_model = \"ai4bharat/indicwav2vec_v1_bengali\"\n",
    "\n",
    "# Loading model.\n",
    "model = Wav2Vec2ForCTC.from_pretrained(\n",
    "    base_model, \n",
    "    resume_download=True,\n",
    "    ignore_mismatched_sizes=True,\n",
    "    attention_dropout=Config.attention_dropout,\n",
    "    hidden_dropout=Config.hidden_dropout,\n",
    "    feat_proj_dropout=Config.feat_proj_dropout,\n",
    "    mask_time_prob=Config.mask_time_prob,\n",
    "    layerdrop=Config.layerdrop,\n",
    "    ctc_loss_reduction=\"mean\", \n",
    "    pad_token_id=processor.tokenizer.pad_token_id,\n",
    "    vocab_size=len(processor.tokenizer),\n",
    ")\n",
    "\n",
    "# Freezing encoder layers.\n",
    "model.freeze_feature_encoder()\n",
    "model.config.ctc_zero_infinity = True\n",
    "model.config.diversity_loss_weight=100\n",
    "\n",
    "# Printing stats.\n",
    "total_param = sum(p.numel() for p in model.parameters())\n",
    "trainable_param = sum(p.numel() for p in model.parameters() if p.requires_grad)\n",
    "print(f\"total_param = {total_param}\")\n",
    "print(f\"trainable = {trainable_param}\")"
   ]
  },
  {
   "cell_type": "markdown",
   "id": "8bcf762d",
   "metadata": {
    "papermill": {
     "duration": 0.026271,
     "end_time": "2023-08-13T10:58:18.096730",
     "exception": false,
     "start_time": "2023-08-13T10:58:18.070459",
     "status": "completed"
    },
    "tags": []
   },
   "source": [
    "<a id=\"4-3\"></a> <br>\n",
    "### Adapting Wav2Vec2 Model\n",
    "\n",
    "- First run with cosine lr decay schedule, dropouts enabled"
   ]
  },
  {
   "cell_type": "code",
   "execution_count": null,
   "id": "61e38084",
   "metadata": {
    "papermill": {
     "duration": 4.765237,
     "end_time": "2023-08-13T10:58:22.888463",
     "exception": false,
     "start_time": "2023-08-13T10:58:18.123226",
     "status": "completed"
    },
    "tags": []
   },
   "outputs": [],
   "source": [
    "trainer = Trainer(\n",
    "    model=model,\n",
    "    data_collator=data_collator,\n",
    "    args=Config.trainer,\n",
    "    compute_metrics=compute_metrics,\n",
    "    train_dataset=train_dataset,\n",
    "    eval_dataset=valid_dataset,   \n",
    "    tokenizer=processor.feature_extractor,\n",
    "    callbacks=[transformers.EarlyStoppingCallback(early_stopping_patience=Config.early_stopping_patience)],\n",
    ")"
   ]
  },
  {
   "cell_type": "code",
   "execution_count": null,
   "id": "3e598d39-c5ad-4e7e-ace6-04446c4c4fbf",
   "metadata": {},
   "outputs": [],
   "source": [
    "import gc\n",
    "gc.collect()\n",
    "gc.collect()\n",
    "gc.collect()"
   ]
  },
  {
   "cell_type": "code",
   "execution_count": null,
   "id": "064ec66c-4145-463e-9c6d-b1535b03113b",
   "metadata": {},
   "outputs": [],
   "source": [
    "!nvidia-smi"
   ]
  },
  {
   "cell_type": "code",
   "execution_count": null,
   "id": "3afcfb0c",
   "metadata": {
    "papermill": {
     "duration": null,
     "end_time": null,
     "exception": false,
     "start_time": "2023-08-13T10:58:22.914700",
     "status": "running"
    },
    "tags": []
   },
   "outputs": [],
   "source": [
    "trainer.train()"
   ]
  },
  {
   "cell_type": "code",
   "execution_count": null,
   "id": "2042847c-156d-431f-8e09-739043ee49bd",
   "metadata": {},
   "outputs": [],
   "source": [
    "trainer.save_model(\"best_model\")"
   ]
  },
  {
   "cell_type": "code",
   "execution_count": null,
   "id": "014a5424-2fb6-478d-ae11-5e8d74d16d26",
   "metadata": {},
   "outputs": [],
   "source": []
  }
 ],
 "metadata": {
  "kernelspec": {
   "display_name": "Python 3 (ipykernel)",
   "language": "python",
   "name": "python3"
  },
  "language_info": {
   "codemirror_mode": {
    "name": "ipython",
    "version": 3
   },
   "file_extension": ".py",
   "mimetype": "text/x-python",
   "name": "python",
   "nbconvert_exporter": "python",
   "pygments_lexer": "ipython3",
   "version": "3.8.10"
  },
  "papermill": {
   "default_parameters": {},
   "duration": null,
   "end_time": null,
   "environment_variables": {},
   "exception": null,
   "input_path": "__notebook__.ipynb",
   "output_path": "__notebook__.ipynb",
   "parameters": {},
   "start_time": "2023-08-13T10:50:26.038584",
   "version": "2.3.4"
  },
  "widgets": {
   "application/vnd.jupyter.widget-state+json": {
    "state": {},
    "version_major": 2,
    "version_minor": 0
   }
  }
 },
 "nbformat": 4,
 "nbformat_minor": 5
}
